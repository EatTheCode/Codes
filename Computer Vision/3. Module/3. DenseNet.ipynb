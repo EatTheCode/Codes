{
 "cells": [
  {
   "cell_type": "markdown",
   "metadata": {},
   "source": [
    "feature map과 convolution map이 결합되어 들어감\n",
    "즉 컨볼루션 될때마다 더해짐\n",
    "그리고 마지막 층에서 정리해서 출력됨\n",
    "\n",
    "장점 : 이전 특징들을 기억함\n",
    "back propagation에서 loss 값이 vanishing 되는것을 방지해줌(batch normalization 과 같은 원리)\n",
    "back propagation으로 모든 가중치 업데이트 가능\n",
    "\n",
    "이전 layer들의 feature map을 계속해서 다음 layer의 입력과 연결하는\n",
    "방식이며 이러한 방식은 ResNet에서도 사용이 되었습니다. 다만\n",
    "ResNet은 feature map 끼리 더하기 를 해주는 방식이었다면 DenseNet은\n",
    "feature map끼리 Concatenation 을 시키는 것이 가장 큰 차이점\n",
    "\n",
    "dense net은 feature map의 재활용 따라서 back propagation이 수월하다\n",
    "\n",
    "\n",
    "groth rate 는 channel 갯수가 점점 많아지는 범위\n",
    " DenseNet에서는 각 layer의 feature map의 channel 개수를 굉장히\n",
    "작은 값을 사용하며, 이 때 각 layer의 feature map의 channel 개수를 growth\n",
    "rate(k) 이라 함\n",
    "\n",
    "LeNet VGG Inception Dense Net 파악이 중요"
   ]
  },
  {
   "cell_type": "markdown",
   "metadata": {},
   "source": [
    "                                1x1 컨볼루션이란\n",
    "\n",
    "3x3 채널이 3개 있다고 가정했을때 각각의 피쳐맵들을 다 더해서 하나의 피쳐맵으로 만들어서 하나의 가중치들로 만든다\n",
    "하나의 픽셀씩 출력\n",
    "\n",
    "즉 \n",
    "(3, 3, 3) * (1, 1, 1) = (3, 3, 1) 이 된다\n",
    "많은 채널의 피쳐맵을 효과적으로 줄일 수가 있다\n",
    "\n",
    "n개의 feature map만큼 나온다\n"
   ]
  },
  {
   "cell_type": "markdown",
   "metadata": {},
   "source": [
    "googlenet\n",
    "\n",
    "1x1 , 3x3 , 5x5, 3x3maxpooling 을 각각 계산해서 합치는것을 의미한다\n",
    "즉 각각의 보는 값을 점점 크게 해서 모은 값을 모아서 합하는것을 의미한다\n",
    "(데이터의 사이즈는 변하지 않는다)\n",
    "\n",
    "같은 개념을 이용하여 feature map갯수를 1x1 컨볼루션으로 정리한후 다시 늘려주는 방식을 bottle neck layer라 한다\n",
    "\n",
    "결국에 이런식으로 학습하는것은 변화량을 학습 시키는 방식이다+\n",
    "\n",
    "residual 이란 relu를 사용해서 없어진 음수의 값이나 변하지 않은값에 일정 값을 더하여 변화량 만을 학습한다."
   ]
  }
 ],
 "metadata": {
  "kernelspec": {
   "display_name": "Python 3",
   "language": "python",
   "name": "python3"
  },
  "language_info": {
   "codemirror_mode": {
    "name": "ipython",
    "version": 3
   },
   "file_extension": ".py",
   "mimetype": "text/x-python",
   "name": "python",
   "nbconvert_exporter": "python",
   "pygments_lexer": "ipython3",
   "version": "3.7.0"
  }
 },
 "nbformat": 4,
 "nbformat_minor": 4
}
