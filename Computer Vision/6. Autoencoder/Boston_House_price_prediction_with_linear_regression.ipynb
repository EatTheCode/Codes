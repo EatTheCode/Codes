{
  "nbformat": 4,
  "nbformat_minor": 0,
  "metadata": {
    "colab": {
      "name": "Boston House price prediction with linear regression.ipynb",
      "provenance": [],
      "collapsed_sections": []
    },
    "language_info": {
      "codemirror_mode": {
        "name": "ipython",
        "version": 3
      },
      "file_extension": ".py",
      "mimetype": "text/x-python",
      "name": "python",
      "nbconvert_exporter": "python",
      "pygments_lexer": "ipython3",
      "version": "3.6.6"
    },
    "kernelspec": {
      "name": "python3",
      "display_name": "Python 3"
    },
    "accelerator": "GPU"
  },
  "cells": [
    {
      "cell_type": "code",
      "metadata": {
        "id": "UqHDFjUaGvdF",
        "colab_type": "code",
        "outputId": "dade178c-3e27-478f-99b7-7a0036324f6c",
        "colab": {
          "base_uri": "https://localhost:8080/",
          "height": 52
        }
      },
      "source": [
        "import keras\n",
        "keras.__version__"
      ],
      "execution_count": 0,
      "outputs": [
        {
          "output_type": "stream",
          "text": [
            "Using TensorFlow backend.\n"
          ],
          "name": "stderr"
        },
        {
          "output_type": "execute_result",
          "data": {
            "text/plain": [
              "'2.3.1'"
            ]
          },
          "metadata": {
            "tags": []
          },
          "execution_count": 1
        }
      ]
    },
    {
      "cell_type": "code",
      "metadata": {
        "id": "ZPhdC0uyGvdK",
        "colab_type": "code",
        "outputId": "5ada48e1-8736-4bbf-b171-9452dfb1a1f5",
        "colab": {
          "base_uri": "https://localhost:8080/",
          "height": 52
        }
      },
      "source": [
        "from keras.datasets import boston_housing\n",
        "(train_data, train_targets), (test_data, test_targets) =  boston_housing.load_data()"
      ],
      "execution_count": 0,
      "outputs": [
        {
          "output_type": "stream",
          "text": [
            "Downloading data from https://s3.amazonaws.com/keras-datasets/boston_housing.npz\n",
            "57344/57026 [==============================] - 0s 3us/step\n"
          ],
          "name": "stdout"
        }
      ]
    },
    {
      "cell_type": "code",
      "metadata": {
        "id": "p9Icr5w7pWov",
        "colab_type": "code",
        "outputId": "48ca81c9-6336-4679-f1aa-7c273e3b8fd7",
        "colab": {
          "base_uri": "https://localhost:8080/",
          "height": 34
        }
      },
      "source": [
        "print (train_data.shape, train_targets.shape)"
      ],
      "execution_count": 0,
      "outputs": [
        {
          "output_type": "stream",
          "text": [
            "(404, 13) (404,)\n"
          ],
          "name": "stdout"
        }
      ]
    },
    {
      "cell_type": "markdown",
      "metadata": {
        "id": "njRV9Adas6q_",
        "colab_type": "text"
      },
      "source": [
        ""
      ]
    },
    {
      "cell_type": "code",
      "metadata": {
        "id": "Neyix7Z6pPhw",
        "colab_type": "code",
        "outputId": "3f89404c-4c64-47df-e272-50e2a797c63a",
        "colab": {
          "base_uri": "https://localhost:8080/",
          "height": 52
        }
      },
      "source": [
        "print (train_data[0], train_targets[0])"
      ],
      "execution_count": 0,
      "outputs": [
        {
          "output_type": "stream",
          "text": [
            "[  1.23247   0.        8.14      0.        0.538     6.142    91.7\n",
            "   3.9769    4.      307.       21.      396.9      18.72   ] 15.2\n"
          ],
          "name": "stdout"
        }
      ]
    },
    {
      "cell_type": "code",
      "metadata": {
        "id": "y5c2uKqPGvdM",
        "colab_type": "code",
        "outputId": "45d576f4-6886-4a43-c8b3-ab21667b05c9",
        "colab": {
          "base_uri": "https://localhost:8080/",
          "height": 35
        }
      },
      "source": [
        "print (train_targets[0])"
      ],
      "execution_count": 0,
      "outputs": [
        {
          "output_type": "stream",
          "text": [
            "15.2\n"
          ],
          "name": "stdout"
        }
      ]
    },
    {
      "cell_type": "markdown",
      "metadata": {
        "id": "E7kbL2rlGvdQ",
        "colab_type": "text"
      },
      "source": [
        "여기서 볼 수 있듯이 404개의 훈련 샘플과 102개의 테스트 샘플이 있고 모두 13개의 수치 특성을 가지고 있습니다. 13개의 특성은 다음과 같습니다:\n",
        "\n",
        "1. Per capita crime rate.\n",
        "2. Proportion of residential land zoned for lots over 25,000 square feet.\n",
        "3. Proportion of non-retail business acres per town.\n",
        "4. Charles River dummy variable (= 1 if tract bounds river; 0 otherwise).\n",
        "5. Nitric oxides concentration (parts per 10 million).\n",
        "6. Average number of rooms per dwelling.\n",
        "7. Proportion of owner-occupied units built prior to 1940.\n",
        "8. Weighted distances to five Boston employment centres.\n",
        "9. Index of accessibility to radial highways.\n",
        "10. Full-value property-tax rate per $10,000.\n",
        "11. Pupil-teacher ratio by town.\n",
        "12. 1000 * (Bk - 0.63) ** 2 where Bk is the proportion of Black people by town.\n",
        "13. % lower status of the population.\n",
        "\n",
        "타깃은 주택의 중간 가격으로 천달러 단위입니다:"
      ]
    },
    {
      "cell_type": "markdown",
      "metadata": {
        "id": "w90hvrDLLFVZ",
        "colab_type": "text"
      },
      "source": [
        "Data Normalization "
      ]
    },
    {
      "cell_type": "code",
      "metadata": {
        "id": "usLTgkuQGvdT",
        "colab_type": "code",
        "colab": {}
      },
      "source": [
        "mean = train_data.mean(axis=0)\n",
        "train_data -= mean\n",
        "std = train_data.std(axis=0)\n",
        "train_data /= std\n",
        "\n",
        "test_data -= mean\n",
        "test_data /= std"
      ],
      "execution_count": 0,
      "outputs": []
    },
    {
      "cell_type": "code",
      "metadata": {
        "id": "u9msJIjpGvdW",
        "colab_type": "code",
        "colab": {}
      },
      "source": [
        "from keras import models\n",
        "from keras import layers\n",
        "\n",
        "def build_model():\n",
        "    # 동일한 모델을 여러 번 생성할 것이므로 함수를 만들어 사용합니다\n",
        "    model = models.Sequential()\n",
        "    model.add(layers.Dense(64, activation='relu',\n",
        "                           input_shape=(train_data.shape[1],)))\n",
        "    model.add(layers.Dense(32, activation='relu'))\n",
        "    model.add(layers.Dense(1))\n",
        "    model.compile(optimizer='rmsprop', loss='mse', metrics=['mae'])\n",
        "    return model"
      ],
      "execution_count": 0,
      "outputs": []
    },
    {
      "cell_type": "markdown",
      "metadata": {
        "id": "1Cgsm0f9LahI",
        "colab_type": "text"
      },
      "source": [
        "마지막 레어에는 Activation function이 없습니다. 회귀 문제(어떤 값을 예측하는 문제)를 풀때 이와 같이 구성합니다.\n",
        "평균 제곱 오차 (mean squared error)\n",
        "절대 평균 오차 (mean absolute error)\n",
        "\n",
        "0.5 indicate $500"
      ]
    },
    {
      "cell_type": "markdown",
      "metadata": {
        "id": "N6yCqXwKL2Iu",
        "colab_type": "text"
      },
      "source": [
        "**K-Fold Validation**"
      ]
    },
    {
      "cell_type": "code",
      "metadata": {
        "id": "MXlk05a0Gvda",
        "colab_type": "code",
        "outputId": "2a19c339-6471-4996-9a9b-c26d314644ac",
        "colab": {
          "base_uri": "https://localhost:8080/",
          "height": 1000
        }
      },
      "source": [
        "import numpy as np\n",
        "\n",
        "k = 4\n",
        "num_val_samples = len(train_data) // k\n",
        "num_epochs = 10\n",
        "all_scores = []\n",
        "for i in range(k):\n",
        "    print('처리중인 폴드 #', i)\n",
        "    # 검증 데이터 준비: k번째 분할\n",
        "    val_data = train_data[i * num_val_samples: (i + 1) * num_val_samples]\n",
        "    val_targets = train_targets[i * num_val_samples: (i + 1) * num_val_samples]\n",
        "\n",
        "    # 훈련 데이터 준비: 다른 분할 전체\n",
        "    partial_train_data = np.concatenate(\n",
        "        [train_data[:i * num_val_samples],\n",
        "         train_data[(i + 1) * num_val_samples:]\n",
        "        ], axis=0)\n",
        "\n",
        "    \n",
        "    partial_train_targets = np.concatenate(\n",
        "        [train_targets[:i * num_val_samples],\n",
        "         train_targets[(i + 1) * num_val_samples:]],\n",
        "        axis=0)\n",
        "\n",
        "    # 케라스 모델 구성(컴파일 포함)\n",
        "    model = build_model()\n",
        "    # 모델 훈련(verbose=0 이므로 훈련 과정이 출력되지 않습니다)\n",
        "    model.fit(partial_train_data, partial_train_targets,\n",
        "              epochs=num_epochs, batch_size=10, verbose=1)\n",
        "    \n",
        "    # 검증 세트로 모델 평가\n",
        "    val_mse, val_mae = model.evaluate(val_data, val_targets, verbose=0)\n",
        "    all_scores.append(val_mae)"
      ],
      "execution_count": 0,
      "outputs": [
        {
          "output_type": "stream",
          "text": [
            "처리중인 폴드 # 0\n",
            "Epoch 1/10\n",
            "303/303 [==============================] - 2s 6ms/step - loss: 530.9065 - mae: 21.2676\n",
            "Epoch 2/10\n",
            "303/303 [==============================] - 0s 311us/step - loss: 399.7762 - mae: 18.1089\n",
            "Epoch 3/10\n",
            "303/303 [==============================] - 0s 341us/step - loss: 247.7853 - mae: 13.4993\n",
            "Epoch 4/10\n",
            "303/303 [==============================] - 0s 347us/step - loss: 121.2819 - mae: 8.6444\n",
            "Epoch 5/10\n",
            "303/303 [==============================] - 0s 329us/step - loss: 61.0237 - mae: 5.8500\n",
            "Epoch 6/10\n",
            "303/303 [==============================] - 0s 330us/step - loss: 39.8628 - mae: 4.5701\n",
            "Epoch 7/10\n",
            "303/303 [==============================] - 0s 339us/step - loss: 29.4832 - mae: 3.8457\n",
            "Epoch 8/10\n",
            "303/303 [==============================] - 0s 358us/step - loss: 24.9350 - mae: 3.5213\n",
            "Epoch 9/10\n",
            "303/303 [==============================] - 0s 408us/step - loss: 22.2344 - mae: 3.2870\n",
            "Epoch 10/10\n",
            "303/303 [==============================] - 0s 351us/step - loss: 20.0862 - mae: 3.1009\n",
            "처리중인 폴드 # 1\n",
            "Epoch 1/10\n",
            "303/303 [==============================] - 0s 530us/step - loss: 557.3928 - mae: 21.6514\n",
            "Epoch 2/10\n",
            "303/303 [==============================] - 0s 299us/step - loss: 432.1803 - mae: 18.5812\n",
            "Epoch 3/10\n",
            "303/303 [==============================] - 0s 359us/step - loss: 288.8048 - mae: 14.4730\n",
            "Epoch 4/10\n",
            "303/303 [==============================] - 0s 332us/step - loss: 158.2031 - mae: 9.8478\n",
            "Epoch 5/10\n",
            "303/303 [==============================] - 0s 310us/step - loss: 83.2304 - mae: 6.9298\n",
            "Epoch 6/10\n",
            "303/303 [==============================] - 0s 318us/step - loss: 54.0594 - mae: 5.5896\n",
            "Epoch 7/10\n",
            "303/303 [==============================] - 0s 334us/step - loss: 38.2434 - mae: 4.5367\n",
            "Epoch 8/10\n",
            "303/303 [==============================] - 0s 328us/step - loss: 29.1552 - mae: 3.8174\n",
            "Epoch 9/10\n",
            "303/303 [==============================] - 0s 305us/step - loss: 24.5506 - mae: 3.4710\n",
            "Epoch 10/10\n",
            "303/303 [==============================] - 0s 315us/step - loss: 20.9832 - mae: 3.1949\n",
            "처리중인 폴드 # 2\n",
            "Epoch 1/10\n",
            "303/303 [==============================] - 0s 528us/step - loss: 541.4286 - mae: 21.2451\n",
            "Epoch 2/10\n",
            "303/303 [==============================] - 0s 300us/step - loss: 399.4664 - mae: 17.9137\n",
            "Epoch 3/10\n",
            "303/303 [==============================] - 0s 291us/step - loss: 246.6077 - mae: 13.4193\n",
            "Epoch 4/10\n",
            "303/303 [==============================] - 0s 298us/step - loss: 115.1432 - mae: 8.4392\n",
            "Epoch 5/10\n",
            "303/303 [==============================] - 0s 389us/step - loss: 54.6077 - mae: 5.5125\n",
            "Epoch 6/10\n",
            "303/303 [==============================] - 0s 332us/step - loss: 35.1453 - mae: 4.3619\n",
            "Epoch 7/10\n",
            "303/303 [==============================] - 0s 318us/step - loss: 26.4241 - mae: 3.7291\n",
            "Epoch 8/10\n",
            "303/303 [==============================] - 0s 430us/step - loss: 22.5261 - mae: 3.4178\n",
            "Epoch 9/10\n",
            "303/303 [==============================] - 0s 411us/step - loss: 20.2062 - mae: 3.2526\n",
            "Epoch 10/10\n",
            "303/303 [==============================] - 0s 347us/step - loss: 18.3467 - mae: 3.1116\n",
            "처리중인 폴드 # 3\n",
            "Epoch 1/10\n",
            "303/303 [==============================] - 0s 512us/step - loss: 478.8571 - mae: 19.9460\n",
            "Epoch 2/10\n",
            "303/303 [==============================] - 0s 329us/step - loss: 344.5339 - mae: 16.4527\n",
            "Epoch 3/10\n",
            "303/303 [==============================] - 0s 394us/step - loss: 184.0343 - mae: 11.3074\n",
            "Epoch 4/10\n",
            "303/303 [==============================] - 0s 342us/step - loss: 74.7950 - mae: 6.6119\n",
            "Epoch 5/10\n",
            "303/303 [==============================] - 0s 304us/step - loss: 43.2505 - mae: 4.7577\n",
            "Epoch 6/10\n",
            "303/303 [==============================] - 0s 302us/step - loss: 32.6884 - mae: 3.9895\n",
            "Epoch 7/10\n",
            "303/303 [==============================] - 0s 299us/step - loss: 26.7598 - mae: 3.5606\n",
            "Epoch 8/10\n",
            "303/303 [==============================] - 0s 318us/step - loss: 22.7449 - mae: 3.2762\n",
            "Epoch 9/10\n",
            "303/303 [==============================] - 0s 349us/step - loss: 19.9184 - mae: 3.0153\n",
            "Epoch 10/10\n",
            "303/303 [==============================] - 0s 302us/step - loss: 18.1486 - mae: 2.8772\n"
          ],
          "name": "stdout"
        }
      ]
    },
    {
      "cell_type": "code",
      "metadata": {
        "id": "eh31OUJSGvdd",
        "colab_type": "code",
        "outputId": "5c4eda64-98b9-43d9-cf6b-5dd6b65ebe5d",
        "colab": {
          "base_uri": "https://localhost:8080/",
          "height": 87
        }
      },
      "source": [
        "all_scores"
      ],
      "execution_count": 0,
      "outputs": [
        {
          "output_type": "execute_result",
          "data": {
            "text/plain": [
              "[2.7441768646240234,\n",
              " 3.2650225162506104,\n",
              " 3.2891643047332764,\n",
              " 3.4706902503967285]"
            ]
          },
          "metadata": {
            "tags": []
          },
          "execution_count": 11
        }
      ]
    },
    {
      "cell_type": "code",
      "metadata": {
        "id": "-gwFdePGGvdf",
        "colab_type": "code",
        "outputId": "53e8d6a7-f31a-48ee-c464-7c19da23fc22",
        "colab": {
          "base_uri": "https://localhost:8080/",
          "height": 34
        }
      },
      "source": [
        "np.mean(all_scores)"
      ],
      "execution_count": 0,
      "outputs": [
        {
          "output_type": "execute_result",
          "data": {
            "text/plain": [
              "3.1922634840011597"
            ]
          },
          "metadata": {
            "tags": []
          },
          "execution_count": 12
        }
      ]
    },
    {
      "cell_type": "code",
      "metadata": {
        "id": "MdGdu3jKveRp",
        "colab_type": "code",
        "colab": {}
      },
      "source": [
        "# 아래 모델은 k fold cross validation에서 마지막에 훈련된 모델입니다.\n",
        "# 본 실습에서 별도의 test data set을 구성하지 않았기 때문에, vadliation data set을 이용해 house price 를 예측prediction 해보겠습니다.\n",
        "\n",
        "predictedHousePrice = model.predict(val_data)"
      ],
      "execution_count": 0,
      "outputs": []
    },
    {
      "cell_type": "code",
      "metadata": {
        "id": "H1ctCdnGWzY0",
        "colab_type": "code",
        "outputId": "b6cc2d85-c640-4e9c-8c1f-0a84afce8074",
        "colab": {
          "base_uri": "https://localhost:8080/",
          "height": 34
        }
      },
      "source": [
        "# validation set 은 100개의 데이터 셋으로 구성되어 있습니다만 아래와 같이 1대1 비교를 해보겠습니다.\n",
        "# val_data[0] 에 대한 예측값 predictedHousePrice[0]\n",
        "# val_data[0] 에 대한 실제값 val_targets[0]\n",
        "print (predictedHousePrice[0], val_targets[0])"
      ],
      "execution_count": 0,
      "outputs": [
        {
          "output_type": "stream",
          "text": [
            "[27.926584] 36.2\n"
          ],
          "name": "stdout"
        }
      ]
    },
    {
      "cell_type": "code",
      "metadata": {
        "id": "XB0TV5IitcUF",
        "colab_type": "code",
        "colab": {}
      },
      "source": [
        "new_data = [1.47, 0.0, 8.14, 0.0, 0.53, 6.1, 91.7, 4.9769,  4.12,  307.6 ,  22,  296.9, 18.72]"
      ],
      "execution_count": 0,
      "outputs": []
    },
    {
      "cell_type": "code",
      "metadata": {
        "id": "kh8kQU9vtuqq",
        "colab_type": "code",
        "outputId": "18801b18-f274-41fd-e256-7710ad00a93e",
        "colab": {
          "base_uri": "https://localhost:8080/",
          "height": 34
        }
      },
      "source": [
        "new_data"
      ],
      "execution_count": 0,
      "outputs": [
        {
          "output_type": "execute_result",
          "data": {
            "text/plain": [
              "[1.47, 0.0, 8.14, 0.0, 0.53, 6.1, 91.7, 4.9769, 4.12, 307.6, 22, 296.9, 18.72]"
            ]
          },
          "metadata": {
            "tags": []
          },
          "execution_count": 17
        }
      ]
    },
    {
      "cell_type": "code",
      "metadata": {
        "id": "SbTaFy0tt_FI",
        "colab_type": "code",
        "colab": {}
      },
      "source": [
        "new_data -= mean\n",
        "new_data /= std"
      ],
      "execution_count": 0,
      "outputs": []
    },
    {
      "cell_type": "code",
      "metadata": {
        "id": "9q8yTSgiIKcE",
        "colab_type": "code",
        "outputId": "471a2f37-937d-441c-e3ef-b783206db7fb",
        "colab": {
          "base_uri": "https://localhost:8080/",
          "height": 34
        }
      },
      "source": [
        "print (new_data.shape)"
      ],
      "execution_count": 0,
      "outputs": [
        {
          "output_type": "stream",
          "text": [
            "(13,)\n"
          ],
          "name": "stdout"
        }
      ]
    },
    {
      "cell_type": "code",
      "metadata": {
        "id": "bJEPRB9fuDmp",
        "colab_type": "code",
        "colab": {}
      },
      "source": [
        "new_data = np.asarray(new_data)"
      ],
      "execution_count": 0,
      "outputs": []
    },
    {
      "cell_type": "code",
      "metadata": {
        "id": "MV6kjcR-uMYp",
        "colab_type": "code",
        "colab": {}
      },
      "source": [
        "new_data = np.expand_dims(new_data, axis=0)"
      ],
      "execution_count": 0,
      "outputs": []
    },
    {
      "cell_type": "code",
      "metadata": {
        "id": "GabovQGrIWuD",
        "colab_type": "code",
        "outputId": "21a8b00d-49b1-45d3-89e4-c347f38aad0b",
        "colab": {
          "base_uri": "https://localhost:8080/",
          "height": 35
        }
      },
      "source": [
        "print (new_data.shape)"
      ],
      "execution_count": 0,
      "outputs": [
        {
          "output_type": "stream",
          "text": [
            "(1, 13)\n"
          ],
          "name": "stdout"
        }
      ]
    },
    {
      "cell_type": "code",
      "metadata": {
        "id": "cq3G7zX9tvhf",
        "colab_type": "code",
        "outputId": "73f80fd8-0df1-4361-912b-239cb3359ce5",
        "colab": {
          "base_uri": "https://localhost:8080/",
          "height": 35
        }
      },
      "source": [
        "model.predict(new_data)"
      ],
      "execution_count": 0,
      "outputs": [
        {
          "output_type": "execute_result",
          "data": {
            "text/plain": [
              "array([[12.910594]], dtype=float32)"
            ]
          },
          "metadata": {
            "tags": []
          },
          "execution_count": 23
        }
      ]
    },
    {
      "cell_type": "code",
      "metadata": {
        "id": "AQwirh-bD06Z",
        "colab_type": "code",
        "colab": {}
      },
      "source": [
        ""
      ],
      "execution_count": 0,
      "outputs": []
    }
  ]
}