{
  "nbformat": 4,
  "nbformat_minor": 0,
  "metadata": {
    "colab": {
      "name": "Autoencoder.ipynb",
      "provenance": [],
      "collapsed_sections": []
    },
    "kernelspec": {
      "name": "python2",
      "display_name": "Python 2"
    },
    "accelerator": "GPU"
  },
  "cells": [
    {
      "cell_type": "code",
      "metadata": {
        "id": "-kjkKo89DtHg",
        "colab_type": "code",
        "outputId": "2023a50d-4c33-4648-b580-ce0e116e6815",
        "colab": {
          "base_uri": "https://localhost:8080/",
          "height": 100
        }
      },
      "source": [
        "from keras.layers import Input, Dense\n",
        "from keras.models import Model"
      ],
      "execution_count": 0,
      "outputs": [
        {
          "output_type": "stream",
          "text": [
            "Using TensorFlow backend.\n"
          ],
          "name": "stderr"
        },
        {
          "output_type": "display_data",
          "data": {
            "text/plain": [
              "<IPython.core.display.HTML object>"
            ],
            "text/html": [
              "<p style=\"color: red;\">\n",
              "The default version of TensorFlow in Colab will soon switch to TensorFlow 2.x.<br>\n",
              "We recommend you <a href=\"https://www.tensorflow.org/guide/migrate\" target=\"_blank\">upgrade</a> now \n",
              "or ensure your notebook will continue to use TensorFlow 1.x via the <code>%tensorflow_version 1.x</code> magic:\n",
              "<a href=\"https://colab.research.google.com/notebooks/tensorflow_version.ipynb\" target=\"_blank\">more info</a>.</p>\n"
            ]
          },
          "metadata": {
            "tags": []
          }
        }
      ]
    },
    {
      "cell_type": "code",
      "metadata": {
        "id": "mJ9oLAjJD7zH",
        "colab_type": "code",
        "outputId": "a88704a5-ca08-4b19-95d2-a3cb208bd64d",
        "colab": {
          "base_uri": "https://localhost:8080/",
          "height": 403
        }
      },
      "source": [
        "# encoding dim은 축소된 representation vector의 크기를 말합니다.\n",
        "encoding_dim = 32  # 32 floats -> compression of factor 24.5, assuming the input is 784 floats\n",
        "\n",
        "input_img = Input(shape=(784,))\n",
        "encoded = Dense(encoding_dim, activation='relu')(input_img)\n",
        "decoded = Dense(784, activation='sigmoid')(encoded)\n",
        "\n",
        "autoencoder = Model(input_img, decoded)\n",
        "autoencoder.summary()"
      ],
      "execution_count": 0,
      "outputs": [
        {
          "output_type": "stream",
          "text": [
            "WARNING: Logging before flag parsing goes to stderr.\n",
            "W0220 12:02:07.301073 140254407292800 module_wrapper.py:139] From /usr/local/lib/python2.7/dist-packages/keras/backend/tensorflow_backend.py:74: The name tf.get_default_graph is deprecated. Please use tf.compat.v1.get_default_graph instead.\n",
            "\n",
            "W0220 12:02:07.312117 140254407292800 module_wrapper.py:139] From /usr/local/lib/python2.7/dist-packages/keras/backend/tensorflow_backend.py:517: The name tf.placeholder is deprecated. Please use tf.compat.v1.placeholder instead.\n",
            "\n",
            "W0220 12:02:07.321599 140254407292800 module_wrapper.py:139] From /usr/local/lib/python2.7/dist-packages/keras/backend/tensorflow_backend.py:4138: The name tf.random_uniform is deprecated. Please use tf.random.uniform instead.\n",
            "\n"
          ],
          "name": "stderr"
        },
        {
          "output_type": "stream",
          "text": [
            "_________________________________________________________________\n",
            "Layer (type)                 Output Shape              Param #   \n",
            "=================================================================\n",
            "input_1 (InputLayer)         (None, 784)               0         \n",
            "_________________________________________________________________\n",
            "dense_1 (Dense)              (None, 32)                25120     \n",
            "_________________________________________________________________\n",
            "dense_2 (Dense)              (None, 784)               25872     \n",
            "=================================================================\n",
            "Total params: 50,992\n",
            "Trainable params: 50,992\n",
            "Non-trainable params: 0\n",
            "_________________________________________________________________\n"
          ],
          "name": "stdout"
        }
      ]
    },
    {
      "cell_type": "code",
      "metadata": {
        "id": "W_7g546LECm1",
        "colab_type": "code",
        "outputId": "3a187b43-ae3f-4961-a057-d5590ba5577b",
        "colab": {
          "base_uri": "https://localhost:8080/",
          "height": 165
        }
      },
      "source": [
        "autoencoder.compile(optimizer='adadelta', loss='binary_crossentropy')"
      ],
      "execution_count": 0,
      "outputs": [
        {
          "output_type": "stream",
          "text": [
            "W0220 12:03:31.558703 140254407292800 module_wrapper.py:139] From /usr/local/lib/python2.7/dist-packages/keras/optimizers.py:790: The name tf.train.Optimizer is deprecated. Please use tf.compat.v1.train.Optimizer instead.\n",
            "\n",
            "W0220 12:03:31.584562 140254407292800 module_wrapper.py:139] From /usr/local/lib/python2.7/dist-packages/keras/backend/tensorflow_backend.py:3376: The name tf.log is deprecated. Please use tf.math.log instead.\n",
            "\n",
            "W0220 12:03:31.591403 140254407292800 deprecation.py:323] From /usr/local/lib/python2.7/dist-packages/tensorflow_core/python/ops/nn_impl.py:183: where (from tensorflow.python.ops.array_ops) is deprecated and will be removed in a future version.\n",
            "Instructions for updating:\n",
            "Use tf.where in 2.0, which has the same broadcast rule as np.where\n"
          ],
          "name": "stderr"
        }
      ]
    },
    {
      "cell_type": "code",
      "metadata": {
        "id": "d_jn9w5KE9tk",
        "colab_type": "code",
        "outputId": "8766fbc5-432e-4714-8440-7e53e5f27558",
        "colab": {
          "base_uri": "https://localhost:8080/",
          "height": 72
        }
      },
      "source": [
        "from keras.datasets import mnist\n",
        "import numpy as np\n",
        "(x_train, _), (x_test, _) = mnist.load_data()"
      ],
      "execution_count": 0,
      "outputs": [
        {
          "output_type": "stream",
          "text": [
            "Downloading data from https://s3.amazonaws.com/img-datasets/mnist.npz\n",
            "11493376/11490434 [==============================] - 1s 0us/step\n",
            "11501568/11490434 [==============================] - 1s 0us/step\n"
          ],
          "name": "stdout"
        }
      ]
    },
    {
      "cell_type": "code",
      "metadata": {
        "id": "jEUBYMkzE_98",
        "colab_type": "code",
        "outputId": "c0187920-8614-4c99-d407-7b5c087437ee",
        "colab": {
          "base_uri": "https://localhost:8080/",
          "height": 53
        }
      },
      "source": [
        "x_train = x_train.astype('float32') / 255.\n",
        "x_test = x_test.astype('float32') / 255.\n",
        "x_train = x_train.reshape((len(x_train), np.prod(x_train.shape[1:])))\n",
        "x_test = x_test.reshape((len(x_test), np.prod(x_test.shape[1:])))\n",
        "print x_train.shape\n",
        "print x_test.shape"
      ],
      "execution_count": 0,
      "outputs": [
        {
          "output_type": "stream",
          "text": [
            "(60000, 784)\n",
            "(10000, 784)\n"
          ],
          "name": "stdout"
        }
      ]
    },
    {
      "cell_type": "code",
      "metadata": {
        "id": "YOGGWe5bFBv9",
        "colab_type": "code",
        "outputId": "5e75bfdd-ae27-4d44-9d4b-e04055711842",
        "colab": {
          "base_uri": "https://localhost:8080/",
          "height": 1000
        }
      },
      "source": [
        "autoencoder.fit(x_train, x_train,\n",
        "                epochs=50,\n",
        "                batch_size=256,\n",
        "                shuffle=True,\n",
        "                validation_data=(x_test, x_test))"
      ],
      "execution_count": 0,
      "outputs": [
        {
          "output_type": "stream",
          "text": [
            "W0220 12:08:44.832320 140254407292800 module_wrapper.py:139] From /usr/local/lib/python2.7/dist-packages/keras/backend/tensorflow_backend.py:986: The name tf.assign_add is deprecated. Please use tf.compat.v1.assign_add instead.\n",
            "\n",
            "W0220 12:08:44.839374 140254407292800 module_wrapper.py:139] From /usr/local/lib/python2.7/dist-packages/keras/backend/tensorflow_backend.py:973: The name tf.assign is deprecated. Please use tf.compat.v1.assign instead.\n",
            "\n",
            "W0220 12:08:44.904670 140254407292800 module_wrapper.py:139] From /usr/local/lib/python2.7/dist-packages/keras/backend/tensorflow_backend.py:2741: The name tf.Session is deprecated. Please use tf.compat.v1.Session instead.\n",
            "\n",
            "W0220 12:08:44.913309 140254407292800 module_wrapper.py:139] From /usr/local/lib/python2.7/dist-packages/keras/backend/tensorflow_backend.py:174: The name tf.get_default_session is deprecated. Please use tf.compat.v1.get_default_session instead.\n",
            "\n",
            "W0220 12:08:44.914479 140254407292800 module_wrapper.py:139] From /usr/local/lib/python2.7/dist-packages/keras/backend/tensorflow_backend.py:181: The name tf.ConfigProto is deprecated. Please use tf.compat.v1.ConfigProto instead.\n",
            "\n"
          ],
          "name": "stderr"
        },
        {
          "output_type": "stream",
          "text": [
            "Train on 60000 samples, validate on 10000 samples\n",
            "Epoch 1/50\n"
          ],
          "name": "stdout"
        },
        {
          "output_type": "stream",
          "text": [
            "W0220 12:08:46.458506 140254407292800 module_wrapper.py:139] From /usr/local/lib/python2.7/dist-packages/keras/backend/tensorflow_backend.py:190: The name tf.global_variables is deprecated. Please use tf.compat.v1.global_variables instead.\n",
            "\n",
            "W0220 12:08:46.459908 140254407292800 module_wrapper.py:139] From /usr/local/lib/python2.7/dist-packages/keras/backend/tensorflow_backend.py:199: The name tf.is_variable_initialized is deprecated. Please use tf.compat.v1.is_variable_initialized instead.\n",
            "\n",
            "W0220 12:08:46.553234 140254407292800 module_wrapper.py:139] From /usr/local/lib/python2.7/dist-packages/keras/backend/tensorflow_backend.py:206: The name tf.variables_initializer is deprecated. Please use tf.compat.v1.variables_initializer instead.\n",
            "\n"
          ],
          "name": "stderr"
        },
        {
          "output_type": "stream",
          "text": [
            "60000/60000 [==============================] - 11s 180us/step - loss: 0.3716 - val_loss: 0.2722\n",
            "Epoch 2/50\n",
            "60000/60000 [==============================] - 1s 22us/step - loss: 0.2662 - val_loss: 0.2570\n",
            "Epoch 3/50\n",
            "60000/60000 [==============================] - 1s 21us/step - loss: 0.2482 - val_loss: 0.2369\n",
            "Epoch 4/50\n",
            "60000/60000 [==============================] - 1s 23us/step - loss: 0.2282 - val_loss: 0.2171\n",
            "Epoch 5/50\n",
            "60000/60000 [==============================] - 1s 23us/step - loss: 0.2109 - val_loss: 0.2027\n",
            "Epoch 6/50\n",
            "60000/60000 [==============================] - 1s 21us/step - loss: 0.1993 - val_loss: 0.1934\n",
            "Epoch 7/50\n",
            "60000/60000 [==============================] - 1s 23us/step - loss: 0.1912 - val_loss: 0.1862\n",
            "Epoch 8/50\n",
            "60000/60000 [==============================] - 1s 23us/step - loss: 0.1844 - val_loss: 0.1798\n",
            "Epoch 9/50\n",
            "60000/60000 [==============================] - 1s 22us/step - loss: 0.1783 - val_loss: 0.1740\n",
            "Epoch 10/50\n",
            "60000/60000 [==============================] - 1s 22us/step - loss: 0.1728 - val_loss: 0.1689\n",
            "Epoch 11/50\n",
            "60000/60000 [==============================] - 1s 21us/step - loss: 0.1680 - val_loss: 0.1644\n",
            "Epoch 12/50\n",
            "60000/60000 [==============================] - 1s 21us/step - loss: 0.1636 - val_loss: 0.1602\n",
            "Epoch 13/50\n",
            "60000/60000 [==============================] - 1s 21us/step - loss: 0.1595 - val_loss: 0.1563\n",
            "Epoch 14/50\n",
            "60000/60000 [==============================] - 1s 22us/step - loss: 0.1558 - val_loss: 0.1525\n",
            "Epoch 15/50\n",
            "60000/60000 [==============================] - 1s 23us/step - loss: 0.1523 - val_loss: 0.1491\n",
            "Epoch 16/50\n",
            "60000/60000 [==============================] - 1s 21us/step - loss: 0.1491 - val_loss: 0.1460\n",
            "Epoch 17/50\n",
            "60000/60000 [==============================] - 1s 20us/step - loss: 0.1461 - val_loss: 0.1432\n",
            "Epoch 18/50\n",
            "60000/60000 [==============================] - 1s 21us/step - loss: 0.1434 - val_loss: 0.1405\n",
            "Epoch 19/50\n",
            "60000/60000 [==============================] - 1s 21us/step - loss: 0.1409 - val_loss: 0.1381\n",
            "Epoch 20/50\n",
            "60000/60000 [==============================] - 1s 21us/step - loss: 0.1385 - val_loss: 0.1358\n",
            "Epoch 21/50\n",
            "60000/60000 [==============================] - 1s 23us/step - loss: 0.1363 - val_loss: 0.1336\n",
            "Epoch 22/50\n",
            "60000/60000 [==============================] - 1s 21us/step - loss: 0.1343 - val_loss: 0.1316\n",
            "Epoch 23/50\n",
            "60000/60000 [==============================] - 1s 22us/step - loss: 0.1323 - val_loss: 0.1298\n",
            "Epoch 24/50\n",
            "60000/60000 [==============================] - 1s 22us/step - loss: 0.1304 - val_loss: 0.1279\n",
            "Epoch 25/50\n",
            "60000/60000 [==============================] - 1s 22us/step - loss: 0.1286 - val_loss: 0.1262\n",
            "Epoch 26/50\n",
            "60000/60000 [==============================] - 1s 22us/step - loss: 0.1269 - val_loss: 0.1245\n",
            "Epoch 27/50\n",
            "60000/60000 [==============================] - 1s 22us/step - loss: 0.1253 - val_loss: 0.1229\n",
            "Epoch 28/50\n",
            "60000/60000 [==============================] - 1s 21us/step - loss: 0.1238 - val_loss: 0.1214\n",
            "Epoch 29/50\n",
            "60000/60000 [==============================] - 1s 22us/step - loss: 0.1223 - val_loss: 0.1199\n",
            "Epoch 30/50\n",
            "60000/60000 [==============================] - 1s 24us/step - loss: 0.1209 - val_loss: 0.1186\n",
            "Epoch 31/50\n",
            "60000/60000 [==============================] - 1s 21us/step - loss: 0.1196 - val_loss: 0.1173\n",
            "Epoch 32/50\n",
            "60000/60000 [==============================] - 1s 23us/step - loss: 0.1183 - val_loss: 0.1160\n",
            "Epoch 33/50\n",
            "60000/60000 [==============================] - 1s 20us/step - loss: 0.1171 - val_loss: 0.1149\n",
            "Epoch 34/50\n",
            "60000/60000 [==============================] - 1s 20us/step - loss: 0.1160 - val_loss: 0.1138\n",
            "Epoch 35/50\n",
            "60000/60000 [==============================] - 1s 23us/step - loss: 0.1150 - val_loss: 0.1128\n",
            "Epoch 36/50\n",
            "60000/60000 [==============================] - 1s 23us/step - loss: 0.1140 - val_loss: 0.1119\n",
            "Epoch 37/50\n",
            "60000/60000 [==============================] - 1s 22us/step - loss: 0.1131 - val_loss: 0.1110\n",
            "Epoch 38/50\n",
            "60000/60000 [==============================] - 1s 23us/step - loss: 0.1122 - val_loss: 0.1101\n",
            "Epoch 39/50\n",
            "60000/60000 [==============================] - 1s 22us/step - loss: 0.1114 - val_loss: 0.1093\n",
            "Epoch 40/50\n",
            "60000/60000 [==============================] - 1s 22us/step - loss: 0.1106 - val_loss: 0.1086\n",
            "Epoch 41/50\n",
            "60000/60000 [==============================] - 1s 22us/step - loss: 0.1099 - val_loss: 0.1079\n",
            "Epoch 42/50\n",
            "60000/60000 [==============================] - 1s 23us/step - loss: 0.1092 - val_loss: 0.1072\n",
            "Epoch 43/50\n",
            "60000/60000 [==============================] - 1s 22us/step - loss: 0.1086 - val_loss: 0.1066\n",
            "Epoch 44/50\n",
            "60000/60000 [==============================] - 1s 23us/step - loss: 0.1080 - val_loss: 0.1061\n",
            "Epoch 45/50\n",
            "60000/60000 [==============================] - 1s 22us/step - loss: 0.1074 - val_loss: 0.1055\n",
            "Epoch 46/50\n",
            "60000/60000 [==============================] - 1s 24us/step - loss: 0.1069 - val_loss: 0.1049\n",
            "Epoch 47/50\n",
            "60000/60000 [==============================] - 1s 23us/step - loss: 0.1063 - val_loss: 0.1045\n",
            "Epoch 48/50\n",
            "60000/60000 [==============================] - 1s 21us/step - loss: 0.1059 - val_loss: 0.1040\n",
            "Epoch 49/50\n",
            "60000/60000 [==============================] - 1s 22us/step - loss: 0.1054 - val_loss: 0.1036\n",
            "Epoch 50/50\n",
            "60000/60000 [==============================] - 1s 23us/step - loss: 0.1050 - val_loss: 0.1032\n"
          ],
          "name": "stdout"
        },
        {
          "output_type": "execute_result",
          "data": {
            "text/plain": [
              "<keras.callbacks.History at 0x7f8f29627fd0>"
            ]
          },
          "metadata": {
            "tags": []
          },
          "execution_count": 6
        }
      ]
    },
    {
      "cell_type": "code",
      "metadata": {
        "id": "vZLK4bodkohG",
        "colab_type": "code",
        "colab": {}
      },
      "source": [
        "decoded_imgs = autoencoder.predict(x_test)"
      ],
      "execution_count": 0,
      "outputs": []
    },
    {
      "cell_type": "code",
      "metadata": {
        "id": "5tXxe68cGEbE",
        "colab_type": "code",
        "outputId": "928bfc63-c64e-4b80-e2b4-bd0bf475db01",
        "colab": {
          "base_uri": "https://localhost:8080/",
          "height": 271
        }
      },
      "source": [
        "# use Matplotlib (don't ask)\n",
        "import matplotlib.pyplot as plt\n",
        "\n",
        "n = 10  # how many digits we will display\n",
        "plt.figure(figsize=(20, 4))\n",
        "for i in range(n):\n",
        "    # display original\n",
        "    ax = plt.subplot(2, n, i + 1)\n",
        "    plt.imshow(x_test[i].reshape(28, 28))\n",
        "    plt.gray()\n",
        "    ax.get_xaxis().set_visible(False)\n",
        "    ax.get_yaxis().set_visible(False)\n",
        "\n",
        "    # display reconstruction\n",
        "    ax = plt.subplot(2, n, i + 1 + n)\n",
        "    plt.imshow(decoded_imgs[i].reshape(28, 28))\n",
        "    plt.gray()\n",
        "    ax.get_xaxis().set_visible(False)\n",
        "    ax.get_yaxis().set_visible(False)\n",
        "plt.show()"
      ],
      "execution_count": 0,
      "outputs": [
        {
          "output_type": "display_data",
          "data": {
            "image/png": "[encoded data removed]",
            "text/plain": [
              "<Figure size 1440x288 with 20 Axes>"
            ]
          },
          "metadata": {
            "tags": []
          }
        }
      ]
    },
    {
      "cell_type": "markdown",
      "metadata": {
        "id": "-r8UDxqAG9Pi",
        "colab_type": "text"
      },
      "source": [
        "Deep autoencoder by stack dense layers"
      ]
    },
    {
      "cell_type": "code",
      "metadata": {
        "id": "7mfcVlJIHDZZ",
        "colab_type": "code",
        "colab": {}
      },
      "source": [
        "input_img = Input(shape=(784,))\n",
        "encoded = Dense(128, activation='relu')(input_img)\n",
        "encoded = Dense(64, activation='relu')(encoded)\n",
        "encoded = Dense(32, activation='relu')(encoded)\n",
        "\n",
        "decoded = Dense(64, activation='relu')(encoded)\n",
        "decoded = Dense(128, activation='relu')(decoded)\n",
        "decoded = Dense(784, activation='sigmoid')(decoded)"
      ],
      "execution_count": 0,
      "outputs": []
    },
    {
      "cell_type": "code",
      "metadata": {
        "id": "2HHBTNdSHErj",
        "colab_type": "code",
        "outputId": "f3e5c788-fd2d-45d1-c886-5be07508a25d",
        "colab": {
          "base_uri": "https://localhost:8080/",
          "height": 409
        }
      },
      "source": [
        "autoencoder = Model(input_img, decoded)\n",
        "autoencoder.compile(optimizer='adadelta', loss='binary_crossentropy')\n",
        "\n",
        "autoencoder.fit(x_train, x_train,\n",
        "                epochs=100,\n",
        "                batch_size=256,\n",
        "                shuffle=True,\n",
        "                validation_data=(x_test, x_test))"
      ],
      "execution_count": 0,
      "outputs": [
        {
          "output_type": "stream",
          "text": [
            "Train on 60000 samples, validate on 10000 samples\n",
            "Epoch 1/100\n",
            "60000/60000 [==============================] - 2s 41us/step - loss: 0.3550 - val_loss: 0.2647\n",
            "Epoch 2/100\n",
            "60000/60000 [==============================] - 2s 34us/step - loss: 0.2576 - val_loss: 0.2510\n",
            "Epoch 3/100\n",
            "60000/60000 [==============================] - 2s 34us/step - loss: 0.2427 - val_loss: 0.2362\n",
            "Epoch 4/100\n",
            "60000/60000 [==============================] - 2s 34us/step - loss: 0.2268 - val_loss: 0.2148\n",
            "Epoch 5/100\n",
            "60000/60000 [==============================] - 2s 34us/step - loss: 0.2059 - val_loss: 0.1962\n",
            "Epoch 6/100\n",
            "60000/60000 [==============================] - 2s 33us/step - loss: 0.1913 - val_loss: 0.1847\n",
            "Epoch 7/100\n",
            "60000/60000 [==============================] - 2s 33us/step - loss: 0.1832 - val_loss: 0.1779\n",
            "Epoch 8/100\n",
            "60000/60000 [==============================] - 2s 34us/step - loss: 0.1775 - val_loss: 0.1739\n",
            "Epoch 9/100\n",
            "60000/60000 [==============================] - 2s 34us/step - loss: 0.1724 - val_loss: 0.1679\n",
            "Epoch 10/100\n",
            "24576/60000 [===========>..................] - ETA: 1s - loss: 0.1684"
          ],
          "name": "stdout"
        }
      ]
    },
    {
      "cell_type": "code",
      "metadata": {
        "id": "RdsmbrB-HF7D",
        "colab_type": "code",
        "outputId": "e48efa76-bd2b-4c09-fde9-73ae6aaf18ff",
        "colab": {
          "base_uri": "https://localhost:8080/",
          "height": 271
        }
      },
      "source": [
        "# use Matplotlib (don't ask)\n",
        "import matplotlib.pyplot as plt\n",
        "\n",
        "n = 10  # how many digits we will display\n",
        "plt.figure(figsize=(20, 4))\n",
        "for i in range(n):\n",
        "    # display original\n",
        "    ax = plt.subplot(2, n, i + 1)\n",
        "    plt.imshow(x_test[i].reshape(28, 28))\n",
        "    plt.gray()\n",
        "    ax.get_xaxis().set_visible(False)\n",
        "    ax.get_yaxis().set_visible(False)\n",
        "\n",
        "    # display reconstruction\n",
        "    ax = plt.subplot(2, n, i + 1 + n)\n",
        "    plt.imshow(decoded_imgs[i].reshape(28, 28))\n",
        "    plt.gray()\n",
        "    ax.get_xaxis().set_visible(False)\n",
        "    ax.get_yaxis().set_visible(False)\n",
        "plt.show()"
      ],
      "execution_count": 0,
      "outputs": [
        {
          "output_type": "display_data",
          "data": {
            "image/png": "[encoded data removed]",
            "text/plain": [
              "<Figure size 1440x288 with 20 Axes>"
            ]
          },
          "metadata": {
            "tags": []
          }
        }
      ]
    },
    {
      "cell_type": "code",
      "metadata": {
        "id": "E5s7TR3_H04c",
        "colab_type": "code",
        "colab": {}
      },
      "source": [
        ""
      ],
      "execution_count": 0,
      "outputs": []
    }
  ]
}