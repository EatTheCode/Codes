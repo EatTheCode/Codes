{
 "cells": [
  {
   "cell_type": "code",
   "execution_count": 1,
   "metadata": {
    "colab": {
     "base_uri": "https://localhost:8080/",
     "height": 35
    },
    "colab_type": "code",
    "id": "o_i606WVbmw2",
    "outputId": "6de3b5be-cb67-4ff1-ee54-ec89bfffea8b"
   },
   "outputs": [
    {
     "name": "stdout",
     "output_type": "stream",
     "text": [
      "TensorFlow 1.x selected.\n"
     ]
    }
   ],
   "source": [
    "%tensorflow_version 1.x"
   ]
  },
  {
   "cell_type": "code",
   "execution_count": 2,
   "metadata": {
    "colab": {
     "base_uri": "https://localhost:8080/",
     "height": 35
    },
    "colab_type": "code",
    "id": "QHMtnYN4JbzR",
    "outputId": "31ac9471-4714-459b-ac70-cc72f03202b2"
   },
   "outputs": [
    {
     "name": "stderr",
     "output_type": "stream",
     "text": [
      "Using TensorFlow backend.\n"
     ]
    }
   ],
   "source": [
    "from __future__ import print_function\n",
    "import keras\n",
    "from keras.datasets import cifar10\n",
    "from keras.preprocessing.image import ImageDataGenerator\n",
    "from keras.models import Sequential\n",
    "from keras.layers import Dense, Dropout, Activation, Flatten\n",
    "from keras.layers import Conv2D, MaxPooling2D, GlobalAveragePooling2D, BatchNormalization\n",
    "import os"
   ]
  },
  {
   "cell_type": "code",
   "execution_count": 3,
   "metadata": {
    "colab": {
     "base_uri": "https://localhost:8080/",
     "height": 55
    },
    "colab_type": "code",
    "id": "e32h2VgNnH60",
    "outputId": "3148bb21-b8be-4e4b-ae83-b9ada76e1d6e"
   },
   "outputs": [
    {
     "name": "stdout",
     "output_type": "stream",
     "text": [
      "Drive already mounted at /content/gdrive; to attempt to forcibly remount, call drive.mount(\"/content/gdrive\", force_remount=True).\n"
     ]
    }
   ],
   "source": [
    "from google.colab import auth\n",
    "auth.authenticate_user()\n",
    "\n",
    "from google.colab import drive\n",
    "drive.mount('/content/gdrive')"
   ]
  },
  {
   "cell_type": "code",
   "execution_count": 4,
   "metadata": {
    "colab": {
     "base_uri": "https://localhost:8080/",
     "height": 53
    },
    "colab_type": "code",
    "id": "pBn-DdtanM9D",
    "outputId": "a84adad4-0662-4f32-f4e0-9ed2beb38328"
   },
   "outputs": [
    {
     "name": "stdout",
     "output_type": "stream",
     "text": [
      "[Errno 2] No such file or directory: 'gdrive/My Drive/Colab Notebooks/models'\n",
      "/content\n"
     ]
    }
   ],
   "source": [
    "cd gdrive/My Drive/Colab Notebooks/models"
   ]
  },
  {
   "cell_type": "code",
   "execution_count": 0,
   "metadata": {
    "colab": {},
    "colab_type": "code",
    "id": "xN76jTnaJku7"
   },
   "outputs": [],
   "source": [
    "# Hyper parameter \n",
    "batch_size = 16\n",
    "num_classes = 10\n",
    "epochs = 25"
   ]
  },
  {
   "cell_type": "code",
   "execution_count": 0,
   "metadata": {
    "colab": {},
    "colab_type": "code",
    "id": "GwgPYTeRciqH"
   },
   "outputs": [],
   "source": [
    "# The data, split between train and test sets:\n",
    "(x_train, y_train), (x_test, y_test) = cifar10.load_data()"
   ]
  },
  {
   "cell_type": "code",
   "execution_count": 7,
   "metadata": {
    "colab": {
     "base_uri": "https://localhost:8080/",
     "height": 71
    },
    "colab_type": "code",
    "id": "BuwjP0yeJlyu",
    "outputId": "e101b243-7e49-404d-9a74-d661ab5efac7"
   },
   "outputs": [
    {
     "name": "stdout",
     "output_type": "stream",
     "text": [
      "x_train shape: (50000, 32, 32, 3)\n",
      "50000 train samples\n",
      "10000 test samples\n"
     ]
    }
   ],
   "source": [
    "print('x_train shape:', x_train.shape)\n",
    "# x_train.shape -> (50000, 32, 32, 3)\n",
    "print(x_train.shape[0], 'train samples')\n",
    "print(x_test.shape[0], 'test samples')"
   ]
  },
  {
   "cell_type": "code",
   "execution_count": 8,
   "metadata": {
    "colab": {
     "base_uri": "https://localhost:8080/",
     "height": 143
    },
    "colab_type": "code",
    "id": "9pGz9Z4L6XfN",
    "outputId": "4d718b7f-3c0d-4e14-f274-fe9609c4f583"
   },
   "outputs": [
    {
     "data": {
      "text/plain": [
       "array([[6],\n",
       "       [9],\n",
       "       [9],\n",
       "       ...,\n",
       "       [9],\n",
       "       [1],\n",
       "       [1]], dtype=uint8)"
      ]
     },
     "execution_count": 8,
     "metadata": {
      "tags": []
     },
     "output_type": "execute_result"
    }
   ],
   "source": [
    "y_train"
   ]
  },
  {
   "cell_type": "code",
   "execution_count": 0,
   "metadata": {
    "colab": {},
    "colab_type": "code",
    "id": "ICtLv_uZJoXe"
   },
   "outputs": [],
   "source": [
    "# 1. y_train -> to_categorical -> categorical dataset -> Loss: categorical_crossentropy\n",
    "# Last dense layer: 10\n",
    "\n",
    "# 2. y_train -> Loss: sparse_categorical_crossentropy\n",
    "# Last dense layer:10\n",
    "\n",
    "y_train = keras.utils.to_categorical(y_train, num_classes)\n",
    "y_test = keras.utils.to_categorical(y_test, num_classes)"
   ]
  },
  {
   "cell_type": "code",
   "execution_count": 10,
   "metadata": {
    "colab": {
     "base_uri": "https://localhost:8080/",
     "height": 143
    },
    "colab_type": "code",
    "id": "lfuWXdpN6nOr",
    "outputId": "c31bf4f3-870d-4207-d083-5ff120980921"
   },
   "outputs": [
    {
     "data": {
      "text/plain": [
       "array([[0., 0., 0., ..., 0., 0., 0.],\n",
       "       [0., 0., 0., ..., 0., 0., 1.],\n",
       "       [0., 0., 0., ..., 0., 0., 1.],\n",
       "       ...,\n",
       "       [0., 0., 0., ..., 0., 0., 1.],\n",
       "       [0., 1., 0., ..., 0., 0., 0.],\n",
       "       [0., 1., 0., ..., 0., 0., 0.]], dtype=float32)"
      ]
     },
     "execution_count": 10,
     "metadata": {
      "tags": []
     },
     "output_type": "execute_result"
    }
   ],
   "source": [
    "# One-hot-encoding\n",
    "y_train"
   ]
  },
  {
   "cell_type": "code",
   "execution_count": 0,
   "metadata": {
    "colab": {},
    "colab_type": "code",
    "id": "-rfn1qzqJ5dW"
   },
   "outputs": [],
   "source": [
    "x_train = x_train.astype('float32')\n",
    "x_test = x_test.astype('float32')\n",
    "x_train /= 255\n",
    "x_test /= 255"
   ]
  },
  {
   "cell_type": "code",
   "execution_count": 12,
   "metadata": {
    "colab": {
     "base_uri": "https://localhost:8080/",
     "height": 35
    },
    "colab_type": "code",
    "id": "4f8DEhJ6oS1F",
    "outputId": "943a8cdf-5ee3-4ec9-e1a8-2b2e047f7b84"
   },
   "outputs": [
    {
     "name": "stdout",
     "output_type": "stream",
     "text": [
      "Using real-time data augmentation.\n"
     ]
    }
   ],
   "source": [
    "print('Using real-time data augmentation.')\n",
    "    # This will do preprocessing and realtime data augmentation:\n",
    "datagen = ImageDataGenerator(\n",
    "    featurewise_center=False,  # set input mean to 0 over the dataset\n",
    "    samplewise_center=False,  # set each sample mean to 0\n",
    "    featurewise_std_normalization=False,  # divide inputs by std of the dataset\n",
    "    samplewise_std_normalization=False,  # divide each input by its std\n",
    "    zca_whitening=False,  # apply ZCA whitening\n",
    "    zca_epsilon=1e-06,  # epsilon for ZCA whitening\n",
    "    rotation_range=60,  # randomly rotate images in the range (degrees, 0 to 180)\n",
    "    # randomly shift images horizontally (fraction of total width)\n",
    "    width_shift_range=0.1,\n",
    "    # randomly shift images vertically (fraction of total height)\n",
    "    height_shift_range=0.3,\n",
    "    shear_range=0.,  # set range for random shear\n",
    "    zoom_range=1.5,  # set range for random zoom\n",
    "    channel_shift_range=0.,  # set range for random channel shifts\n",
    "    # set mode for filling points outside the input boundaries\n",
    "    fill_mode='nearest',\n",
    "    cval=0.,  # value used for fill_mode = \"constant\"\n",
    "    horizontal_flip=True,  # randomly flip images\n",
    "    vertical_flip=True,  # randomly flip images\n",
    "    # set rescaling factor (applied before any other transformation)\n",
    "    rescale=None,\n",
    "    # set function that will be applied on each input\n",
    "    preprocessing_function=None,\n",
    "    # image data format, either \"channels_first\" or \"channels_last\"\n",
    "    data_format=None,\n",
    "    # fraction of images reserved for validation (strictly between 0 and 1)\n",
    "    validation_split=0.0)\n",
    "\n",
    "# Compute quantities required for feature-wise normalization\n",
    "# (std, mean, and principal components if ZCA whitening is applied).\n",
    "datagen.fit(x_train)"
   ]
  },
  {
   "cell_type": "code",
   "execution_count": 0,
   "metadata": {
    "colab": {},
    "colab_type": "code",
    "id": "C2Zt4zUjoYnc"
   },
   "outputs": [],
   "source": [
    "filepath = \"./cifar10-model-{epoch:02d}-{val_accuracy:.2f}.hdf5\"\n",
    "checkpoint = keras.callbacks.ModelCheckpoint(filepath, monitor='val_accuracy', verbose=1, save_best_only=True, mode='max')\n",
    "                                                   #"
   ]
  },
  {
   "cell_type": "markdown",
   "metadata": {
    "colab_type": "text",
    "id": "iDFttU7cJvdh"
   },
   "source": [
    "네트워크를 직접 설계해 보세요!"
   ]
  },
  {
   "cell_type": "code",
   "execution_count": 0,
   "metadata": {
    "colab": {},
    "colab_type": "code",
    "id": "qMF9TgYlJvFq"
   },
   "outputs": [],
   "source": [
    "# for example,\n",
    "n_kernels = 32\n",
    "model = Sequential()\n",
    "\n",
    "model.add(Conv2D(n_kernels, (3, 3), activation = 'relu', kernel_initializer = 'he_normal', padding = 'valid', input_shape = (32, 32, 3)))\n",
    "\n",
    "model.add(Conv2D(n_kernels*2, (5, 5), activation='relu', kernel_initializer='he_normal', padding='valid'))\n",
    "\n",
    "model.add(Conv2D(n_kernels*4, (7, 7), activation='relu', kernel_initializer='he_normal', padding='valid'))\n",
    "\n",
    "model.add(BatchNormalization())\n",
    "model.add(MaxPooling2D())\n",
    "\n",
    "\n",
    "\n",
    "\n",
    "model.add(Conv2D(n_kernels*4, (3, 3), activation='relu', kernel_initializer='he_normal', padding='SAME'))\n",
    "\n",
    "model.add(Conv2D(n_kernels*8, (3, 3), activation='relu', kernel_initializer='he_normal', padding='SAME'))\n",
    "\n",
    "model.add(BatchNormalization())\n",
    "model.add(MaxPooling2D())\n",
    "\n",
    "\n",
    "model.add(Conv2D(n_kernels*16, (3, 3), activation='relu', kernel_initializer='he_normal', padding='valid'))\n",
    "\n",
    "model.add(BatchNormalization())\n",
    "\n",
    "\n",
    "model.add(GlobalAveragePooling2D())\n",
    "\n",
    "model.add(Dense(10, activation='softmax', kernel_initializer='glorot_uniform'))\n"
   ]
  },
  {
   "cell_type": "code",
   "execution_count": 28,
   "metadata": {
    "colab": {
     "base_uri": "https://localhost:8080/",
     "height": 629
    },
    "colab_type": "code",
    "id": "tTTlF8aFH4gR",
    "outputId": "e77db1c7-60ee-4ebc-93f6-e5c6b8b162b6"
   },
   "outputs": [
    {
     "name": "stdout",
     "output_type": "stream",
     "text": [
      "Model: \"sequential_4\"\n",
      "_________________________________________________________________\n",
      "Layer (type)                 Output Shape              Param #   \n",
      "=================================================================\n",
      "conv2d_19 (Conv2D)           (None, 30, 30, 32)        896       \n",
      "_________________________________________________________________\n",
      "conv2d_20 (Conv2D)           (None, 26, 26, 64)        51264     \n",
      "_________________________________________________________________\n",
      "conv2d_21 (Conv2D)           (None, 20, 20, 128)       401536    \n",
      "_________________________________________________________________\n",
      "batch_normalization_10 (Batc (None, 20, 20, 128)       512       \n",
      "_________________________________________________________________\n",
      "max_pooling2d_7 (MaxPooling2 (None, 10, 10, 128)       0         \n",
      "_________________________________________________________________\n",
      "conv2d_22 (Conv2D)           (None, 10, 10, 128)       147584    \n",
      "_________________________________________________________________\n",
      "conv2d_23 (Conv2D)           (None, 10, 10, 256)       295168    \n",
      "_________________________________________________________________\n",
      "batch_normalization_11 (Batc (None, 10, 10, 256)       1024      \n",
      "_________________________________________________________________\n",
      "max_pooling2d_8 (MaxPooling2 (None, 5, 5, 256)         0         \n",
      "_________________________________________________________________\n",
      "conv2d_24 (Conv2D)           (None, 3, 3, 512)         1180160   \n",
      "_________________________________________________________________\n",
      "batch_normalization_12 (Batc (None, 3, 3, 512)         2048      \n",
      "_________________________________________________________________\n",
      "global_average_pooling2d_4 ( (None, 512)               0         \n",
      "_________________________________________________________________\n",
      "dense_4 (Dense)              (None, 10)                5130      \n",
      "=================================================================\n",
      "Total params: 2,085,322\n",
      "Trainable params: 2,083,530\n",
      "Non-trainable params: 1,792\n",
      "_________________________________________________________________\n"
     ]
    }
   ],
   "source": [
    "model.summary()"
   ]
  },
  {
   "cell_type": "code",
   "execution_count": 0,
   "metadata": {
    "colab": {},
    "colab_type": "code",
    "id": "NT5sENY6KNrG"
   },
   "outputs": [],
   "source": [
    "opt = keras.optimizers.RMSprop(lr=0.0001, decay=1e-6)\n",
    "#adam을 시도해 보았으나 오차값이 떨어지는 비율이 미미함"
   ]
  },
  {
   "cell_type": "code",
   "execution_count": 0,
   "metadata": {
    "colab": {},
    "colab_type": "code",
    "id": "9IeXOhUUon7i"
   },
   "outputs": [],
   "source": [
    "model.compile(loss='categorical_crossentropy',\n",
    "              optimizer=opt,\n",
    "              metrics=['accuracy'])"
   ]
  },
  {
   "cell_type": "code",
   "execution_count": 37,
   "metadata": {
    "colab": {
     "base_uri": "https://localhost:8080/",
     "height": 1000
    },
    "colab_type": "code",
    "id": "Zd1E5FY4JqQG",
    "outputId": "0a16cda0-3700-4a43-a5a7-afe145f0b977"
   },
   "outputs": [
    {
     "name": "stdout",
     "output_type": "stream",
     "text": [
      "Epoch 1/25\n",
      "3125/3125 [==============================] - 67s 22ms/step - loss: 1.9384 - accuracy: 0.2877 - val_loss: 1.7109 - val_accuracy: 0.3834\n",
      "\n",
      "Epoch 00001: val_accuracy improved from 0.37310 to 0.38340, saving model to ./cifar10-model-01-0.38.hdf5\n",
      "Epoch 2/25\n",
      "3125/3125 [==============================] - 67s 21ms/step - loss: 1.8916 - accuracy: 0.3103 - val_loss: 1.6947 - val_accuracy: 0.3936\n",
      "\n",
      "Epoch 00002: val_accuracy improved from 0.38340 to 0.39360, saving model to ./cifar10-model-02-0.39.hdf5\n",
      "Epoch 3/25\n",
      "3125/3125 [==============================] - 66s 21ms/step - loss: 1.8668 - accuracy: 0.3195 - val_loss: 1.6802 - val_accuracy: 0.3997\n",
      "\n",
      "Epoch 00003: val_accuracy improved from 0.39360 to 0.39970, saving model to ./cifar10-model-03-0.40.hdf5\n",
      "Epoch 4/25\n",
      "3125/3125 [==============================] - 66s 21ms/step - loss: 1.8400 - accuracy: 0.3337 - val_loss: 1.6512 - val_accuracy: 0.4081\n",
      "\n",
      "Epoch 00004: val_accuracy improved from 0.39970 to 0.40810, saving model to ./cifar10-model-04-0.41.hdf5\n",
      "Epoch 5/25\n",
      "3125/3125 [==============================] - 66s 21ms/step - loss: 1.8211 - accuracy: 0.3429 - val_loss: 1.5996 - val_accuracy: 0.4229\n",
      "\n",
      "Epoch 00005: val_accuracy improved from 0.40810 to 0.42290, saving model to ./cifar10-model-05-0.42.hdf5\n",
      "Epoch 6/25\n",
      "3125/3125 [==============================] - 66s 21ms/step - loss: 1.8062 - accuracy: 0.3480 - val_loss: 1.5750 - val_accuracy: 0.4382\n",
      "\n",
      "Epoch 00006: val_accuracy improved from 0.42290 to 0.43820, saving model to ./cifar10-model-06-0.44.hdf5\n",
      "Epoch 7/25\n",
      "3125/3125 [==============================] - 66s 21ms/step - loss: 1.7921 - accuracy: 0.3533 - val_loss: 1.6179 - val_accuracy: 0.4220\n",
      "\n",
      "Epoch 00007: val_accuracy did not improve from 0.43820\n",
      "Epoch 8/25\n",
      "3125/3125 [==============================] - 66s 21ms/step - loss: 1.7806 - accuracy: 0.3573 - val_loss: 1.5427 - val_accuracy: 0.4506\n",
      "\n",
      "Epoch 00008: val_accuracy improved from 0.43820 to 0.45060, saving model to ./cifar10-model-08-0.45.hdf5\n",
      "Epoch 9/25\n",
      "3125/3125 [==============================] - 66s 21ms/step - loss: 1.7674 - accuracy: 0.3639 - val_loss: 1.5873 - val_accuracy: 0.4405\n",
      "\n",
      "Epoch 00009: val_accuracy did not improve from 0.45060\n",
      "Epoch 10/25\n",
      "3125/3125 [==============================] - 66s 21ms/step - loss: 1.7522 - accuracy: 0.3672 - val_loss: 1.4944 - val_accuracy: 0.4665\n",
      "\n",
      "Epoch 00010: val_accuracy improved from 0.45060 to 0.46650, saving model to ./cifar10-model-10-0.47.hdf5\n",
      "Epoch 11/25\n",
      "3125/3125 [==============================] - 66s 21ms/step - loss: 1.7403 - accuracy: 0.3722 - val_loss: 1.5020 - val_accuracy: 0.4656\n",
      "\n",
      "Epoch 00011: val_accuracy did not improve from 0.46650\n",
      "Epoch 12/25\n",
      "3125/3125 [==============================] - 66s 21ms/step - loss: 1.7328 - accuracy: 0.3752 - val_loss: 1.5174 - val_accuracy: 0.4591\n",
      "\n",
      "Epoch 00012: val_accuracy did not improve from 0.46650\n",
      "Epoch 13/25\n",
      "3125/3125 [==============================] - 66s 21ms/step - loss: 1.7188 - accuracy: 0.3796 - val_loss: 1.4603 - val_accuracy: 0.4819\n",
      "\n",
      "Epoch 00013: val_accuracy improved from 0.46650 to 0.48190, saving model to ./cifar10-model-13-0.48.hdf5\n",
      "Epoch 14/25\n",
      "3125/3125 [==============================] - 66s 21ms/step - loss: 1.7173 - accuracy: 0.3811 - val_loss: 1.5544 - val_accuracy: 0.4544\n",
      "\n",
      "Epoch 00014: val_accuracy did not improve from 0.48190\n",
      "Epoch 15/25\n",
      "3125/3125 [==============================] - 66s 21ms/step - loss: 1.7074 - accuracy: 0.3833 - val_loss: 1.4659 - val_accuracy: 0.4827\n",
      "\n",
      "Epoch 00015: val_accuracy improved from 0.48190 to 0.48270, saving model to ./cifar10-model-15-0.48.hdf5\n",
      "Epoch 16/25\n",
      "3125/3125 [==============================] - 65s 21ms/step - loss: 1.7020 - accuracy: 0.3869 - val_loss: 1.4282 - val_accuracy: 0.4953\n",
      "\n",
      "Epoch 00016: val_accuracy improved from 0.48270 to 0.49530, saving model to ./cifar10-model-16-0.50.hdf5\n",
      "Epoch 17/25\n",
      "3125/3125 [==============================] - 66s 21ms/step - loss: 1.6950 - accuracy: 0.3899 - val_loss: 1.4351 - val_accuracy: 0.4917\n",
      "\n",
      "Epoch 00017: val_accuracy did not improve from 0.49530\n",
      "Epoch 18/25\n",
      "3125/3125 [==============================] - 66s 21ms/step - loss: 1.6904 - accuracy: 0.3938 - val_loss: 1.4295 - val_accuracy: 0.4906\n",
      "\n",
      "Epoch 00018: val_accuracy did not improve from 0.49530\n",
      "Epoch 19/25\n",
      "3125/3125 [==============================] - 66s 21ms/step - loss: 1.6794 - accuracy: 0.3986 - val_loss: 1.4521 - val_accuracy: 0.4897\n",
      "\n",
      "Epoch 00019: val_accuracy did not improve from 0.49530\n",
      "Epoch 20/25\n",
      "3125/3125 [==============================] - 65s 21ms/step - loss: 1.6772 - accuracy: 0.3982 - val_loss: 1.4329 - val_accuracy: 0.4909\n",
      "\n",
      "Epoch 00020: val_accuracy did not improve from 0.49530\n",
      "Epoch 21/25\n",
      "3125/3125 [==============================] - 66s 21ms/step - loss: 1.6702 - accuracy: 0.4002 - val_loss: 1.4431 - val_accuracy: 0.4879\n",
      "\n",
      "Epoch 00021: val_accuracy did not improve from 0.49530\n",
      "Epoch 22/25\n",
      "3125/3125 [==============================] - 66s 21ms/step - loss: 1.6672 - accuracy: 0.3983 - val_loss: 1.4059 - val_accuracy: 0.5005\n",
      "\n",
      "Epoch 00022: val_accuracy improved from 0.49530 to 0.50050, saving model to ./cifar10-model-22-0.50.hdf5\n",
      "Epoch 23/25\n",
      "3125/3125 [==============================] - 65s 21ms/step - loss: 1.6585 - accuracy: 0.4033 - val_loss: 1.4111 - val_accuracy: 0.5075\n",
      "\n",
      "Epoch 00023: val_accuracy improved from 0.50050 to 0.50750, saving model to ./cifar10-model-23-0.51.hdf5\n",
      "Epoch 24/25\n",
      "3125/3125 [==============================] - 65s 21ms/step - loss: 1.6575 - accuracy: 0.4047 - val_loss: 1.3879 - val_accuracy: 0.5152\n",
      "\n",
      "Epoch 00024: val_accuracy improved from 0.50750 to 0.51520, saving model to ./cifar10-model-24-0.52.hdf5\n",
      "Epoch 25/25\n",
      "3125/3125 [==============================] - 65s 21ms/step - loss: 1.6500 - accuracy: 0.4096 - val_loss: 1.3859 - val_accuracy: 0.5087\n",
      "\n",
      "Epoch 00025: val_accuracy did not improve from 0.51520\n"
     ]
    }
   ],
   "source": [
    "# Let's train the model using RMSprop\n",
    "history = model.fit_generator(datagen.flow(x_train, y_train,\n",
    "                                     batch_size=batch_size),\n",
    "                        epochs=epochs,\n",
    "                        validation_data=(x_test, y_test),\n",
    "                        workers=4, callbacks=[checkpoint])"
   ]
  },
  {
   "cell_type": "code",
   "execution_count": 0,
   "metadata": {
    "colab": {},
    "colab_type": "code",
    "id": "KAnM6dDEKPMu"
   },
   "outputs": [],
   "source": [
    "epochs_range = range(25)\n",
    "validation_accuracy = history.history['val_accuracy']\n",
    "training_accuracy = history.history['accuracy']"
   ]
  },
  {
   "cell_type": "code",
   "execution_count": 39,
   "metadata": {
    "colab": {
     "base_uri": "https://localhost:8080/",
     "height": 279
    },
    "colab_type": "code",
    "id": "AUEiUJm3KUbR",
    "outputId": "e109630f-6b96-404e-d535-db56a861cd14"
   },
   "outputs": [
    {
     "data": {
      "image/png": "[encoded data removed]",
      "text/plain": [
       "<Figure size 432x288 with 1 Axes>"
      ]
     },
     "metadata": {
      "needs_background": "light",
      "tags": []
     },
     "output_type": "display_data"
    }
   ],
   "source": [
    "import matplotlib.pyplot as plt\n",
    "\n",
    "plt.plot(epochs_range, training_accuracy, 'b+', label='training accuracy')\n",
    "# ‘bo’는 파란색 점을 의미합니다\n",
    "plt.plot(epochs_range, validation_accuracy, 'bo', label='validation accuracy')\n",
    "plt.xlabel('Epochs')\n",
    "plt.ylabel('Validation accuracy')\n",
    "plt.legend()\n",
    "\n",
    "plt.show()"
   ]
  },
  {
   "cell_type": "code",
   "execution_count": 40,
   "metadata": {
    "colab": {
     "base_uri": "https://localhost:8080/",
     "height": 71
    },
    "colab_type": "code",
    "id": "aU9keG2bKY9j",
    "outputId": "76eee003-bbe1-4094-8384-b85d995c9701"
   },
   "outputs": [
    {
     "name": "stdout",
     "output_type": "stream",
     "text": [
      "10000/10000 [==============================] - 2s 166us/step\n",
      "Test loss: 1.385917218017578\n",
      "Test accuracy: 0.5087000131607056\n"
     ]
    }
   ],
   "source": [
    "scores = model.evaluate(x_test, y_test, verbose=1)\n",
    "print('Test loss:', scores[0])\n",
    "print('Test accuracy:', scores[1])"
   ]
  },
  {
   "cell_type": "code",
   "execution_count": 0,
   "metadata": {
    "colab": {},
    "colab_type": "code",
    "id": "iTMyetH0fIRD"
   },
   "outputs": [],
   "source": []
  }
 ],
 "metadata": {
  "accelerator": "GPU",
  "colab": {
   "collapsed_sections": [],
   "name": "Cifar10_Challenge_with_augmentation.ipynb",
   "provenance": []
  },
  "kernelspec": {
   "display_name": "Python 3",
   "language": "python",
   "name": "python3"
  },
  "language_info": {
   "codemirror_mode": {
    "name": "ipython",
    "version": 3
   },
   "file_extension": ".py",
   "mimetype": "text/x-python",
   "name": "python",
   "nbconvert_exporter": "python",
   "pygments_lexer": "ipython3",
   "version": "3.7.7"
  }
 },
 "nbformat": 4,
 "nbformat_minor": 1
}
