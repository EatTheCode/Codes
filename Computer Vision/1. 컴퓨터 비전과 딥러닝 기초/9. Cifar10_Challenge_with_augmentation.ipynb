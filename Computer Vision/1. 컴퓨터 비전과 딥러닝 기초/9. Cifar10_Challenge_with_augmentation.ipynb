{
 "cells": [
  {
   "cell_type": "code",
   "execution_count": 0,
   "metadata": {
    "colab": {
     "base_uri": "https://localhost:8080/",
     "height": 34
    },
    "colab_type": "code",
    "id": "o_i606WVbmw2",
    "outputId": "1ccb5d31-644b-41e9-b2a8-18e613102203"
   },
   "outputs": [
    {
     "name": "stdout",
     "output_type": "stream",
     "text": [
      "TensorFlow 1.x selected.\n"
     ]
    }
   ],
   "source": [
    "%tensorflow_version 1.x"
   ]
  },
  {
   "cell_type": "code",
   "execution_count": 0,
   "metadata": {
    "colab": {
     "base_uri": "https://localhost:8080/",
     "height": 34
    },
    "colab_type": "code",
    "id": "QHMtnYN4JbzR",
    "outputId": "81bcdb17-4930-4f34-dbb0-2bc1d7c3d852"
   },
   "outputs": [
    {
     "name": "stderr",
     "output_type": "stream",
     "text": [
      "Using TensorFlow backend.\n"
     ]
    }
   ],
   "source": [
    "from __future__ import print_function\n",
    "import keras\n",
    "from keras.datasets import cifar10\n",
    "from keras.preprocessing.image import ImageDataGenerator\n",
    "from keras.models import Sequential\n",
    "from keras.layers import Dense, Dropout, Activation, Flatten\n",
    "from keras.layers import Conv2D, MaxPooling2D, GlobalAveragePooling2D, BatchNormalization\n",
    "import os\n",
    "# augmentation = 증강\n",
    "# 즉, 컴퓨터가 이미지의 일반적인 특징을 파악할 수 있도록 이미지에 여러 변화를 주어 학습시키는것"
   ]
  },
  {
   "cell_type": "code",
   "execution_count": 0,
   "metadata": {
    "colab": {
     "base_uri": "https://localhost:8080/",
     "height": 126
    },
    "colab_type": "code",
    "id": "e32h2VgNnH60",
    "outputId": "76827437-1497-43fb-aa48-6a4afc43a6ec"
   },
   "outputs": [
    {
     "name": "stdout",
     "output_type": "stream",
     "text": [
      "Go to this URL in a browser: https://accounts.google.com/o/oauth2/auth?client_id=947318989803-6bn6qk8qdgf4n4g3pfee6491hc0brc4i.apps.googleusercontent.com&redirect_uri=urn%3aietf%3awg%3aoauth%3a2.0%3aoob&response_type=code&scope=email%20https%3a%2f%2fwww.googleapis.com%2fauth%2fdocs.test%20https%3a%2f%2fwww.googleapis.com%2fauth%2fdrive%20https%3a%2f%2fwww.googleapis.com%2fauth%2fdrive.photos.readonly%20https%3a%2f%2fwww.googleapis.com%2fauth%2fpeopleapi.readonly\n",
      "\n",
      "Enter your authorization code:\n",
      "··········\n",
      "Mounted at /content/gdrive\n"
     ]
    }
   ],
   "source": [
    "from google.colab import auth\n",
    "auth.authenticate_user()\n",
    "\n",
    "from google.colab import drive\n",
    "drive.mount('/content/gdrive')"
   ]
  },
  {
   "cell_type": "code",
   "execution_count": 0,
   "metadata": {
    "colab": {
     "base_uri": "https://localhost:8080/",
     "height": 34
    },
    "colab_type": "code",
    "id": "pBn-DdtanM9D",
    "outputId": "0370f439-5f65-4523-eb83-def71651f0d8"
   },
   "outputs": [
    {
     "name": "stdout",
     "output_type": "stream",
     "text": [
      "/content/gdrive/My Drive/Colab Notebooks/models\n"
     ]
    }
   ],
   "source": [
    "cd gdrive/My Drive/Colab Notebooks/models"
   ]
  },
  {
   "cell_type": "code",
   "execution_count": 0,
   "metadata": {
    "colab": {},
    "colab_type": "code",
    "id": "xN76jTnaJku7"
   },
   "outputs": [],
   "source": [
    "# Hyper parameter \n",
    "batch_size = 16\n",
    "num_classes = 10\n",
    "epochs = 25"
   ]
  },
  {
   "cell_type": "code",
   "execution_count": 0,
   "metadata": {
    "colab": {
     "base_uri": "https://localhost:8080/",
     "height": 52
    },
    "colab_type": "code",
    "id": "GwgPYTeRciqH",
    "outputId": "21efb50a-7c40-4a18-fb49-881d4a00370e"
   },
   "outputs": [
    {
     "name": "stdout",
     "output_type": "stream",
     "text": [
      "Downloading data from https://www.cs.toronto.edu/~kriz/cifar-10-python.tar.gz\n",
      "170500096/170498071 [==============================] - 4s 0us/step\n"
     ]
    }
   ],
   "source": [
    "# The data, split between train and test sets:\n",
    "(x_train, y_train), (x_test, y_test) = cifar10.load_data()"
   ]
  },
  {
   "cell_type": "code",
   "execution_count": 0,
   "metadata": {
    "colab": {
     "base_uri": "https://localhost:8080/",
     "height": 70
    },
    "colab_type": "code",
    "id": "BuwjP0yeJlyu",
    "outputId": "454023be-ddc3-4517-a41e-b67000f7c0bc"
   },
   "outputs": [
    {
     "name": "stdout",
     "output_type": "stream",
     "text": [
      "x_train shape: (50000, 32, 32, 3)\n",
      "50000 train samples\n",
      "10000 test samples\n"
     ]
    }
   ],
   "source": [
    "print('x_train shape:', x_train.shape)\n",
    "# x_train.shape -> (50000, 32, 32, 3)\n",
    "print(x_train.shape[0], 'train samples')\n",
    "print(x_test.shape[0], 'test samples')"
   ]
  },
  {
   "cell_type": "code",
   "execution_count": 0,
   "metadata": {
    "colab": {
     "base_uri": "https://localhost:8080/",
     "height": 141
    },
    "colab_type": "code",
    "id": "9pGz9Z4L6XfN",
    "outputId": "f709e12d-871a-4cc0-c78a-2ae5837ac5a9"
   },
   "outputs": [
    {
     "data": {
      "text/plain": [
       "array([[6],\n",
       "       [9],\n",
       "       [9],\n",
       "       ...,\n",
       "       [9],\n",
       "       [1],\n",
       "       [1]], dtype=uint8)"
      ]
     },
     "execution_count": 8,
     "metadata": {
      "tags": []
     },
     "output_type": "execute_result"
    }
   ],
   "source": [
    "y_train"
   ]
  },
  {
   "cell_type": "code",
   "execution_count": 0,
   "metadata": {
    "colab": {},
    "colab_type": "code",
    "id": "ICtLv_uZJoXe"
   },
   "outputs": [],
   "source": [
    "# 1. y_train -> to_categorical -> categorical dataset -> Loss: categorical_crossentropy\n",
    "# Last dense layer: 10\n",
    "\n",
    "# 2. y_train -> Loss: sparse_categorical_crossentropy\n",
    "# Last dense layer:10\n",
    "\n",
    "y_train = keras.utils.to_categorical(y_train, num_classes)\n",
    "y_test = keras.utils.to_categorical(y_test, num_classes)"
   ]
  },
  {
   "cell_type": "code",
   "execution_count": 0,
   "metadata": {
    "colab": {
     "base_uri": "https://localhost:8080/",
     "height": 141
    },
    "colab_type": "code",
    "id": "lfuWXdpN6nOr",
    "outputId": "445e4c91-dcdc-4e66-850e-df4c2ea87747"
   },
   "outputs": [
    {
     "data": {
      "text/plain": [
       "array([[0., 0., 0., ..., 0., 0., 0.],\n",
       "       [0., 0., 0., ..., 0., 0., 1.],\n",
       "       [0., 0., 0., ..., 0., 0., 1.],\n",
       "       ...,\n",
       "       [0., 0., 0., ..., 0., 0., 1.],\n",
       "       [0., 1., 0., ..., 0., 0., 0.],\n",
       "       [0., 1., 0., ..., 0., 0., 0.]], dtype=float32)"
      ]
     },
     "execution_count": 10,
     "metadata": {
      "tags": []
     },
     "output_type": "execute_result"
    }
   ],
   "source": [
    "# One-hot-encoding\n",
    "y_train"
   ]
  },
  {
   "cell_type": "code",
   "execution_count": 0,
   "metadata": {
    "colab": {},
    "colab_type": "code",
    "id": "-rfn1qzqJ5dW"
   },
   "outputs": [],
   "source": [
    "x_train = x_train.astype('float32')\n",
    "x_test = x_test.astype('float32')\n",
    "x_train /= 255\n",
    "x_test /= 255"
   ]
  },
  {
   "cell_type": "code",
   "execution_count": 0,
   "metadata": {
    "colab": {
     "base_uri": "https://localhost:8080/",
     "height": 34
    },
    "colab_type": "code",
    "id": "4f8DEhJ6oS1F",
    "outputId": "050fdb67-5af1-479f-ef55-78fa0e433399"
   },
   "outputs": [
    {
     "name": "stdout",
     "output_type": "stream",
     "text": [
      "Using real-time data augmentation.\n"
     ]
    }
   ],
   "source": [
    "print('Using real-time data augmentation.')\n",
    "    # This will do preprocessing and realtime data augmentation:\n",
    "datagen = ImageDataGenerator(\n",
    "    featurewise_center=False,  # set input mean to 0 over the dataset\n",
    "    # 평균값 삽입\n",
    "    samplewise_center=False,  # set each sample mean to 0\n",
    "    # \n",
    "    featurewise_std_normalization=False,  # divide inputs by std of the dataset\n",
    "    samplewise_std_normalization=False,  # divide each input by its std\n",
    "    zca_whitening=False,  # apply ZCA whitening\n",
    "    zca_epsilon=1e-06,  # epsilon for ZCA whitening\n",
    "    rotation_range=60,  # randomly rotate images in the range (degrees, 0 to 180)\n",
    "    # randomly shift images horizontally (fraction of total width)\n",
    "    width_shift_range=0.1, # x축 비율 변경\n",
    "    # randomly shift images vertically (fraction of total height)\n",
    "    height_shift_range=0.3,\n",
    "    shear_range=0.,  # set range for random shear 이미지 늘리기\n",
    "    zoom_range=1.5,  # set range for random zoom\n",
    "    channel_shift_range=0.,  # set range for random channel shifts\n",
    "    # set mode for filling points outside the input boundaries\n",
    "    fill_mode='nearest',\n",
    "    cval=0.,  # value used for fill_mode = \"constant\"\n",
    "    horizontal_flip=True,  # randomly flip images x축기준으로 반전\n",
    "    vertical_flip=True,  # randomly flip images y축 기준으로 반전\n",
    "    # set rescaling factor (applied before any other transformation)\n",
    "    rescale=None,\n",
    "    # set function that will be applied on each input\n",
    "    preprocessing_function=None,\n",
    "    # image data format, either \"channels_first\" or \"channels_last\"\n",
    "    data_format=None,\n",
    "    # fraction of images reserved for validation (strictly between 0 and 1)\n",
    "    validation_split=0.0)\n",
    "\n",
    "# Compute quantities required for feature-wise normalization\n",
    "# (std, mean, and principal components if ZCA whitening is applied).\n",
    "datagen.fit(x_train)"
   ]
  },
  {
   "cell_type": "code",
   "execution_count": 0,
   "metadata": {
    "colab": {},
    "colab_type": "code",
    "id": "C2Zt4zUjoYnc"
   },
   "outputs": [],
   "source": [
    "filepath = \"./cifar10-model-{epoch:02d}-{val_accuracy:.2f}.hdf5\"\n",
    "checkpoint = keras.callbacks.ModelCheckpoint(filepath, monitor='val_accuracy', verbose=1, save_best_only=True, mode='max') # mode 늘어나는값 표기\n",
    "#                                                                출력할 함수   학습 진행 상황 표기  accuracy가 높아졌을때만 저장 "
   ]
  },
  {
   "cell_type": "markdown",
   "metadata": {
    "colab_type": "text",
    "id": "iDFttU7cJvdh"
   },
   "source": [
    "네트워크를 직접 설계해 보세요!"
   ]
  },
  {
   "cell_type": "code",
   "execution_count": 0,
   "metadata": {
    "colab": {
     "base_uri": "https://localhost:8080/",
     "height": 126
    },
    "colab_type": "code",
    "id": "qMF9TgYlJvFq",
    "outputId": "694eeeea-3527-412d-84d4-8aa161aeffe2"
   },
   "outputs": [
    {
     "name": "stdout",
     "output_type": "stream",
     "text": [
      "WARNING:tensorflow:From /tensorflow-1.15.2/python3.6/tensorflow_core/python/ops/resource_variable_ops.py:1630: calling BaseResourceVariable.__init__ (from tensorflow.python.ops.resource_variable_ops) with constraint is deprecated and will be removed in a future version.\n",
      "Instructions for updating:\n",
      "If using Keras pass *_constraint arguments to layers.\n",
      "WARNING:tensorflow:From /usr/local/lib/python3.6/dist-packages/keras/backend/tensorflow_backend.py:4070: The name tf.nn.max_pool is deprecated. Please use tf.nn.max_pool2d instead.\n",
      "\n"
     ]
    }
   ],
   "source": [
    "# for example,\n",
    "n_kernels = 4\n",
    "model = Sequential()\n"
   ]
  },
  {
   "cell_type": "code",
   "execution_count": 0,
   "metadata": {
    "colab": {
     "base_uri": "https://localhost:8080/",
     "height": 587
    },
    "colab_type": "code",
    "id": "tTTlF8aFH4gR",
    "outputId": "a5f07779-ab9d-4ed4-9f0f-2d38e20de85f"
   },
   "outputs": [
    {
     "name": "stdout",
     "output_type": "stream",
     "text": [
      "Model: \"sequential_1\"\n",
      "_________________________________________________________________\n",
      "Layer (type)                 Output Shape              Param #   \n",
      "=================================================================\n",
      "conv2d_1 (Conv2D)            (None, 30, 30, 32)        896       \n",
      "_________________________________________________________________\n",
      "conv2d_2 (Conv2D)            (None, 28, 28, 64)        18496     \n",
      "_________________________________________________________________\n",
      "batch_normalization_1 (Batch (None, 28, 28, 64)        256       \n",
      "_________________________________________________________________\n",
      "max_pooling2d_1 (MaxPooling2 (None, 14, 14, 64)        0         \n",
      "_________________________________________________________________\n",
      "conv2d_3 (Conv2D)            (None, 12, 12, 64)        36928     \n",
      "_________________________________________________________________\n",
      "conv2d_4 (Conv2D)            (None, 10, 10, 128)       73856     \n",
      "_________________________________________________________________\n",
      "batch_normalization_2 (Batch (None, 10, 10, 128)       512       \n",
      "_________________________________________________________________\n",
      "max_pooling2d_2 (MaxPooling2 (None, 5, 5, 128)         0         \n",
      "_________________________________________________________________\n",
      "conv2d_5 (Conv2D)            (None, 3, 3, 256)         295168    \n",
      "_________________________________________________________________\n",
      "batch_normalization_3 (Batch (None, 3, 3, 256)         1024      \n",
      "_________________________________________________________________\n",
      "global_average_pooling2d_1 ( (None, 256)               0         \n",
      "_________________________________________________________________\n",
      "dense_1 (Dense)              (None, 10)                2570      \n",
      "=================================================================\n",
      "Total params: 429,706\n",
      "Trainable params: 428,810\n",
      "Non-trainable params: 896\n",
      "_________________________________________________________________\n"
     ]
    }
   ],
   "source": [
    "model.summary()"
   ]
  },
  {
   "cell_type": "code",
   "execution_count": 0,
   "metadata": {
    "colab": {},
    "colab_type": "code",
    "id": "NT5sENY6KNrG"
   },
   "outputs": [],
   "source": [
    "opt = keras.optimizers.rmsprop(lr=0.0001, decay=1e-6)"
   ]
  },
  {
   "cell_type": "code",
   "execution_count": 0,
   "metadata": {
    "colab": {},
    "colab_type": "code",
    "id": "9IeXOhUUon7i"
   },
   "outputs": [],
   "source": [
    "model.compile(loss='categorical_crossentropy',\n",
    "              optimizer=opt,\n",
    "              metrics=['accuracy'])"
   ]
  },
  {
   "cell_type": "code",
   "execution_count": 0,
   "metadata": {
    "colab": {
     "base_uri": "https://localhost:8080/",
     "height": 1000
    },
    "colab_type": "code",
    "id": "Zd1E5FY4JqQG",
    "outputId": "93c07995-4915-4f76-cf46-ec6407250a09"
   },
   "outputs": [
    {
     "name": "stdout",
     "output_type": "stream",
     "text": [
      "Epoch 1/25\n",
      "3125/3125 [==============================] - 52s 17ms/step - loss: 1.9414 - accuracy: 0.2916 - val_loss: 1.8417 - val_accuracy: 0.3498\n",
      "\n",
      "Epoch 00001: val_accuracy improved from -inf to 0.34980, saving model to ./cifar10-model-01-0.35.hdf5\n",
      "Epoch 2/25\n",
      "3125/3125 [==============================] - 52s 17ms/step - loss: 1.8936 - accuracy: 0.3063 - val_loss: 1.7215 - val_accuracy: 0.3746\n",
      "\n",
      "Epoch 00002: val_accuracy improved from 0.34980 to 0.37460, saving model to ./cifar10-model-02-0.37.hdf5\n",
      "Epoch 3/25\n",
      "3125/3125 [==============================] - 52s 17ms/step - loss: 1.8669 - accuracy: 0.3184 - val_loss: 1.6910 - val_accuracy: 0.4016\n",
      "\n",
      "Epoch 00003: val_accuracy improved from 0.37460 to 0.40160, saving model to ./cifar10-model-03-0.40.hdf5\n",
      "Epoch 4/25\n",
      "3125/3125 [==============================] - 52s 17ms/step - loss: 1.8422 - accuracy: 0.3313 - val_loss: 1.6599 - val_accuracy: 0.4037\n",
      "\n",
      "Epoch 00004: val_accuracy improved from 0.40160 to 0.40370, saving model to ./cifar10-model-04-0.40.hdf5\n",
      "Epoch 5/25\n",
      "3125/3125 [==============================] - 51s 16ms/step - loss: 1.8139 - accuracy: 0.3432 - val_loss: 1.6286 - val_accuracy: 0.4249\n",
      "\n",
      "Epoch 00005: val_accuracy improved from 0.40370 to 0.42490, saving model to ./cifar10-model-05-0.42.hdf5\n",
      "Epoch 6/25\n",
      "3125/3125 [==============================] - 52s 17ms/step - loss: 1.7967 - accuracy: 0.3483 - val_loss: 1.7269 - val_accuracy: 0.4055\n",
      "\n",
      "Epoch 00006: val_accuracy did not improve from 0.42490\n",
      "Epoch 7/25\n",
      "3125/3125 [==============================] - 52s 17ms/step - loss: 1.7738 - accuracy: 0.3631 - val_loss: 1.7079 - val_accuracy: 0.4028\n",
      "\n",
      "Epoch 00007: val_accuracy did not improve from 0.42490\n",
      "Epoch 8/25\n",
      "3125/3125 [==============================] - 53s 17ms/step - loss: 1.7668 - accuracy: 0.3644 - val_loss: 1.5546 - val_accuracy: 0.4458\n",
      "\n",
      "Epoch 00008: val_accuracy improved from 0.42490 to 0.44580, saving model to ./cifar10-model-08-0.45.hdf5\n",
      "Epoch 9/25\n",
      "3125/3125 [==============================] - 52s 17ms/step - loss: 1.7524 - accuracy: 0.3674 - val_loss: 1.6627 - val_accuracy: 0.4201\n",
      "\n",
      "Epoch 00009: val_accuracy did not improve from 0.44580\n",
      "Epoch 10/25\n",
      "3125/3125 [==============================] - 53s 17ms/step - loss: 1.7514 - accuracy: 0.3675 - val_loss: 1.7010 - val_accuracy: 0.4096\n",
      "\n",
      "Epoch 00010: val_accuracy did not improve from 0.44580\n",
      "Epoch 11/25\n",
      "3125/3125 [==============================] - 52s 17ms/step - loss: 1.7286 - accuracy: 0.3747 - val_loss: 1.5417 - val_accuracy: 0.4561\n",
      "\n",
      "Epoch 00011: val_accuracy improved from 0.44580 to 0.45610, saving model to ./cifar10-model-11-0.46.hdf5\n",
      "Epoch 12/25\n",
      "3125/3125 [==============================] - 53s 17ms/step - loss: 1.7164 - accuracy: 0.3814 - val_loss: 1.5547 - val_accuracy: 0.4567\n",
      "\n",
      "Epoch 00012: val_accuracy improved from 0.45610 to 0.45670, saving model to ./cifar10-model-12-0.46.hdf5\n",
      "Epoch 13/25\n",
      "3125/3125 [==============================] - 52s 17ms/step - loss: 1.7079 - accuracy: 0.3852 - val_loss: 1.6001 - val_accuracy: 0.4404\n",
      "\n",
      "Epoch 00013: val_accuracy did not improve from 0.45670\n",
      "Epoch 14/25\n",
      "3125/3125 [==============================] - 52s 17ms/step - loss: 1.7088 - accuracy: 0.3851 - val_loss: 1.4951 - val_accuracy: 0.4729\n",
      "\n",
      "Epoch 00014: val_accuracy improved from 0.45670 to 0.47290, saving model to ./cifar10-model-14-0.47.hdf5\n",
      "Epoch 15/25\n",
      "3125/3125 [==============================] - 52s 17ms/step - loss: 1.6935 - accuracy: 0.3920 - val_loss: 1.4934 - val_accuracy: 0.4724\n",
      "\n",
      "Epoch 00015: val_accuracy did not improve from 0.47290\n",
      "Epoch 16/25\n",
      "3125/3125 [==============================] - 52s 17ms/step - loss: 1.6814 - accuracy: 0.3951 - val_loss: 1.5582 - val_accuracy: 0.4617\n",
      "\n",
      "Epoch 00016: val_accuracy did not improve from 0.47290\n",
      "Epoch 17/25\n",
      "3125/3125 [==============================] - 52s 17ms/step - loss: 1.6805 - accuracy: 0.3976 - val_loss: 1.5268 - val_accuracy: 0.4691\n",
      "\n",
      "Epoch 00017: val_accuracy did not improve from 0.47290\n",
      "Epoch 18/25\n",
      "3125/3125 [==============================] - 52s 17ms/step - loss: 1.6737 - accuracy: 0.3985 - val_loss: 1.4766 - val_accuracy: 0.4772\n",
      "\n",
      "Epoch 00018: val_accuracy improved from 0.47290 to 0.47720, saving model to ./cifar10-model-18-0.48.hdf5\n",
      "Epoch 19/25\n",
      "3125/3125 [==============================] - 53s 17ms/step - loss: 1.6663 - accuracy: 0.4011 - val_loss: 1.4682 - val_accuracy: 0.4927\n",
      "\n",
      "Epoch 00019: val_accuracy improved from 0.47720 to 0.49270, saving model to ./cifar10-model-19-0.49.hdf5\n",
      "Epoch 20/25\n",
      "3125/3125 [==============================] - 52s 17ms/step - loss: 1.6599 - accuracy: 0.4038 - val_loss: 1.3964 - val_accuracy: 0.5079\n",
      "\n",
      "Epoch 00020: val_accuracy improved from 0.49270 to 0.50790, saving model to ./cifar10-model-20-0.51.hdf5\n",
      "Epoch 21/25\n",
      "3125/3125 [==============================] - 52s 17ms/step - loss: 1.6553 - accuracy: 0.4096 - val_loss: 1.4933 - val_accuracy: 0.4846\n",
      "\n",
      "Epoch 00021: val_accuracy did not improve from 0.50790\n",
      "Epoch 22/25\n",
      "3125/3125 [==============================] - 52s 17ms/step - loss: 1.6458 - accuracy: 0.4097 - val_loss: 1.4043 - val_accuracy: 0.5068\n",
      "\n",
      "Epoch 00022: val_accuracy did not improve from 0.50790\n",
      "Epoch 23/25\n",
      "3125/3125 [==============================] - 52s 17ms/step - loss: 1.6468 - accuracy: 0.4102 - val_loss: 1.4329 - val_accuracy: 0.4942\n",
      "\n",
      "Epoch 00023: val_accuracy did not improve from 0.50790\n",
      "Epoch 24/25\n",
      "3125/3125 [==============================] - 51s 16ms/step - loss: 1.6438 - accuracy: 0.4090 - val_loss: 1.5044 - val_accuracy: 0.4806\n",
      "\n",
      "Epoch 00024: val_accuracy did not improve from 0.50790\n",
      "Epoch 25/25\n",
      "3125/3125 [==============================] - 52s 17ms/step - loss: 1.6335 - accuracy: 0.4166 - val_loss: 1.3673 - val_accuracy: 0.5142\n",
      "\n",
      "Epoch 00025: val_accuracy improved from 0.50790 to 0.51420, saving model to ./cifar10-model-25-0.51.hdf5\n"
     ]
    }
   ],
   "source": [
    "# Let's train the model using RMSprop\n",
    "# fit 과 fit_generator 차이\n",
    "# fit = keras에 가장 쉽제 이용되는 학습방법 - 데이터를 통째로 집어넣음(배치사이즈 등을 알아서 계산)\n",
    "# fir_generate batch size등의 커스터마이즈할때(램사이즈에 맞게 배치사이즈를 조정해주고 1epioh을 정의해주어서 전체 데이터를 세팅 할때)\n",
    "history = model.fit_generator(datagen.flow(x_train, y_train, #flow 데이터의 정보를 넘겨줌\n",
    "                                     batch_size=batch_size),\n",
    "                        epochs=epochs,\n",
    "                        validation_data=(x_test, y_test),\n",
    "                        workers=4, callbacks=[checkpoint])"
   ]
  },
  {
   "cell_type": "code",
   "execution_count": 0,
   "metadata": {
    "colab": {},
    "colab_type": "code",
    "id": "KAnM6dDEKPMu"
   },
   "outputs": [],
   "source": [
    "epochs_range = range(25)\n",
    "validation_accuracy = history.history['val_accuracy']\n",
    "training_accuracy = history.history['accuracy']"
   ]
  },
  {
   "cell_type": "code",
   "execution_count": 0,
   "metadata": {
    "colab": {
     "base_uri": "https://localhost:8080/",
     "height": 279
    },
    "colab_type": "code",
    "id": "AUEiUJm3KUbR",
    "outputId": "be06d2e4-e461-49ad-a9c8-b7d99cdc3ebf"
   },
   "outputs": [
    {
     "data": {
      "image/png": "[encoded data removed]",
      "text/plain": [
       "<Figure size 432x288 with 1 Axes>"
      ]
     },
     "metadata": {
      "tags": []
     },
     "output_type": "display_data"
    }
   ],
   "source": [
    "import matplotlib.pyplot as plt\n",
    "\n",
    "plt.plot(epochs_range, training_accuracy, 'b+', label='training accuracy')\n",
    "# ‘bo’는 파란색 점을 의미합니다\n",
    "plt.plot(epochs_range, validation_accuracy, 'bo', label='validation accuracy')\n",
    "plt.xlabel('Epochs')\n",
    "plt.ylabel('Validation accuracy')\n",
    "plt.legend()\n",
    "\n",
    "plt.show()"
   ]
  },
  {
   "cell_type": "code",
   "execution_count": 0,
   "metadata": {
    "colab": {
     "base_uri": "https://localhost:8080/",
     "height": 70
    },
    "colab_type": "code",
    "id": "aU9keG2bKY9j",
    "outputId": "02b4cfb8-045b-4beb-c032-9503e96b558a"
   },
   "outputs": [
    {
     "name": "stdout",
     "output_type": "stream",
     "text": [
      "10000/10000 [==============================] - 2s 206us/step\n",
      "Test loss: 0.9792179574489593\n",
      "Test accuracy: 0.7587\n"
     ]
    }
   ],
   "source": [
    "scores = model.evaluate(x_test, y_test, verbose=1)\n",
    "print('Test loss:', scores[0])\n",
    "print('Test accuracy:', scores[1])"
   ]
  },
  {
   "cell_type": "code",
   "execution_count": 0,
   "metadata": {
    "colab": {},
    "colab_type": "code",
    "id": "iTMyetH0fIRD"
   },
   "outputs": [],
   "source": []
  }
 ],
 "metadata": {
  "accelerator": "GPU",
  "colab": {
   "collapsed_sections": [],
   "name": "Cifar10_Challenge_with_augmentation.ipynb",
   "provenance": []
  },
  "kernelspec": {
   "display_name": "Python 3",
   "language": "python",
   "name": "python3"
  },
  "language_info": {
   "codemirror_mode": {
    "name": "ipython",
    "version": 3
   },
   "file_extension": ".py",
   "mimetype": "text/x-python",
   "name": "python",
   "nbconvert_exporter": "python",
   "pygments_lexer": "ipython3",
   "version": "3.7.7"
  }
 },
 "nbformat": 4,
 "nbformat_minor": 1
}
