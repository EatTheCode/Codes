{
 "cells": [
  {
   "cell_type": "markdown",
   "metadata": {},
   "source": [
    "\n",
    "열이 많을수록 계산이 오래걸린다\n",
    "\n",
    "Wine 예제를 사용한 실제데이터 오차 확인"
   ]
  },
  {
   "cell_type": "code",
   "execution_count": 14,
   "metadata": {},
   "outputs": [],
   "source": [
    "import numpy as np\n",
    "import matplotlib.pyplot as plt\n",
    "from datetime import datetime"
   ]
  },
  {
   "cell_type": "code",
   "execution_count": 15,
   "metadata": {},
   "outputs": [],
   "source": [
    "# 수치미분 함수\n",
    "\n",
    "def numerical_derivative(f, x):\n",
    "    delta_x = 1e-4 # 0.0001\n",
    "    grad = np.zeros_like(x)\n",
    "    \n",
    "    it = np.nditer(x, flags=['multi_index'], op_flags=['readwrite'])\n",
    "    \n",
    "    while not it.finished:\n",
    "        idx = it.multi_index        \n",
    "        tmp_val = x[idx]\n",
    "        x[idx] = float(tmp_val) + delta_x\n",
    "        fx1 = f(x) # f(x+delta_x)\n",
    "        \n",
    "        x[idx] = tmp_val - delta_x \n",
    "        fx2 = f(x) # f(x-delta_x)\n",
    "        grad[idx] = (fx1 - fx2) / (2*delta_x)\n",
    "        \n",
    "        x[idx] = tmp_val \n",
    "        it.iternext()   \n",
    "        \n",
    "    return grad\n",
    "\n",
    "# sigmoid 함수\n",
    "\n",
    "def sigmoid(x):\n",
    "    return 1 / (1+np.exp(-x))"
   ]
  },
  {
   "cell_type": "code",
   "execution_count": 16,
   "metadata": {},
   "outputs": [],
   "source": [
    "class Wine:\n",
    "    \n",
    "    def __init__(self, name, input_nodes, hidden1_nodes, output_nodes, learning_rate):\n",
    "        \n",
    "        self.name = name\n",
    "        \n",
    "        # 2층 hidden layer unit \n",
    "        # 가중치 W, 바이어스 b 초기화\n",
    "        self.W2 = np.random.rand(input_nodes, hidden1_nodes)  \n",
    "        self.b2 = np.random.rand(hidden1_nodes)\n",
    "        \n",
    "        # 3층 hidden layer unit  \n",
    "        self.W3 = np.random.rand(hidden1_nodes, output_nodes)\n",
    "        self.b3 = np.random.rand(output_nodes)\n",
    "        \n",
    "        # 학습률 learning rate 초기화\n",
    "        self.learning_rate = learning_rate\n",
    "        \n",
    "        print(self.name, \" is created !!!\")\n",
    "        \n",
    "    # 손실함수\n",
    "    def feed_forward(self):\n",
    "        \n",
    "        delta = 1e-7    # log 무한대 발산 방지\n",
    "    \n",
    "        z2 = np.dot(self.input_data, self.W2) + self.b2\n",
    "        a2 = sigmoid(z2)\n",
    "        \n",
    "        z3 = np.dot(a2, self.W3) + self.b3\n",
    "        y = a3 = sigmoid(z3)\n",
    "    \n",
    "        # cross-entropy \n",
    "        return  -np.sum( self.target_data*np.log(y + delta) + (1-self.target_data)*np.log((1 - y)+delta ) )\n",
    "    \n",
    "    # 손실 값 계산\n",
    "    def loss_val(self):\n",
    "        \n",
    "        delta = 1e-7    # log 무한대 발산 방지\n",
    "    \n",
    "        z2 = np.dot(self.input_data, self.W2) + self.b2\n",
    "        a2 = sigmoid(z2)\n",
    "        \n",
    "        z3 = np.dot(a2, self.W3) + self.b3\n",
    "        y = a3 = sigmoid(z3)\n",
    "            \n",
    "        # cross-entropy \n",
    "        return  -np.sum( self.target_data*np.log(y + delta) + (1-self.target_data)*np.log((1 - y)+delta ) )\n",
    "    \n",
    "    # query, 즉 미래 값 예측 함수\n",
    "    def predict(self, input_data):    \n",
    "        \n",
    "        z2 = np.dot(input_data, self.W2) + self.b2\n",
    "        a2 = sigmoid(z2)\n",
    "        \n",
    "        z3 = np.dot(a2, self.W3) + self.b3\n",
    "        y = a3 = sigmoid(z3)\n",
    "        \n",
    "        if y >= 0.5:\n",
    "            result = 1  # True\n",
    "        else:\n",
    "            result = 0  # False\n",
    "    \n",
    "        return y, result\n",
    "    \n",
    "    def accuracy(self, input_data, target_data):\n",
    "        \n",
    "        matched_list = []\n",
    "        not_matched_list = []\n",
    "        \n",
    "        for index in range(len(input_data)):\n",
    "            \n",
    "            (real_val, logical_val) = self.predict(input_data[index])\n",
    "            \n",
    "            if logical_val == target_data[index]:\n",
    "                matched_list.append(index)\n",
    "            else:\n",
    "                not_matched_list.append(index)\n",
    "                \n",
    "        accuracy_result = len(matched_list) / len(input_data)\n",
    "        \n",
    "        #print(\"Accuracy => \", accuracy_result)\n",
    "        \n",
    "        return not_matched_list, accuracy_result\n",
    "        \n",
    "        \n",
    "    # 수치미분을 이용하여 손실함수가 최소가 될때 까지 학습하는 함수\n",
    "    def train(self, input_data, target_data):\n",
    "        \n",
    "        self.input_data = input_data\n",
    "        self.target_data = target_data\n",
    "        \n",
    "        f = lambda x : self.feed_forward()\n",
    "        \n",
    "        self.W2 -= self.learning_rate * numerical_derivative(f, self.W2)\n",
    "    \n",
    "        self.b2 -= self.learning_rate * numerical_derivative(f, self.b2)\n",
    "        \n",
    "        self.W3 -= self.learning_rate * numerical_derivative(f, self.W3)\n",
    "    \n",
    "        self.b3 -= self.learning_rate * numerical_derivative(f, self.b3)"
   ]
  },
  {
   "cell_type": "code",
   "execution_count": 17,
   "metadata": {},
   "outputs": [],
   "source": [
    "class DataGeneration:\n",
    "    \n",
    "    def __init__(self, name, file_path, seperation_rate):\n",
    "        \n",
    "        self.name = name\n",
    "        \n",
    "        self.file_path = file_path\n",
    "        \n",
    "        self.seperation_rate = seperation_rate\n",
    "        \n",
    "    # numpy.random.shuffle()  이용하여 training_data / test_data 생성\n",
    "    def generate(self):\n",
    "    \n",
    "        # 데이터 불러오기, 파일이 없는 경우 exception 발생\n",
    "\n",
    "        try:\n",
    "            loaded_data = np.loadtxt(self.file_path, delimiter=',', dtype=np.float32)\n",
    "            \n",
    "        except Exception as err:\n",
    "            print('[DataGeneration::generate()]  ', str(err))\n",
    "            raise Exception(str(err))\n",
    "\n",
    "        print(\"[DataGeneration]  loaded_data.shape = \", loaded_data.shape)\n",
    "        \n",
    "        \n",
    "        # 분리비율에 맞게 테스트데이터로 분리\n",
    "        total_data_num = len(loaded_data)\n",
    "        test_data_num = int(len(loaded_data) * self.seperation_rate)\n",
    "\n",
    "        # numpy.random.shuffle 을 이용하여 랜덤하게 데이터 섞기\n",
    "        np.random.shuffle(loaded_data)\n",
    "        \n",
    "        # test_data 는 0 : test_data_num\n",
    "        \n",
    "        test_data = loaded_data[ 0:test_data_num ]\n",
    "\n",
    "        # training_data 는 test_data_num 부터 끝까지 \n",
    "        training_data = loaded_data[ test_data_num: ]\n",
    "\n",
    "        \n",
    "        return training_data, test_data"
   ]
  },
  {
   "cell_type": "code",
   "execution_count": 63,
   "metadata": {},
   "outputs": [
    {
     "name": "stdout",
     "output_type": "stream",
     "text": [
      "[DataGeneration]  loaded_data.shape =  (6497, 13)\n",
      "================================================\n",
      "training data.shape =  (4548, 13)\n",
      "test data.shape =  (1949, 13)\n",
      "<class 'numpy.ndarray'> <class 'numpy.ndarray'>\n",
      "[0. 1.]\n",
      "[3433 1115]\n",
      "================================================\n"
     ]
    }
   ],
   "source": [
    "test_seperation_rate = 0.3\n",
    "\n",
    "data_obj = DataGeneration('Wine', './(200309)wine.csv', test_seperation_rate)\n",
    "\n",
    "(training_data, test_data) = data_obj.generate()\n",
    "\n",
    "\n",
    "print('================================================')\n",
    "print('training data.shape = ', training_data.shape)\n",
    "print('test data.shape = ', test_data.shape)\n",
    "\n",
    "print('================================================')"
   ]
  },
  {
   "cell_type": "code",
   "execution_count": 22,
   "metadata": {},
   "outputs": [
    {
     "name": "stdout",
     "output_type": "stream",
     "text": [
      "Wine  is created !!!\n",
      "Neural Network Learning using Numerical Derivative...\n",
      "epochs =  1 , learning rate =  0.01 , hiddden nodes =  10 , sepeartion rate =  0.3 , loss value =  0.23365822429521005\n",
      "epochs =  2 , learning rate =  0.01 , hiddden nodes =  10 , sepeartion rate =  0.3 , loss value =  0.23365822429527386\n",
      "epochs =  3 , learning rate =  0.01 , hiddden nodes =  10 , sepeartion rate =  0.3 , loss value =  0.23365822429518313\n",
      "epochs =  4 , learning rate =  0.01 , hiddden nodes =  10 , sepeartion rate =  0.3 , loss value =  0.2336582242951558\n",
      "epochs =  5 , learning rate =  0.01 , hiddden nodes =  10 , sepeartion rate =  0.3 , loss value =  0.23365822429526867\n",
      "epochs =  6 , learning rate =  0.01 , hiddden nodes =  10 , sepeartion rate =  0.3 , loss value =  0.2336582242951597\n",
      "epochs =  7 , learning rate =  0.01 , hiddden nodes =  10 , sepeartion rate =  0.3 , loss value =  0.23365822429514357\n",
      "epochs =  8 , learning rate =  0.01 , hiddden nodes =  10 , sepeartion rate =  0.3 , loss value =  0.23365822429505761\n",
      "epochs =  9 , learning rate =  0.01 , hiddden nodes =  10 , sepeartion rate =  0.3 , loss value =  0.23365822429501765\n",
      "epochs =  10 , learning rate =  0.01 , hiddden nodes =  10 , sepeartion rate =  0.3 , loss value =  0.23365822429500907\n",
      "epochs =  11 , learning rate =  0.01 , hiddden nodes =  10 , sepeartion rate =  0.3 , loss value =  0.23365822429500024\n",
      "epochs =  12 , learning rate =  0.01 , hiddden nodes =  10 , sepeartion rate =  0.3 , loss value =  0.23365822429499883\n",
      "epochs =  13 , learning rate =  0.01 , hiddden nodes =  10 , sepeartion rate =  0.3 , loss value =  0.23365822429488273\n",
      "epochs =  14 , learning rate =  0.01 , hiddden nodes =  10 , sepeartion rate =  0.3 , loss value =  0.23365822429496377\n",
      "epochs =  15 , learning rate =  0.01 , hiddden nodes =  10 , sepeartion rate =  0.3 , loss value =  0.2336582242949158\n",
      "epochs =  16 , learning rate =  0.01 , hiddden nodes =  10 , sepeartion rate =  0.3 , loss value =  0.23365822429489858\n",
      "epochs =  17 , learning rate =  0.01 , hiddden nodes =  10 , sepeartion rate =  0.3 , loss value =  0.2336582242947931\n",
      "epochs =  18 , learning rate =  0.01 , hiddden nodes =  10 , sepeartion rate =  0.3 , loss value =  0.23365822429483812\n",
      "epochs =  19 , learning rate =  0.01 , hiddden nodes =  10 , sepeartion rate =  0.3 , loss value =  0.23365822429483224\n",
      "epochs =  20 , learning rate =  0.01 , hiddden nodes =  10 , sepeartion rate =  0.3 , loss value =  0.23365822429476266\n",
      "\n",
      "Elapsed Time =>  0:10:57.568350\n"
     ]
    }
   ],
   "source": [
    "i_nodes = training_data.shape[1] - 1    # input nodes 개수\n",
    "h1_nodes = 10  # hidden 1 nodes 개수. \n",
    "o_nodes = 1    # output nodes 개수\n",
    "lr = 1e-2      # learning rate. hi_node = 2, 1e-1 에서 수렴\n",
    "epochs = 20   # 반복횟수. \n",
    "\n",
    "# 저장 리스트\n",
    "loss_val_list = []    # loss val list\n",
    "accuracy_val_list = []    # training data accuracy val\n",
    "validation_accuracy_val_list = []    # validation data loss val\n",
    "\n",
    "\n",
    "# Diabetes 객체 생성\n",
    "obj1 = Wine(\"Wine\", i_nodes, h1_nodes, o_nodes, lr)\n",
    "\n",
    "print(\"Neural Network Learning using Numerical Derivative...\")\n",
    "\n",
    "start_time = datetime.now()\n",
    "\n",
    "for step in range(epochs):\n",
    "    \n",
    "    for index in range(len(training_data)):\n",
    "        \n",
    "        input_data = training_data[index, 0:-1]\n",
    "        target_data = training_data[index, [-1]]\n",
    "        \n",
    "        obj1.train(input_data, target_data)\n",
    "        \n",
    "    cur_loss_val = obj1.loss_val()\n",
    "    \n",
    "    loss_val_list.append(cur_loss_val)\n",
    "    \n",
    "    print('epochs = ', step+1, ', learning rate = ', lr, ', hiddden nodes = ', h1_nodes, ', sepeartion rate = ', test_seperation_rate, ', loss value = ', cur_loss_val)\n",
    "    \n",
    "\n",
    "end_time = datetime.now()\n",
    "        \n",
    "print(\"\")\n",
    "print(\"Elapsed Time => \", end_time - start_time)"
   ]
  },
  {
   "cell_type": "code",
   "execution_count": 23,
   "metadata": {},
   "outputs": [
    {
     "name": "stdout",
     "output_type": "stream",
     "text": [
      "Test Data Accuracy =  0.76\n"
     ]
    }
   ],
   "source": [
    "test_input_data = test_data[ :, 0:-1 ]\n",
    "test_target_data = test_data[ :, -1 ]\n",
    "\n",
    "(false_list, accuracy_ret) = obj1.accuracy(test_input_data, test_target_data) \n",
    "\n",
    "print('Test Data Accuracy = ', np.round(accuracy_ret, 3))"
   ]
  },
  {
   "cell_type": "code",
   "execution_count": 24,
   "metadata": {
    "scrolled": true
   },
   "outputs": [
    {
     "data": {
      "image/png": "[encoded data removed]",
      "text/plain": [
       "<Figure size 432x288 with 1 Axes>"
      ]
     },
     "metadata": {
      "needs_background": "light"
     },
     "output_type": "display_data"
    }
   ],
   "source": [
    "plt.title('Loss Value Trend')\n",
    "plt.xlabel('epochs')\n",
    "plt.ylabel('loss')\n",
    "plt.grid()\n",
    "plt.plot(loss_val_list)\n",
    "plt.show()"
   ]
  },
  {
   "cell_type": "code",
   "execution_count": null,
   "metadata": {},
   "outputs": [],
   "source": [
    "그래프가 이렇게 튀는 이유\n",
    "test data가 정형화(균일) 되지 않음\n",
    "해결법\n",
    "튀는데이터를 제거\n",
    "1. data inspectation(데이터 조사)\n",
    "2. decision making\n",
    "제외했을때 오버피팅이 발생하거나 제외해도 상관없다면 그 근거를 찾는것이\n",
    "회사의 질을 결정한다.\n",
    "정량적인 평가 지표"
   ]
  },
  {
   "cell_type": "code",
   "execution_count": 55,
   "metadata": {},
   "outputs": [
    {
     "name": "stdout",
     "output_type": "stream",
     "text": [
      "<class 'numpy.ndarray'> <class 'numpy.ndarray'>\n",
      "[2 5 6 7 8]\n",
      "[3 2 2 1 1]\n"
     ]
    }
   ],
   "source": [
    "A = np.array([5,2,6,2,7,5,6,8,2,9])\n",
    "\n",
    "unique, counts = np.unique(A, return_counts=True)\n",
    "\n",
    "print(type(unique), type(counts))\n",
    "print(unique)\n",
    "print(counts)"
   ]
  },
  {
   "cell_type": "code",
   "execution_count": null,
   "metadata": {},
   "outputs": [],
   "source": []
  }
 ],
 "metadata": {
  "kernelspec": {
   "display_name": "Python 3",
   "language": "python",
   "name": "python3"
  },
  "language_info": {
   "codemirror_mode": {
    "name": "ipython",
    "version": 3
   },
   "file_extension": ".py",
   "mimetype": "text/x-python",
   "name": "python",
   "nbconvert_exporter": "python",
   "pygments_lexer": "ipython3",
   "version": "3.7.2"
  }
 },
 "nbformat": 4,
 "nbformat_minor": 4
}
