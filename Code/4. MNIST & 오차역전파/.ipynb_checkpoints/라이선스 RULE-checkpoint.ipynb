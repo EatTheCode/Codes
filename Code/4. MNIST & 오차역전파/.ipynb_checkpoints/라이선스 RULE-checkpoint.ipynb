{
 "cells": [
  {
   "cell_type": "markdown",
   "metadata": {},
   "source": [
    "정리 : 오픈소스의 라이센스\n",
    "    \n",
    "    \n",
    "공개 sw과제의 경우 기술료를 면제할 수 있으며 사업비 전액을 정부출연금으로 지원 가능\n",
    "\n",
    "오픈소스란 소스코드를 공개하여 자유롭게 수정, 재배포 할수 있는 자유로운 sw를 말함  단 저작권자에 의한 라이선스 규정을 준수해야함\n",
    "\n",
    "\n",
    "라이선스는 이런 화살표를 따라가면서 만들어야한다\n",
    "만약 반대방향의 라이선스를 사용하고 싶다면 듀얼라이성스(상업용버전)을 구매후 사용해야 한다\n",
    "A 코드를 사용해서 B 프로그램을 작성할때\n",
    "현재는 3명이 1달을 평균적으로 개발함\n",
    "1명당 소요비용이 한달에 편균 1000 만원일때\n",
    "새로운 모듈 c 를 개발하면 2명이 15일만 작업해도 됨\n",
    "15일만 작업할수 있는 근거와 수치를 제시하면 끝\n",
    "새로운 c를 개발할때 들어가는 비용과 기간이 있죠\n",
    "이 비용과 기간이 현재 a 를 계속쓸대의 비용을 상쇄해야 함\n",
    "\n",
    "Legacy code\n"
   ]
  },
  {
   "cell_type": "markdown",
   "metadata": {},
   "source": [
    "다음과 같은 오픈소스 라이선스를 가진 4개의 모듈을 이용하여 개발한다고 가정하자\n",
    "A (APL2.0), B(GPLv2), C(GPLv2+), d (LGPLv2.1)\n",
    "\n",
    "2.1 A, B, C, D 이용하여 개발 할 경우 반드시 따라야 할 공통적인 의무사항은 무엇인가\n",
    "\n",
    "- 출처를 남긴다(주석을 지우지 않는다), 저작권 고지의 의무를 준수한다\n",
    "2.2 A, B, C, D 를 2개씩 조합하여 배포할 경우, 1. 배포가 가능하다면 최종 배포되는 결과물의 오픈소스 라이선스를 기술하고, 2. 배포불가조합이 있다면 해당 이유를 기술하시오\n",
    "\n",
    "- AB(불가능) BC(GPLv2) CD(GPLv2+) \n",
    "2.3 배포가 불가능한 모듈조합을 1개의 모듈로 배포하려면 어떤 방법이 있는지 기술하시오\n",
    "\n",
    "- 듀얼라이센스"
   ]
  }
 ],
 "metadata": {
  "kernelspec": {
   "display_name": "Python 3",
   "language": "python",
   "name": "python3"
  },
  "language_info": {
   "codemirror_mode": {
    "name": "ipython",
    "version": 3
   },
   "file_extension": ".py",
   "mimetype": "text/x-python",
   "name": "python",
   "nbconvert_exporter": "python",
   "pygments_lexer": "ipython3",
   "version": "3.7.2"
  }
 },
 "nbformat": 4,
 "nbformat_minor": 4
}
