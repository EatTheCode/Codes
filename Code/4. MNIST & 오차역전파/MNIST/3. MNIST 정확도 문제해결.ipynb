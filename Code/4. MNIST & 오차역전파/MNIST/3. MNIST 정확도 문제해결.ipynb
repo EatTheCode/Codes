{
 "cells": [
  {
   "cell_type": "markdown",
   "metadata": {},
   "source": [
    "정확도가 낮은이유\n",
    "가중치의 random 떄문\n",
    "예측범위 내의 가중치의 다양성 필요(정규분포)\n",
    "- xavier/he\n",
    "표준화 표준편차가 1이고 평균이 0으로 만드는것\n",
    "표준편차란 평균과의 차이가 얼마인지\n",
    "\n",
    "평균이 50일떄\n",
    "(50, 49, 51, 50)\n",
    "(100, 0, 0, 100) 둘다 평균 50\n",
    "표준편차가 1이고 평균이 0이라는것은 데이터가 대칭으로 되있다는것\n",
    "\n",
    "one hot 되있는 출력값을 소프트맥스에 집어넣는다\n",
    "시그모이드가 y값을 계산하는것이 아닌 SM가 y값을 계산한다\n",
    "\n",
    "자기자신 / 전체 노드수 => 확률로도 해석됨\n",
    "\n",
    "하나하나의 노드가 나타낼수 있는 확률\n",
    "시그모이드를 사용하지않고 그 뒤에 붙임\n",
    "해석의 문제\n",
    "softmax 는 확률적인 부분을 보여주는것이기에 해석의 문제이다\n"
   ]
  },
  {
   "cell_type": "code",
   "execution_count": 2,
   "metadata": {},
   "outputs": [],
   "source": [
    "import numpy as np"
   ]
  },
  {
   "cell_type": "code",
   "execution_count": 12,
   "metadata": {},
   "outputs": [
    {
     "name": "stdout",
     "output_type": "stream",
     "text": [
      "[0.38361989 0.42396555 0.19241456]\n",
      "[0.01821127 0.24519181 0.73659691]\n",
      "[9.99954600e-01 4.53978686e-05 2.06106005e-09]\n",
      "[3.72007598e-44 1.00000000e+00 1.38389653e-87]\n"
     ]
    }
   ],
   "source": [
    "def softmax(a):\n",
    "    c = np.max(a)\n",
    "    exp_a = np.exp(a-c)\n",
    "    sum_exp_a = np.sum(exp_a)\n",
    "    y = exp_a / sum_exp_a\n",
    "    \n",
    "    return y \n",
    "\n",
    "    \n",
    "A = np.array([0.7, 0.8, 0.01])\n",
    "B = np.array([0.3, 2.9, 4.0])\n",
    "C = np.array([110, 100, 90])\n",
    "D = np.array([1000, 1100, 900])    \n",
    "\n",
    "print(softmax(A))\n",
    "print(softmax(B))\n",
    "print(softmax(C))\n",
    "print(softmax(D))\n",
    "# 큰값의 무한대로의 발생을 막기 위해서  함수의 최댓값에서 뺴준다"
   ]
  },
  {
   "cell_type": "code",
   "execution_count": null,
   "metadata": {},
   "outputs": [],
   "source": []
  }
 ],
 "metadata": {
  "kernelspec": {
   "display_name": "Python 3",
   "language": "python",
   "name": "python3"
  },
  "language_info": {
   "codemirror_mode": {
    "name": "ipython",
    "version": 3
   },
   "file_extension": ".py",
   "mimetype": "text/x-python",
   "name": "python",
   "nbconvert_exporter": "python",
   "pygments_lexer": "ipython3",
   "version": "3.7.2"
  }
 },
 "nbformat": 4,
 "nbformat_minor": 4
}
