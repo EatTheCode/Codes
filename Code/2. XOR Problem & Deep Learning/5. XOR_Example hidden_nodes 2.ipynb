{
 "cells": [
  {
   "cell_type": "code",
   "execution_count": 2,
   "metadata": {},
   "outputs": [],
   "source": [
    "import numpy as np\n",
    "from datetime import datetime\n",
    "\n",
    "# 수치미분 함수\n",
    "\n",
    "def numerical_derivative(f, x):\n",
    "    delta_x = 1e-4 # 0.0001\n",
    "    grad = np.zeros_like(x)\n",
    "    \n",
    "    it = np.nditer(x, flags=['multi_index'], op_flags=['readwrite'])\n",
    "    \n",
    "    while not it.finished:\n",
    "        idx = it.multi_index        \n",
    "        tmp_val = x[idx]\n",
    "        x[idx] = float(tmp_val) + delta_x\n",
    "        fx1 = f(x) # f(x+delta_x)\n",
    "        \n",
    "        x[idx] = tmp_val - delta_x \n",
    "        fx2 = f(x) # f(x-delta_x)\n",
    "        grad[idx] = (fx1 - fx2) / (2*delta_x)\n",
    "        \n",
    "        x[idx] = tmp_val \n",
    "        it.iternext()   \n",
    "        \n",
    "    return grad\n",
    "\n",
    "# sigmoid 함수\n",
    "\n",
    "def sigmoid(x):\n",
    "    return 1 / (1+np.exp(-x))"
   ]
  },
  {
   "cell_type": "code",
   "execution_count": 3,
   "metadata": {},
   "outputs": [],
   "source": [
    "# feed forward\n",
    "def feed_forward(xdata, tdata):        # feed forward 를 통하여 손실함수(cross-entropy) 값 계산\n",
    "        \n",
    "    delta = 1e-7    # log 무한대 발산 방지\n",
    "    \n",
    "    z2 = np.dot(xdata, W2) + b2  # 은닉층의 선형회귀 값\n",
    "    a2 = sigmoid(z2)                                  # 은닉층의 출력\n",
    "        \n",
    "    z3 = np.dot(a2, W3) + b3            # 출력층의 선형회귀 값\n",
    "    y = a3 = sigmoid(z3)                              # 출력층의 출력\n",
    "    \n",
    "    # cross-entropy \n",
    "    return  -np.sum( tdata*np.log(y + delta) + (1-tdata)*np.log((1 - y)+delta ) )    \n",
    "\n",
    "\n",
    "\n",
    "# loss val\n",
    "def loss_val(xdata, tdata):        # feed forward 를 통하여 손실함수(cross-entropy) 값 계산\n",
    "        \n",
    "    delta = 1e-7    # log 무한대 발산 방지\n",
    "    \n",
    "    z2 = np.dot(xdata, W2) + b2  # 은닉층의 선형회귀 값\n",
    "    a2 = sigmoid(z2)                                  # 은닉층의 출력\n",
    "        \n",
    "    z3 = np.dot(a2, W3) + b3            # 출력층의 선형회귀 값\n",
    "    y = a3 = sigmoid(z3)                              # 출력층의 출력\n",
    "    \n",
    "    # cross-entropy \n",
    "    return  -np.sum( tdata*np.log(y + delta) + (1-tdata)*np.log((1 - y)+delta ) )    "
   ]
  },
  {
   "cell_type": "code",
   "execution_count": 4,
   "metadata": {},
   "outputs": [],
   "source": [
    "# query, 즉 미래 값 예측 함수\n",
    "def predict(xdata):\n",
    "        \n",
    "    z2 = np.dot(xdata, W2) + b2         # 은닉층의 선형회귀 값\n",
    "    a2 = sigmoid(z2)                                  # 은닉층의 출력\n",
    "        \n",
    "    z3 = np.dot(a2, W3) + b3            # 출력층의 선형회귀 값\n",
    "    y = a3 = sigmoid(z3)                              # 출력층의 출력\n",
    "    \n",
    "    if y >= 0.5:\n",
    "        result = 1  # True\n",
    "    else:\n",
    "        result = 0  # False\n",
    "    \n",
    "    return y, result"
   ]
  },
  {
   "cell_type": "markdown",
   "metadata": {},
   "source": [
    "#### 입력데이터, 정답데이터 정의 "
   ]
  },
  {
   "cell_type": "code",
   "execution_count": 5,
   "metadata": {},
   "outputs": [],
   "source": [
    "# and, or, nand, xor data\n",
    "xdata = np.array([ [0,0], [0,1], [1,0], [1,1] ])   \n",
    "\n",
    "and_tdata = np.array([0, 0, 0, 1]).reshape(4,1)\n",
    "or_tdata = np.array([0, 1, 1, 1]).reshape(4,1)\n",
    "nand_tdata = np.array([1, 1, 1, 0]).reshape(4,1)\n",
    "xor_tdata = np.array([0, 1, 1, 0]).reshape(4,1)\n",
    "\n",
    "# test data\n",
    "test_data = np.array([ [0,0], [0,1], [1,0], [1,1] ])"
   ]
  },
  {
   "cell_type": "markdown",
   "metadata": {},
   "source": [
    "#### AND 학습 (은닉노드 10개)"
   ]
  },
  {
   "cell_type": "code",
   "execution_count": 6,
   "metadata": {},
   "outputs": [
    {
     "name": "stdout",
     "output_type": "stream",
     "text": [
      "Initial loss value =  12.833106254404475\n",
      "step =  0   , loss value =  8.21112605673274\n",
      "step =  500   , loss value =  0.1622462725299347\n",
      "step =  1000   , loss value =  0.04301540722379691\n",
      "step =  1500   , loss value =  0.022507313595311686\n",
      "step =  2000   , loss value =  0.014758247650568098\n",
      "step =  2500   , loss value =  0.010809169939933484\n",
      "step =  3000   , loss value =  0.00845115222772078\n",
      "step =  3500   , loss value =  0.006897728448743354\n",
      "step =  4000   , loss value =  0.005803472827317618\n",
      "step =  4500   , loss value =  0.004994307866386929\n",
      "step =  5000   , loss value =  0.004373518222593551\n",
      "step =  5500   , loss value =  0.0038833009520438232\n",
      "step =  6000   , loss value =  0.003487091980841234\n",
      "step =  6500   , loss value =  0.003160687077731321\n",
      "step =  7000   , loss value =  0.0028874563830037685\n",
      "step =  7500   , loss value =  0.0026556138434931944\n",
      "step =  8000   , loss value =  0.002456583756112827\n",
      "step =  8500   , loss value =  0.0022839838983772787\n",
      "step =  9000   , loss value =  0.0021329705710575507\n",
      "step =  9500   , loss value =  0.001999804134200266\n",
      "step =  10000   , loss value =  0.0018815532928782614\n",
      "\n",
      "Elapsed Time =>  0:00:22.175304\n"
     ]
    }
   ],
   "source": [
    "# define neural network architecture\n",
    "input_nodes = 2   # 입력노드 2개\n",
    "hidden_nodes = 10  # 은닉노드 10개\n",
    "output_nodes = 1   # 출력노드 1개\n",
    "\n",
    "W2 = np.random.rand(input_nodes,hidden_nodes)  # 입력층-은닉층 가중치\n",
    "b2 = np.random.rand(hidden_nodes)    # 은닉층 바이어스\n",
    "\n",
    "W3 = np.random.rand(hidden_nodes,output_nodes)  # 은닉층-출력층 가중치\n",
    "b3 = np.random.rand(output_nodes)    # 출력층 바이어스\n",
    "\n",
    "learning_rate = 1e-1\n",
    "\n",
    "# and verification\n",
    "f = lambda x : feed_forward(xdata, and_tdata)\n",
    "        \n",
    "print(\"Initial loss value = \", loss_val(xdata, and_tdata))\n",
    "     \n",
    "start_time = datetime.now()\n",
    "\n",
    "for step in  range(10001):\n",
    "            \n",
    "    W2 -= learning_rate * numerical_derivative(f, W2)\n",
    "    \n",
    "    b2 -= learning_rate * numerical_derivative(f, b2)\n",
    "        \n",
    "    W3 -= learning_rate * numerical_derivative(f, W3)\n",
    "    \n",
    "    b3 -= learning_rate * numerical_derivative(f, b3)\n",
    "    \n",
    "    if (step % 500 == 0):\n",
    "        print(\"step = \", step, \"  , loss value = \", loss_val(xdata, and_tdata))\n",
    "        \n",
    "end_time = datetime.now()\n",
    "\n",
    "print(\"\")\n",
    "print(\"Elapsed Time => \", end_time - start_time)"
   ]
  },
  {
   "cell_type": "code",
   "execution_count": 7,
   "metadata": {},
   "outputs": [
    {
     "name": "stdout",
     "output_type": "stream",
     "text": [
      "real_val [3.20010568e-07] , logical_val =  0\n",
      "real_val [0.00048575] , logical_val =  0\n",
      "real_val [0.00049221] , logical_val =  0\n",
      "real_val [0.99909698] , logical_val =  1\n"
     ]
    }
   ],
   "source": [
    "# and prediction\n",
    "\n",
    "for data in test_data:\n",
    "    (real_val, logical_val) = predict(data)\n",
    "    print(\"real_val\", real_val, \", logical_val = \", logical_val)"
   ]
  },
  {
   "cell_type": "markdown",
   "metadata": {},
   "source": [
    "#### AND 학습 (은닉노드 1개)"
   ]
  },
  {
   "cell_type": "code",
   "execution_count": 7,
   "metadata": {},
   "outputs": [
    {
     "name": "stdout",
     "output_type": "stream",
     "text": [
      "Initial loss value =  2.98232154077495\n",
      "step =  0   , loss value =  2.784312170808808\n",
      "step =  500   , loss value =  1.6235042975040053\n",
      "step =  1000   , loss value =  0.16597055202862454\n",
      "step =  1500   , loss value =  0.07055178879263149\n",
      "step =  2000   , loss value =  0.04372717373436524\n",
      "step =  2500   , loss value =  0.03143983393338809\n",
      "step =  3000   , loss value =  0.02445776867002747\n",
      "step =  3500   , loss value =  0.01997507031336701\n",
      "step =  4000   , loss value =  0.01686124870464301\n",
      "step =  4500   , loss value =  0.014575933735953246\n",
      "step =  5000   , loss value =  0.012829135803858402\n",
      "step =  5500   , loss value =  0.011451608678252932\n",
      "step =  6000   , loss value =  0.010338071064857839\n",
      "step =  6500   , loss value =  0.009419662620357892\n",
      "step =  7000   , loss value =  0.008649482005401485\n",
      "step =  7500   , loss value =  0.007994498349322438\n",
      "step =  8000   , loss value =  0.0074307872521148215\n",
      "step =  8500   , loss value =  0.006940601169262827\n",
      "step =  9000   , loss value =  0.006510500750794556\n",
      "step =  9500   , loss value =  0.006130124888731633\n",
      "step =  10000   , loss value =  0.005791358782183908\n",
      "\n",
      "Elapsed Time =>  0:00:02.817031\n"
     ]
    }
   ],
   "source": [
    "# define neural network architecture\n",
    "input_nodes = 2   # 입력노드 2개\n",
    "hidden_nodes = 1  # 은닉노드 1개\n",
    "output_nodes= 1   # 출력노드 1개\n",
    "\n",
    "W2 = np.random.rand(input_nodes,hidden_nodes)  # 입력층-은닉층 가중치\n",
    "b2 = np.random.rand(hidden_nodes)    # 은닉층 바이어스\n",
    "\n",
    "W3 = np.random.rand(hidden_nodes,output_nodes)  # 은닉층-출력층 가중치\n",
    "b3 = np.random.rand(output_nodes)    # 출력층 바이어스\n",
    "\n",
    "learning_rate = 1e-1\n",
    "\n",
    "# and verification\n",
    "f = lambda x : feed_forward(xdata, and_tdata)\n",
    "        \n",
    "print(\"Initial loss value = \", loss_val(xdata, and_tdata))\n",
    "     \n",
    "start_time = datetime.now()\n",
    "\n",
    "for step in  range(10001):\n",
    "            \n",
    "    W2 -= learning_rate * numerical_derivative(f, W2)\n",
    "    \n",
    "    b2 -= learning_rate * numerical_derivative(f, b2)\n",
    "        \n",
    "    W3 -= learning_rate * numerical_derivative(f, W3)\n",
    "    \n",
    "    b3 -= learning_rate * numerical_derivative(f, b3)\n",
    "    \n",
    "    if (step % 500 == 0):\n",
    "        print(\"step = \", step, \"  , loss value = \", loss_val(xdata, and_tdata))\n",
    "        \n",
    "end_time = datetime.now()\n",
    "\n",
    "print(\"\")\n",
    "print(\"Elapsed Time => \", end_time - start_time)"
   ]
  },
  {
   "cell_type": "code",
   "execution_count": 8,
   "metadata": {},
   "outputs": [
    {
     "name": "stdout",
     "output_type": "stream",
     "text": [
      "real_val [0.00054745] , logical_val =  0\n",
      "real_val [0.00142787] , logical_val =  0\n",
      "real_val [0.00142787] , logical_val =  0\n",
      "real_val [0.99761647] , logical_val =  1\n"
     ]
    }
   ],
   "source": [
    "# and prediction\n",
    "\n",
    "for data in test_data:\n",
    "    (real_val, logical_val) = predict(data)\n",
    "    print(\"real_val\", real_val, \", logical_val = \", logical_val)"
   ]
  },
  {
   "cell_type": "markdown",
   "metadata": {},
   "source": [
    "#### OR 검증 (은닉노드 1개)"
   ]
  },
  {
   "cell_type": "code",
   "execution_count": 9,
   "metadata": {},
   "outputs": [
    {
     "name": "stdout",
     "output_type": "stream",
     "text": [
      "Initial loss value =  2.208734981258847\n",
      "step =  0   , loss value =  2.201269706718813\n",
      "step =  400   , loss value =  0.2773716809259913\n",
      "step =  800   , loss value =  0.09762005581049799\n",
      "step =  1200   , loss value =  0.057308126941807744\n",
      "step =  1600   , loss value =  0.04022744757235701\n",
      "step =  2000   , loss value =  0.030888016097815673\n",
      "step =  2400   , loss value =  0.025025854908522924\n",
      "step =  2800   , loss value =  0.021013264502166742\n",
      "step =  3200   , loss value =  0.018098296962974967\n",
      "step =  3600   , loss value =  0.015886790572545523\n",
      "step =  4000   , loss value =  0.014152610024920804\n",
      "step =  4400   , loss value =  0.012756905035894701\n",
      "step =  4800   , loss value =  0.011609780502553834\n",
      "step =  5200   , loss value =  0.010650507065168168\n",
      "step =  5600   , loss value =  0.0098366005976263\n",
      "step =  6000   , loss value =  0.009137460378972073\n",
      "step =  6400   , loss value =  0.008530492381580367\n",
      "step =  6800   , loss value =  0.007998655427764236\n",
      "step =  7200   , loss value =  0.007528856626636977\n",
      "step =  7600   , loss value =  0.007110872175301056\n",
      "step =  8000   , loss value =  0.006736603401778168\n",
      "step =  8400   , loss value =  0.00639955263843444\n",
      "step =  8800   , loss value =  0.006094446762398016\n",
      "step =  9200   , loss value =  0.005816962082110126\n",
      "step =  9600   , loss value =  0.005563520131495073\n",
      "step =  10000   , loss value =  0.005331133944918001\n",
      "\n",
      "Elapsed Time =>  0:00:02.739035\n"
     ]
    }
   ],
   "source": [
    "# define neural network architecture\n",
    "input_nodes = 2   # 입력노드 2개\n",
    "hidden_nodes = 1  # 은닉노드 1개    variation을 가지면 정확도를 높일수 있는지 찾는거\n",
    "output_nodes= 1   # 출력노드 1개\n",
    "\n",
    "W2 = np.random.rand(input_nodes,hidden_nodes)  # 입력층-은닉층 가중치\n",
    "b2 = np.random.rand(hidden_nodes)    # 은닉층 바이어스\n",
    "\n",
    "W3 = np.random.rand(hidden_nodes,output_nodes)  # 은닉층-출력층 가중치\n",
    "b3 = np.random.rand(output_nodes)    # 출력층 바이어스\n",
    "\n",
    "learning_rate = 1e-1\n",
    "\n",
    "# or verification\n",
    "f = lambda x : feed_forward(xdata, or_tdata)\n",
    "        \n",
    "print(\"Initial loss value = \", loss_val(xdata, or_tdata))\n",
    "     \n",
    "start_time = datetime.now()\n",
    "\n",
    "for step in  range(10001):\n",
    "            \n",
    "    W2 -= learning_rate * numerical_derivative(f, W2)\n",
    "    \n",
    "    b2 -= learning_rate * numerical_derivative(f, b2)\n",
    "        \n",
    "    W3 -= learning_rate * numerical_derivative(f, W3)\n",
    "    \n",
    "    b3 -= learning_rate * numerical_derivative(f, b3)\n",
    "    \n",
    "    if (step % 400 == 0):\n",
    "        print(\"step = \", step, \"  , loss value = \", loss_val(xdata, or_tdata))\n",
    "        \n",
    "end_time = datetime.now()\n",
    "\n",
    "print(\"\")\n",
    "print(\"Elapsed Time => \", end_time - start_time)"
   ]
  },
  {
   "cell_type": "code",
   "execution_count": 10,
   "metadata": {},
   "outputs": [
    {
     "name": "stdout",
     "output_type": "stream",
     "text": [
      "real_val [0.00315881] , logical_val =  0\n",
      "real_val [0.99914251] , logical_val =  1\n",
      "real_val [0.99914229] , logical_val =  1\n",
      "real_val [0.99954832] , logical_val =  1\n"
     ]
    }
   ],
   "source": [
    "# or prediction\n",
    "\n",
    "for data in test_data:\n",
    "    (real_val, logical_val) = predict(data)\n",
    "    print(\"real_val\", real_val, \", logical_val = \", logical_val)"
   ]
  },
  {
   "cell_type": "markdown",
   "metadata": {},
   "source": [
    "#### NAND 검증 (은닉층 노드 1개)"
   ]
  },
  {
   "cell_type": "code",
   "execution_count": 11,
   "metadata": {},
   "outputs": [
    {
     "name": "stdout",
     "output_type": "stream",
     "text": [
      "Initial loss value =  2.279742418390616\n",
      "step =  0   , loss value =  2.2763508276400275\n",
      "step =  500   , loss value =  0.3958394607888712\n",
      "step =  1000   , loss value =  0.10066601881618137\n",
      "step =  1500   , loss value =  0.054351867327712106\n",
      "step =  2000   , loss value =  0.03674594526537822\n",
      "step =  2500   , loss value =  0.02761403315465367\n",
      "step =  3000   , loss value =  0.0220604711361652\n",
      "step =  3500   , loss value =  0.018339012446125447\n",
      "step =  4000   , loss value =  0.015676737652889877\n",
      "step =  4500   , loss value =  0.013680390213568826\n",
      "step =  5000   , loss value =  0.012129288511508263\n",
      "step =  5500   , loss value =  0.010890234041108244\n",
      "step =  6000   , loss value =  0.009878166706967435\n",
      "step =  6500   , loss value =  0.009036267773286134\n",
      "step =  7000   , loss value =  0.00832516260289261\n",
      "step =  7500   , loss value =  0.00771671747531569\n",
      "step =  8000   , loss value =  0.007190303664954802\n",
      "step =  8500   , loss value =  0.006730456390347343\n",
      "step =  9000   , loss value =  0.006325357319804499\n",
      "step =  9500   , loss value =  0.005965821726134891\n",
      "step =  10000   , loss value =  0.005644604993877584\n",
      "\n",
      "Elapsed Time =>  0:00:02.810066\n"
     ]
    }
   ],
   "source": [
    "# define neural network architecture\n",
    "input_nodes = 2   # 입력노드 2개\n",
    "hidden_nodes = 1  # 은닉노드 1개\n",
    "output_nodes= 1   # 출력노드 1개\n",
    "\n",
    "W2 = np.random.rand(input_nodes,hidden_nodes)  # 입력층-은닉층 가중치\n",
    "b2 = np.random.rand(hidden_nodes)    # 은닉층 바이어스\n",
    "\n",
    "W3 = np.random.rand(hidden_nodes,output_nodes)  # 은닉층-출력층 가중치\n",
    "b3 = np.random.rand(output_nodes)    # 출력층 바이어스\n",
    "\n",
    "learning_rate = 1e-1\n",
    "\n",
    "# nand verification\n",
    "f = lambda x : feed_forward(xdata, nand_tdata)\n",
    "        \n",
    "print(\"Initial loss value = \", loss_val(xdata, nand_tdata))\n",
    "     \n",
    "start_time = datetime.now()\n",
    "\n",
    "for step in  range(10001):\n",
    "            \n",
    "    W2 -= learning_rate * numerical_derivative(f, W2)\n",
    "    \n",
    "    b2 -= learning_rate * numerical_derivative(f, b2)\n",
    "        \n",
    "    W3 -= learning_rate * numerical_derivative(f, W3)\n",
    "    \n",
    "    b3 -= learning_rate * numerical_derivative(f, b3)\n",
    "    \n",
    "    if (step % 500 == 0):\n",
    "        print(\"step = \", step, \"  , loss value = \", loss_val(xdata, nand_tdata))\n",
    "        \n",
    "end_time = datetime.now()\n",
    "\n",
    "print(\"\")\n",
    "print(\"Elapsed Time => \", end_time - start_time)"
   ]
  },
  {
   "cell_type": "code",
   "execution_count": 12,
   "metadata": {},
   "outputs": [
    {
     "name": "stdout",
     "output_type": "stream",
     "text": [
      "real_val [0.99946303] , logical_val =  1\n",
      "real_val [0.99860956] , logical_val =  1\n",
      "real_val [0.99860956] , logical_val =  1\n",
      "real_val [0.00232237] , logical_val =  0\n"
     ]
    }
   ],
   "source": [
    "# nand prediction\n",
    "\n",
    "for data in test_data:\n",
    "    (real_val, logical_val) = predict(data)\n",
    "    print(\"real_val\", real_val, \", logical_val = \", logical_val)"
   ]
  },
  {
   "cell_type": "markdown",
   "metadata": {
    "collapsed": true
   },
   "source": [
    "#### XOR 검증 (은닉층 노드 1개)"
   ]
  },
  {
   "cell_type": "code",
   "execution_count": 8,
   "metadata": {},
   "outputs": [
    {
     "name": "stdout",
     "output_type": "stream",
     "text": [
      "Initial loss value =  3.5145127645602114\n",
      "step =  0   , loss value =  3.3428168189945833\n",
      "step =  500   , loss value =  2.77248007931859\n",
      "step =  1000   , loss value =  2.771025385816299\n",
      "step =  1500   , loss value =  2.7293876506744863\n",
      "step =  2000   , loss value =  2.189850249596488\n",
      "step =  2500   , loss value =  2.0071615387774013\n",
      "step =  3000   , loss value =  1.9648084900683735\n",
      "step =  3500   , loss value =  1.9474194329873993\n",
      "step =  4000   , loss value =  1.938139386846235\n",
      "step =  4500   , loss value =  1.9324195033297413\n",
      "step =  5000   , loss value =  1.9285593716797589\n",
      "step =  5500   , loss value =  1.9257870317846781\n",
      "step =  6000   , loss value =  1.9237036003853087\n",
      "step =  6500   , loss value =  1.9220829640362493\n",
      "step =  7000   , loss value =  1.920787696522099\n",
      "step =  7500   , loss value =  1.9197296065509046\n",
      "step =  8000   , loss value =  1.9188495746832586\n",
      "step =  8500   , loss value =  1.918106525481352\n",
      "step =  9000   , loss value =  1.9174710537936943\n",
      "step =  9500   , loss value =  1.916921568215976\n",
      "step =  10000   , loss value =  1.916441865567179\n",
      "\n",
      "Elapsed Time =>  0:00:03.277583\n"
     ]
    }
   ],
   "source": [
    "# define neural network architecture\n",
    "input_nodes = 2   # 입력노드 2개\n",
    "hidden_nodes = 1  # 은닉노드 1개\n",
    "output_nodes= 1   # 출력노드 1개\n",
    "\n",
    "W2 = np.random.rand(input_nodes,hidden_nodes)  # 입력층-은닉층 가중치\n",
    "b2 = np.random.rand(hidden_nodes)    # 은닉층 바이어스\n",
    "\n",
    "W3 = np.random.rand(hidden_nodes,output_nodes)  # 은닉층-출력층 가중치\n",
    "b3 = np.random.rand(output_nodes)    # 출력층 바이어스\n",
    "\n",
    "learning_rate = 1e-1\n",
    "\n",
    "# xor verification\n",
    "f = lambda x : feed_forward(xdata, xor_tdata)\n",
    "        \n",
    "print(\"Initial loss value = \", loss_val(xdata, xor_tdata))\n",
    "     \n",
    "start_time = datetime.now()\n",
    "\n",
    "for step in  range(10001):\n",
    "            \n",
    "    W2 -= learning_rate * numerical_derivative(f, W2)\n",
    "    \n",
    "    b2 -= learning_rate * numerical_derivative(f, b2)\n",
    "        \n",
    "    W3 -= learning_rate * numerical_derivative(f, W3)\n",
    "    \n",
    "    b3 -= learning_rate * numerical_derivative(f, b3)\n",
    "    \n",
    "    if (step % 500 == 0):\n",
    "        print(\"step = \", step, \"  , loss value = \", loss_val(xdata, xor_tdata))\n",
    "        \n",
    "end_time = datetime.now()\n",
    "\n",
    "print(\"\")\n",
    "print(\"Elapsed Time => \", end_time - start_time)"
   ]
  },
  {
   "cell_type": "code",
   "execution_count": 9,
   "metadata": {},
   "outputs": [
    {
     "name": "stdout",
     "output_type": "stream",
     "text": [
      "real_val [0.00358237] , logical_val =  0\n",
      "real_val [0.66552041] , logical_val =  1\n",
      "real_val [0.66552037] , logical_val =  1\n",
      "real_val [0.66662315] , logical_val =  1\n"
     ]
    }
   ],
   "source": [
    "# xor prediction\n",
    "\n",
    "for data in test_data:\n",
    "    (real_val, logical_val) = predict(data)\n",
    "    print(\"real_val\", real_val, \", logical_val = \", logical_val)"
   ]
  },
  {
   "cell_type": "markdown",
   "metadata": {},
   "source": [
    "#### XOR 검증 (은닉층 노드 2개)"
   ]
  },
  {
   "cell_type": "code",
   "execution_count": 10,
   "metadata": {},
   "outputs": [
    {
     "name": "stdout",
     "output_type": "stream",
     "text": [
      "Initial loss value =  3.179683354172884\n",
      "step =  0   , loss value =  3.058223070999122\n",
      "step =  500   , loss value =  2.5916427941158613\n",
      "step =  1000   , loss value =  1.3472084547073138\n",
      "step =  1500   , loss value =  0.23293631731715067\n",
      "step =  2000   , loss value =  0.11107913564823321\n",
      "step =  2500   , loss value =  0.07171948280093633\n",
      "step =  3000   , loss value =  0.05265015564623191\n",
      "step =  3500   , loss value =  0.041476751233983755\n",
      "step =  4000   , loss value =  0.03416225461510036\n",
      "step =  4500   , loss value =  0.02901253814351057\n",
      "step =  5000   , loss value =  0.02519547758731775\n",
      "step =  5500   , loss value =  0.022255679400209127\n",
      "step =  6000   , loss value =  0.01992339185589257\n",
      "step =  6500   , loss value =  0.01802884788254184\n",
      "step =  7000   , loss value =  0.016459960885409082\n",
      "step =  7500   , loss value =  0.015139793359204222\n",
      "step =  8000   , loss value =  0.014013806948557264\n",
      "step =  8500   , loss value =  0.01304227933318645\n",
      "step =  9000   , loss value =  0.012195602239804522\n",
      "step =  9500   , loss value =  0.011451260849813915\n",
      "step =  10000   , loss value =  0.01079183330435008\n",
      "\n",
      "Elapsed Time =>  0:00:05.507103\n"
     ]
    }
   ],
   "source": [
    "# define neural network architecture\n",
    "input_nodes = 2   # 입력노드 2개\n",
    "hidden_nodes = 2  # 은닉노드 1개\n",
    "output_nodes= 1   # 출력노드 1개\n",
    "\n",
    "W2 = np.random.rand(input_nodes,hidden_nodes)  # 입력층-은닉층 가중치\n",
    "b2 = np.random.rand(hidden_nodes)    # 은닉층 바이어스\n",
    "\n",
    "W3 = np.random.rand(hidden_nodes,output_nodes)  # 은닉층-출력층 가중치\n",
    "b3 = np.random.rand(output_nodes)    # 출력층 바이어스\n",
    "\n",
    "learning_rate = 1e-1\n",
    "\n",
    "# xor verification\n",
    "f = lambda x : feed_forward(xdata, xor_tdata)\n",
    "        \n",
    "print(\"Initial loss value = \", loss_val(xdata, xor_tdata))\n",
    "     \n",
    "start_time = datetime.now()\n",
    "\n",
    "for step in  range(10001):\n",
    "            \n",
    "    W2 -= learning_rate * numerical_derivative(f, W2)\n",
    "    \n",
    "    b2 -= learning_rate * numerical_derivative(f, b2)\n",
    "        \n",
    "    W3 -= learning_rate * numerical_derivative(f, W3)\n",
    "    \n",
    "    b3 -= learning_rate * numerical_derivative(f, b3)\n",
    "    \n",
    "    if (step % 500 == 0):\n",
    "        print(\"step = \", step, \"  , loss value = \", loss_val(xdata, xor_tdata))\n",
    "        \n",
    "end_time = datetime.now()\n",
    "\n",
    "print(\"\")\n",
    "print(\"Elapsed Time => \", end_time - start_time)"
   ]
  },
  {
   "cell_type": "code",
   "execution_count": 11,
   "metadata": {},
   "outputs": [
    {
     "name": "stdout",
     "output_type": "stream",
     "text": [
      "real_val [0.00340643] , logical_val =  0\n",
      "real_val [0.99757499] , logical_val =  1\n",
      "real_val [0.99757593] , logical_val =  1\n",
      "real_val [0.00252184] , logical_val =  0\n"
     ]
    }
   ],
   "source": [
    "# xor prediction\n",
    "\n",
    "for data in test_data:\n",
    "    (real_val, logical_val) = predict(data)\n",
    "    print(\"real_val\", real_val, \", logical_val = \", logical_val)"
   ]
  },
  {
   "cell_type": "code",
   "execution_count": null,
   "metadata": {},
   "outputs": [],
   "source": []
  }
 ],
 "metadata": {
  "anaconda-cloud": {},
  "kernelspec": {
   "display_name": "Python 3",
   "language": "python",
   "name": "python3"
  },
  "language_info": {
   "codemirror_mode": {
    "name": "ipython",
    "version": 3
   },
   "file_extension": ".py",
   "mimetype": "text/x-python",
   "name": "python",
   "nbconvert_exporter": "python",
   "pygments_lexer": "ipython3",
   "version": "3.7.6"
  }
 },
 "nbformat": 4,
 "nbformat_minor": 1
}
