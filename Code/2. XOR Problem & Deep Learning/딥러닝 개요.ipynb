{
 "cells": [
  {
   "cell_type": "markdown",
   "metadata": {},
   "source": [
    "large problem 을 small segment로 나눠서 처리 하지만 그건 다 연결되어있다\n",
    "\n",
    "XOR Problem\n",
    "딥러닝의 컨셉\n",
    "뉴런과 뉴런사이의 자극을 연결해주는 신경을 어떻게 연결할것인가(판단의 근거?)\n",
    "인간의 뉴런은 입력에 비례해서 출력을 내는 형태가 아니라 입력값들의 합이 임계점에 도달해야만 출력신호를 발생시킹\n",
    "(알러지)\n",
    "쓰레스 홀드(임계점)\n",
    "\n",
    "ReLU : 어느 입력값이 0보다 작으면 아무것도 안하다가 그이상이면 올라감 속도와 정확도가 올라감cnn\n",
    "Leakt ReLU : ReLU의 보완\n",
    "than : RNN\n",
    "max(0.1x, x) : 입력값이 0보다 작으면 0.1배의 출력크면 그냥 데이터 출력\n",
    "활성화 함수를 잘 만들어줘야한다\n",
    "\n",
    "모델링\n",
    "수학공식이나 시스템의 형태를 표현\n",
    "\n",
    "입력신호와 가중치(모든 데이터)를 곱하고 적당한 바이어스(각각의 임계치 설정)를 더한후(리니어)\n",
    "그값의 활성화 함수(sigmoid) 입력으로 전달해서 classification\n",
    "각각의 함수들 레이어들이 다 각각의 노드는 모두 연결되어있다\n",
    "\n",
    "뉴럴네트워크 아키텍쳐와 structure의 차이\n",
    "ㅇ\n",
    "structre 정적인 이미지 한번 정해지면 바뀌지 않음, 구조 및 안정화\n",
    "아키텍쳐 동적인 이미지, design, 설계, dynamic operation\n",
    " \n",
    "\n",
    "입력층과 출력층 이런 층 하나하나를 레이어라 한다\n",
    "입력층과 출력층 사이의 레이어 = hidden layer(은닉층) = 일을하는 주체 하지만 사용자에게는 보이지 않음\n",
    "한글표기로 해라 이유 1. 정부기관 사업 제안서에는 모두 은닉층이라 사용(감점요인)\n",
    "                     2. NCS\n",
    "\n",
    "여러개의 은닉층이 있을수록 정확도가 올라간다 해서 딥러닝이라 부른다\n",
    "\n",
    "정확도의 향상법\n",
    "1. multi hidden layer\n",
    "2. multi nodes per layer\n",
    "단점 속도가 떨어짐\n",
    "\n",
    "notation(표기법)\n",
    "feed forward = forward propagation \n",
    "입력에서 부터 출력까지 데이터를 보내주는 행위\n",
    "\n",
    "가중치는 입력된 데이터 만큼 필요하고\n",
    "바이어스는 노드의 갯수 만큼 필요하다\n",
    "모든건 행렬로 표기\n",
    "\n",
    "입력층의 출력\n",
    "딥러닝 입력층에서는 확성화함수를 적용하지 않고 입력값 그대로 출력으로 내보내는것이 관례화\n",
    "\n",
    "이유  1. 일관성(층으로 나타내기 위해서)\n",
    "      2. 프로그래밍하기 편하기 위해서\n",
    "    "
   ]
  },
  {
   "cell_type": "markdown",
   "metadata": {},
   "source": [
    "딥러닝 프로그래밍 개요\n",
    "1. 입력층 노드 개수, 출력층 노드 개수 파악\n",
    "2. 은닉층 개수와 각 은닉층에 있는 노드 개수 확정(정답은 없고 경험적으로만 알 수 있음)\n",
    "3. 각 층의 가중치 바이어스 임의의 값으로 초기화\n",
    "4. trainig data 생성 또는 불러오기\n",
    "5. 손실함수 정의(cross entropy 나 MSE)\n",
    "6. feed forward, loss_val, predict, accuracy, train 정의\n",
    "7. hyper parameter 설정 및 반복문을 통한 W,b 업데이트\n",
    "8. Test Data를 통한 정확도 예측\n",
    "9. 문제점 분석 "
   ]
  }
 ],
 "metadata": {
  "kernelspec": {
   "display_name": "Python 3",
   "language": "python",
   "name": "python3"
  },
  "language_info": {
   "codemirror_mode": {
    "name": "ipython",
    "version": 3
   },
   "file_extension": ".py",
   "mimetype": "text/x-python",
   "name": "python",
   "nbconvert_exporter": "python",
   "pygments_lexer": "ipython3",
   "version": "3.7.6"
  }
 },
 "nbformat": 4,
 "nbformat_minor": 4
}
