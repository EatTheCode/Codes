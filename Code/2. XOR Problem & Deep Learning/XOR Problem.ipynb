{
 "cells": [
  {
   "cell_type": "code",
   "execution_count": 1,
   "metadata": {},
   "outputs": [],
   "source": [
    "import numpy as np\n",
    "\n",
    "np.random.seed(0)\n",
    "\n",
    "# 수치미분 함수\n",
    "def numerical_derivative(f, x):\n",
    "    delta_x = 1e-4 # 0.0001\n",
    "    grad = np.zeros_like(x)\n",
    "    \n",
    "    it = np.nditer(x, flags=['multi_index'], op_flags=['readwrite'])\n",
    "    \n",
    "    while not it.finished:\n",
    "        idx = it.multi_index        \n",
    "        tmp_val = x[idx]\n",
    "        x[idx] = float(tmp_val) + delta_x\n",
    "        fx1 = f(x) # f(x+delta_x)\n",
    "        \n",
    "        x[idx] = tmp_val - delta_x \n",
    "        fx2 = f(x) # f(x-delta_x)\n",
    "        grad[idx] = (fx1 - fx2) / (2*delta_x)\n",
    "        \n",
    "        x[idx] = tmp_val \n",
    "        it.iternext()   \n",
    "        \n",
    "    return grad\n",
    "\n",
    "\n",
    "# sigmoid 함수\n",
    "def sigmoid(x):\n",
    "    return 1 / (1+np.exp(-x))"
   ]
  },
  {
   "cell_type": "code",
   "execution_count": 2,
   "metadata": {},
   "outputs": [],
   "source": [
    "# LogicGate Class\n",
    "\n",
    "class LogicGate:\n",
    "    \n",
    "    def __init__(self, gate_name, xdata, tdata, lr, cnt):  # xdata, tdata => numpy.array(...)\n",
    "        \n",
    "        self.name = gate_name\n",
    "        \n",
    "        self.xdata = xdata.reshape(4, 2)\n",
    "        self.tdata = tdata.reshape(4, 1)\n",
    "        \n",
    "        # 가중치 W, 바이어스 b 초기화 - 일반적인 방법으로 변경 필요\n",
    "        self.W = np.random.rand(self.xdata.shape[1], 1)  # weight, 2 X 1 matrix\n",
    "        self.b = np.random.rand(1)\n",
    "                        \n",
    "        # 학습률 learning rate 초기화\n",
    "        self.learning_rate = lr\n",
    "        \n",
    "        # 반복횟수 초기화\n",
    "        self.iteration_count = cnt\n",
    "        \n",
    "    # 손실함수\n",
    "    def loss_func(self):\n",
    "        \n",
    "        delta = 1e-7    # log 무한대 발산 방지\n",
    "    \n",
    "        z = np.dot(self.xdata, self.W) + self.b\n",
    "        y = sigmoid(z)\n",
    "    \n",
    "        # cross-entropy \n",
    "        return  -np.sum( self.tdata*np.log(y + delta) + (1-self.tdata)*np.log((1 - y)+delta ) )      \n",
    "    \n",
    "    # 손실 값 계산\n",
    "    def error_val(self):\n",
    "        \n",
    "        delta = 1e-7    # log 무한대 발산 방지\n",
    "    \n",
    "        z = np.dot(self.xdata, self.W) + self.b\n",
    "        y = sigmoid(z)\n",
    "    \n",
    "        # cross-entropy \n",
    "        return  -np.sum( self.tdata*np.log(y + delta) + (1-self.tdata)*np.log((1 - y)+delta ) )\n",
    "\n",
    "    # 수치미분을 이용하여 손실함수가 최소가 될때 까지 학습하는 함수\n",
    "    def train(self):\n",
    "        \n",
    "        step_count = int(self.iteration_count * 0.1)\n",
    "        \n",
    "        f = lambda x : self.loss_func()\n",
    "        \n",
    "        print(\"Initial error value = \", self.error_val())\n",
    "        \n",
    "        for step in  range(self.iteration_count):\n",
    "            \n",
    "            self.W -= self.learning_rate * numerical_derivative(f, self.W)\n",
    "    \n",
    "            self.b -= self.learning_rate * numerical_derivative(f, self.b)\n",
    "    \n",
    "            if (step % step_count == 0):\n",
    "                print(\"step = \", step, \"error value = \", self.error_val())\n",
    "                \n",
    "                \n",
    "    # 미래 값 예측 함수\n",
    "    def predict(self, input_data):\n",
    "        \n",
    "        z = np.dot(input_data, self.W) + self.b\n",
    "        y = sigmoid(z)\n",
    "    \n",
    "        if y > 0.5:\n",
    "            result = 1  # True\n",
    "        else:\n",
    "            result = 0  # False\n",
    "    \n",
    "        return y, result\n",
    "    \n",
    "    # 정확도 예측 함수\n",
    "    def accuracy(self, test_xdata, test_tdata):\n",
    "        \n",
    "        matched_list = []\n",
    "        not_matched_list = []\n",
    "        \n",
    "        for index in range(len(xdata)):\n",
    "            \n",
    "            (real_val, logical_val) = self.predict(test_xdata[index])\n",
    "            \n",
    "            if logical_val == test_tdata[index]:\n",
    "                matched_list.append(index)\n",
    "            else:\n",
    "                not_matched_list.append(index)\n",
    "                \n",
    "        print(\"Accuracy => \", len(matched_list) / len(test_xdata) )\n",
    "        \n",
    "        return matched_list, not_matched_list"
   ]
  },
  {
   "cell_type": "code",
   "execution_count": 3,
   "metadata": {},
   "outputs": [
    {
     "name": "stdout",
     "output_type": "stream",
     "text": [
      "Initial error value =  4.1644673382694535\n",
      "step =  0 error value =  4.114101214061302\n",
      "step =  2000 error value =  0.6617093491047212\n",
      "step =  4000 error value =  0.390792060686332\n",
      "step =  6000 error value =  0.27516814068507756\n",
      "step =  8000 error value =  0.21141127339369647\n",
      "step =  10000 error value =  0.17122109418313716\n",
      "step =  12000 error value =  0.1436596516912523\n",
      "step =  14000 error value =  0.12362512412664411\n",
      "step =  16000 error value =  0.10842615529430435\n",
      "step =  18000 error value =  0.09651238723955319\n",
      "step =  20000 error value =  0.08692943573471706\n"
     ]
    }
   ],
   "source": [
    "xdata = np.array([ [0, 0], [0, 1], [1, 0], [1, 1] ])\n",
    "tdata = np.array([0, 0, 0, 1])\n",
    "\n",
    "AND_obj = LogicGate(\"AND_GATE\", xdata, tdata, 1e-2, 20001)\n",
    "\n",
    "AND_obj.train()"
   ]
  },
  {
   "cell_type": "code",
   "execution_count": 4,
   "metadata": {},
   "outputs": [
    {
     "name": "stdout",
     "output_type": "stream",
     "text": [
      "AND_GATE \n",
      "\n",
      "Accuracy =>  1.0\n",
      "True List =>  [0, 1, 2, 3] , Not True List =>  []\n"
     ]
    }
   ],
   "source": [
    "# AND Gate prediction\n",
    "print(AND_obj.name, \"\\n\")\n",
    "\n",
    "test_xdata = np.array([ [0, 0], [0, 1], [1, 0], [1, 1] ])\n",
    "test_tdata = np.array([ 0, 0, 0, 1])\n",
    "\n",
    "(true_list, not_true_list) = AND_obj.accuracy(test_xdata, test_tdata)\n",
    "\n",
    "print(\"True List => \", true_list, \", Not True List => \", not_true_list)"
   ]
  },
  {
   "cell_type": "code",
   "execution_count": 5,
   "metadata": {},
   "outputs": [
    {
     "name": "stdout",
     "output_type": "stream",
     "text": [
      "Initial error value =  1.8093022340983396\n",
      "step =  0 error value =  1.8059407538377352\n",
      "step =  2000 error value =  0.42910938054232584\n",
      "step =  4000 error value =  0.23182912853309445\n",
      "step =  6000 error value =  0.15674213476512036\n",
      "step =  8000 error value =  0.11781887393593482\n",
      "step =  10000 error value =  0.09416538570561767\n",
      "step =  12000 error value =  0.07832359158677611\n",
      "step =  14000 error value =  0.06699411564763404\n",
      "step =  16000 error value =  0.05849962616652851\n",
      "step =  18000 error value =  0.05189962660814428\n",
      "step =  20000 error value =  0.04662685731710452\n"
     ]
    }
   ],
   "source": [
    "xdata = np.array([ [0, 0], [0, 1], [1, 0], [1, 1] ])\n",
    "tdata = np.array([0, 1, 1, 1])\n",
    "\n",
    "OR_obj = LogicGate(\"OR_GATE\", xdata, tdata, 1e-2, 20001)\n",
    "\n",
    "OR_obj.train() "
   ]
  },
  {
   "cell_type": "code",
   "execution_count": 6,
   "metadata": {},
   "outputs": [
    {
     "name": "stdout",
     "output_type": "stream",
     "text": [
      "OR_GATE \n",
      "\n",
      "Accuracy =>  1.0\n",
      "True List =>  [0, 1, 2, 3] , Not True List =>  []\n"
     ]
    }
   ],
   "source": [
    "# OR Gate prediction\n",
    "print(OR_obj.name, \"\\n\")\n",
    "\n",
    "test_xdata = np.array([ [0, 0], [0, 1], [1, 0], [1, 1] ])\n",
    "test_tdata = np.array([ 0, 1, 1, 1])\n",
    "\n",
    "(true_list, not_true_list) = OR_obj.accuracy(test_xdata, test_tdata)\n",
    "\n",
    "print(\"True List => \", true_list, \", Not True List => \", not_true_list)"
   ]
  },
  {
   "cell_type": "code",
   "execution_count": 7,
   "metadata": {},
   "outputs": [
    {
     "name": "stdout",
     "output_type": "stream",
     "text": [
      "Initial error value =  3.0778383982900364\n",
      "step =  0 error value =  3.065954436617678\n",
      "step =  2000 error value =  0.6762645579646185\n",
      "step =  4000 error value =  0.3959470044277491\n",
      "step =  6000 error value =  0.2777743922052933\n",
      "step =  8000 error value =  0.21297076369401974\n",
      "step =  10000 error value =  0.17225376307491025\n",
      "step =  12000 error value =  0.1443916409838707\n",
      "step =  14000 error value =  0.12417000212810453\n",
      "step =  16000 error value =  0.1088469820530681\n",
      "step =  18000 error value =  0.09684688798217601\n",
      "step =  20000 error value =  0.0872015194330254\n"
     ]
    }
   ],
   "source": [
    "xdata = np.array([ [0, 0], [0, 1], [1, 0], [1, 1] ])\n",
    "tdata = np.array([1, 1, 1, 0])\n",
    "\n",
    "NAND_obj = LogicGate(\"NAND_GATE\", xdata, tdata, 1e-2, 20001)\n",
    "\n",
    "NAND_obj.train()"
   ]
  },
  {
   "cell_type": "code",
   "execution_count": 8,
   "metadata": {},
   "outputs": [
    {
     "name": "stdout",
     "output_type": "stream",
     "text": [
      "NAND_GATE \n",
      "\n",
      "Accuracy =>  1.0\n",
      "True List =>  [0, 1, 2, 3] , Not True List =>  []\n"
     ]
    }
   ],
   "source": [
    "# NAND Gate prediction\n",
    "print(NAND_obj.name, \"\\n\")\n",
    "\n",
    "test_xdata = np.array([ [0, 0], [0, 1], [1, 0], [1, 1] ])\n",
    "test_tdata = np.array([ 1, 1, 1, 0])\n",
    "\n",
    "(true_list, not_true_list) = NAND_obj.accuracy(test_xdata, test_tdata)\n",
    "\n",
    "print(\"True List => \", true_list, \", Not True List => \", not_true_list)"
   ]
  },
  {
   "cell_type": "code",
   "execution_count": 9,
   "metadata": {},
   "outputs": [
    {
     "name": "stdout",
     "output_type": "stream",
     "text": [
      "[0 0]  =  0\n",
      "\n",
      "[0 1]  =  1\n",
      "\n",
      "[1 0]  =  1\n",
      "\n",
      "[1 1]  =  0\n",
      "\n"
     ]
    }
   ],
   "source": [
    "# XOR 을 NAND + OR => AND 조합으로 계산함\n",
    "input_data = np.array([ [0, 0], [0, 1], [1, 0], [1, 1] ])\n",
    "\n",
    "s1 = []    # NAND 출력\n",
    "s2 = []    # OR 출력\n",
    "\n",
    "new_input_data = []  # AND 입력\n",
    "final_output = []    # AND 출력\n",
    "\n",
    "for index in range(len(input_data)):\n",
    "    \n",
    "    s1 = NAND_obj.predict(input_data[index])  # NAND 출력\n",
    "    s2 = OR_obj.predict(input_data[index])    # OR 출력\n",
    "    \n",
    "    new_input_data.append(s1[-1])    # AND 입력\n",
    "    new_input_data.append(s2[-1])    # AND 입력\n",
    "    \n",
    "    (sigmoid_val, logical_val) = AND_obj.predict(np.array(new_input_data))\n",
    "    \n",
    "    final_output.append(logical_val)    # AND 출력, 즉 XOR 출력    \n",
    "    new_input_data = []    # AND 입력 초기화\n",
    "\n",
    "\n",
    "for index in range(len(input_data)):    \n",
    "    print(input_data[index], \" = \", final_output[index], end='')\n",
    "    print(\"\\n\")"
   ]
  },
  {
   "cell_type": "code",
   "execution_count": null,
   "metadata": {
    "collapsed": true
   },
   "outputs": [],
   "source": []
  }
 ],
 "metadata": {
  "anaconda-cloud": {},
  "kernelspec": {
   "display_name": "Python 3",
   "language": "python",
   "name": "python3"
  },
  "language_info": {
   "codemirror_mode": {
    "name": "ipython",
    "version": 3
   },
   "file_extension": ".py",
   "mimetype": "text/x-python",
   "name": "python",
   "nbconvert_exporter": "python",
   "pygments_lexer": "ipython3",
   "version": "3.7.6"
  }
 },
 "nbformat": 4,
 "nbformat_minor": 1
}
