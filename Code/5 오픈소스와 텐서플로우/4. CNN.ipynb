{
 "cells": [
  {
   "cell_type": "markdown",
   "metadata": {},
   "source": [
    "컨볼루션이랑\n",
    "하나의 함수를 반전시킨후에 이동하면서 또다른 함수의 값을 곱해 적분하는것\n",
    "원본값이 변화된것의 평균(핸드폰 안테나와 같은원리)\n",
    "그뒤에 시간개념이 들어가서 다시 적분된다\n",
    "1.적분은 더하기며 평균이다\n",
    "2. 입력데이터에 변화를준다\n",
    "3. 적분변수와 적분결과가 영향을 준다\n",
    "\n",
    "함수를 반전시킨후 이동\n",
    "겹치면 그부분만큼의 곱이 된다\n",
    "즉 g(t)가 이동한다는것은 시간의 개념이 적용되어 이동한다는 소리이다(특정구간)\n",
    "\n",
    "시간이 -무한대에서 부터 쭉 이동\n",
    "원본값에 어떠한 평균적인 변화를 주었는가\n",
    "\n",
    "CNN을 사용하면 정확도가 높아진다\n",
    "왜?\n",
    "CNN은 데이터간의 상관관계를 확인하기 편하다\n",
    "즉, 데이터의 feature를 확인할 수 있다\n",
    "\n",
    "데이터의 특성을 분석한다는건 데이터의 위치를 분석한다는 뜻이다\n",
    "mnist의 경우엔 28X28 사이즈에 가운데에 위치해있다\n",
    "기존의 방식으론 그 위치를 보고 데이터를 분석하였는데\n",
    "그 정확도를 높이기 위하여 데이터의 특성, 패턴을 추출해내야한다\n",
    "CNN은 data의 feature를 뽑아내기 때문에 정확도가 높다"
   ]
  },
  {
   "cell_type": "markdown",
   "metadata": {},
   "source": [
    "아키텍쳐는 은닉층만 바뀐다\n",
    "pooling이란 입력정보를 최대값 최소값 평균값등으로 압축하여 데이터의 연산량을 줄여준다\n",
    "주로 max pooling을 사용\n",
    "스트라이드(필터의 이동산격)\n",
    "weight set\n",
    "이러한 필터를 처리하여 연산된 값을 모아놓은것을 이제 feature map이라 한다\n",
    "\n",
    "그후 relu를 거친후 pooling을 할때 행단위로 끊는데 몇개의 단위로 끊을지는 하이퍼파라미터다\n",
    "\n",
    "adam 을 사용하면 3차원 4차원 데이터에서 최솟점을 찾을 확률이 높아진다\n",
    "\n",
    "결국 풀링값이 높을수록 그 필터성분을 가장많이 포함하고 있는 값을 찾을 수 있다\n",
    "필터가 이동해가면서 그 성분을 찾는 역할을 하기때문에 이미지를 학습하는데 탁월하다\n",
    "\n",
    "이러한 필터적요이 중요한데 다양성을 추구해야한다\n"
   ]
  }
 ],
 "metadata": {
  "kernelspec": {
   "display_name": "Python 3",
   "language": "python",
   "name": "python3"
  },
  "language_info": {
   "codemirror_mode": {
    "name": "ipython",
    "version": 3
   },
   "file_extension": ".py",
   "mimetype": "text/x-python",
   "name": "python",
   "nbconvert_exporter": "python",
   "pygments_lexer": "ipython3",
   "version": "3.7.2"
  }
 },
 "nbformat": 4,
 "nbformat_minor": 4
}
