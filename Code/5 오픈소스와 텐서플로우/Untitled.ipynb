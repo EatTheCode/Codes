{
 "cells": [
  {
   "cell_type": "code",
   "execution_count": 7,
   "metadata": {},
   "outputs": [
    {
     "name": "stdout",
     "output_type": "stream",
     "text": [
      "['math']\n",
      "3\n"
     ]
    }
   ],
   "source": [
    "# test = [[\"Unsu\", \"english\", 99],[\"Hyen\", \"math\", 88], [\"hwang\", \"history\", 55]]\n",
    "\n",
    "# print(test[-2][1:-1])\n",
    "# print(len(test))"
   ]
  },
  {
   "cell_type": "code",
   "execution_count": 1,
   "metadata": {},
   "outputs": [
    {
     "name": "stdout",
     "output_type": "stream",
     "text": [
      "['dragon', 'lion', 'monkey', 'wulf']\n"
     ]
    }
   ],
   "source": [
    "test1 = ['wulf', 'lion', 'dragon', 'monkey']\n",
    "sorted_test = sorted(test1)\n",
    "print(sorted_test)"
   ]
  },
  {
   "cell_type": "code",
   "execution_count": 2,
   "metadata": {},
   "outputs": [
    {
     "name": "stdout",
     "output_type": "stream",
     "text": [
      "1 3 5\n"
     ]
    }
   ],
   "source": [
    "a=[]\n",
    "for i in range(1,7,2):\n",
    "    a.append(i)\n",
    "print(a[0], a[1], a[2])"
   ]
  },
  {
   "cell_type": "code",
   "execution_count": 7,
   "metadata": {},
   "outputs": [
    {
     "name": "stdout",
     "output_type": "stream",
     "text": [
      "45\n"
     ]
    }
   ],
   "source": [
    "score = {'장':{'영어':90, '수학':92}, '선':{'영어':45, '수학':66}, '윤':{'영어':21, '수학':99}}\n",
    "print(score['선']['영어'])"
   ]
  },
  {
   "cell_type": "code",
   "execution_count": 10,
   "metadata": {},
   "outputs": [
    {
     "data": {
      "text/plain": [
       "dict_items([('lhwan', -6684), ('Yuri', 1470), ('yen', -764)])"
      ]
     },
     "execution_count": 10,
     "metadata": {},
     "output_type": "execute_result"
    }
   ],
   "source": [
    "num = {'lhwan':2298-8982, 'Yuri':4282-2812, 'yen':9099-9863}\n",
    "num.items()"
   ]
  },
  {
   "cell_type": "code",
   "execution_count": 12,
   "metadata": {},
   "outputs": [
    {
     "name": "stdout",
     "output_type": "stream",
     "text": [
      "1.23\n"
     ]
    }
   ],
   "source": [
    "r = round(1.2345,2)\n",
    "print(r)"
   ]
  },
  {
   "cell_type": "code",
   "execution_count": 14,
   "metadata": {},
   "outputs": [
    {
     "name": "stdout",
     "output_type": "stream",
     "text": [
      "[1, 6, 3]\n"
     ]
    }
   ],
   "source": [
    "list = [1, 6, 3]\n",
    "def func(x):\n",
    "    x[0] = 2\n",
    "    x[1]=x[1]%2\n",
    "    x[2]=x[2]**3\n",
    "    func(list)\n",
    "print(list)"
   ]
  },
  {
   "cell_type": "code",
   "execution_count": 15,
   "metadata": {},
   "outputs": [
    {
     "name": "stdout",
     "output_type": "stream",
     "text": [
      "[0, 1, 8, 27]\n"
     ]
    }
   ],
   "source": [
    "x = [x**3 for x in range(4)]\n",
    "\n",
    "print(x)"
   ]
  },
  {
   "cell_type": "code",
   "execution_count": 16,
   "metadata": {},
   "outputs": [
    {
     "name": "stdout",
     "output_type": "stream",
     "text": [
      "[[7, 8, 9]]\n"
     ]
    }
   ],
   "source": [
    "test2 =[[4,5,6],[7,8,9],[10,11,12]]\n",
    "test2 = test2[:-1][1:2]\n",
    "print(test2)"
   ]
  },
  {
   "cell_type": "code",
   "execution_count": 17,
   "metadata": {},
   "outputs": [
    {
     "name": "stdout",
     "output_type": "stream",
     "text": [
      "10 9\n"
     ]
    }
   ],
   "source": [
    "list = [x*x for x in range(1,5,2)]\n",
    "def func(list):\n",
    "    return list[1]*10, list[0]\n",
    "\n",
    "f = lambda x : func([x[1],x[0]])\n",
    "y1, y2 = f(list)\n",
    "print(y1, y2)"
   ]
  },
  {
   "cell_type": "code",
   "execution_count": 1,
   "metadata": {},
   "outputs": [
    {
     "name": "stdout",
     "output_type": "stream",
     "text": [
      "6.0\n"
     ]
    }
   ],
   "source": [
    "def n(f,x):\n",
    "    delta_x = 1e-4\n",
    "    return (f(x+delta_x) - f(x-delta_x))/(2*delta_x)\n",
    "def func(x):\n",
    "    return x**2\n",
    "f = lambda x : func(x)\n",
    "\n",
    "result = n(f, 3)\n",
    "print(round(result, 1))"
   ]
  },
  {
   "cell_type": "code",
   "execution_count": 1,
   "metadata": {},
   "outputs": [
    {
     "name": "stdout",
     "output_type": "stream",
     "text": [
      "[16, 8]\n"
     ]
    }
   ],
   "source": [
    "def multiply(x):\n",
    "    return (x*x)\n",
    "def add(x):\n",
    "    return (x+x)\n",
    "\n",
    "funcs = [multiply, add]\n",
    "for i in range(5):\n",
    "    value = list(map(lambda f : f(i), funcs))\n",
    "    \n",
    "print(value)"
   ]
  },
  {
   "cell_type": "code",
   "execution_count": null,
   "metadata": {},
   "outputs": [],
   "source": []
  }
 ],
 "metadata": {
  "kernelspec": {
   "display_name": "Python 3",
   "language": "python",
   "name": "python3"
  },
  "language_info": {
   "codemirror_mode": {
    "name": "ipython",
    "version": 3
   },
   "file_extension": ".py",
   "mimetype": "text/x-python",
   "name": "python",
   "nbconvert_exporter": "python",
   "pygments_lexer": "ipython3",
   "version": "3.7.2"
  }
 },
 "nbformat": 4,
 "nbformat_minor": 4
}
