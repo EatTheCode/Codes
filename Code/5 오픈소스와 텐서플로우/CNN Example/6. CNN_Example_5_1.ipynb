{
 "cells": [
  {
   "cell_type": "markdown",
   "metadata": {},
   "source": [
    "### 3 conv / 1 flatten CNN \n",
    "\n",
    "### Colab에서 구글 드라이브 마운트 시킨후 파일로 저장 (Exception Handling 처리하지 않음)\n",
    "\n",
    "\n",
    "#### 1st conv => 5X5 필터 32개, stride 1, conv padding 있음, 2X2 max pooling\n",
    "\n",
    "#### 2nd conv => 5X5 필터 64개, stride 1, conv padding 있음, 2X2 max pooling\n",
    "\n",
    "#### 3rd conv => 5X5 필터 128개, stride 1, conv padding 있음, 2X2 max pooling"
   ]
  },
  {
   "cell_type": "code",
   "execution_count": 1,
   "metadata": {
    "colab": {
     "base_uri": "https://localhost:8080/",
     "height": 35
    },
    "colab_type": "code",
    "id": "PU2mbKAlparO",
    "outputId": "7686c96b-524e-470f-f14f-40ae59830f61"
   },
   "outputs": [
    {
     "name": "stdout",
     "output_type": "stream",
     "text": [
      "TensorFlow 1.x selected.\n"
     ]
    }
   ],
   "source": [
    "# Colab에서 tensorflow 1.x 실행\n",
    "%tensorflow_version 1.x"
   ]
  },
  {
   "cell_type": "code",
   "execution_count": 2,
   "metadata": {
    "colab": {
     "base_uri": "https://localhost:8080/",
     "height": 685
    },
    "colab_type": "code",
    "id": "73l1mwPq7Yva",
    "outputId": "d4123850-7c01-45ed-ae6d-fae6a6b499f3"
   },
   "outputs": [
    {
     "name": "stdout",
     "output_type": "stream",
     "text": [
      "WARNING:tensorflow:From <ipython-input-2-37edfc5623ff>:9: read_data_sets (from tensorflow.contrib.learn.python.learn.datasets.mnist) is deprecated and will be removed in a future version.\n",
      "Instructions for updating:\n",
      "Please use alternatives such as official/mnist/dataset.py from tensorflow/models.\n",
      "WARNING:tensorflow:From /tensorflow-1.15.2/python3.6/tensorflow_core/contrib/learn/python/learn/datasets/mnist.py:260: maybe_download (from tensorflow.contrib.learn.python.learn.datasets.base) is deprecated and will be removed in a future version.\n",
      "Instructions for updating:\n",
      "Please write your own downloading logic.\n",
      "WARNING:tensorflow:From /tensorflow-1.15.2/python3.6/tensorflow_core/contrib/learn/python/learn/datasets/base.py:252: _internal_retry.<locals>.wrap.<locals>.wrapped_fn (from tensorflow.contrib.learn.python.learn.datasets.base) is deprecated and will be removed in a future version.\n",
      "Instructions for updating:\n",
      "Please use urllib or similar directly.\n",
      "Successfully downloaded train-images-idx3-ubyte.gz 9912422 bytes.\n",
      "WARNING:tensorflow:From /tensorflow-1.15.2/python3.6/tensorflow_core/contrib/learn/python/learn/datasets/mnist.py:262: extract_images (from tensorflow.contrib.learn.python.learn.datasets.mnist) is deprecated and will be removed in a future version.\n",
      "Instructions for updating:\n",
      "Please use tf.data to implement this functionality.\n",
      "Extracting MNIST_data/train-images-idx3-ubyte.gz\n",
      "Successfully downloaded train-labels-idx1-ubyte.gz 28881 bytes.\n",
      "WARNING:tensorflow:From /tensorflow-1.15.2/python3.6/tensorflow_core/contrib/learn/python/learn/datasets/mnist.py:267: extract_labels (from tensorflow.contrib.learn.python.learn.datasets.mnist) is deprecated and will be removed in a future version.\n",
      "Instructions for updating:\n",
      "Please use tf.data to implement this functionality.\n",
      "Extracting MNIST_data/train-labels-idx1-ubyte.gz\n",
      "WARNING:tensorflow:From /tensorflow-1.15.2/python3.6/tensorflow_core/contrib/learn/python/learn/datasets/mnist.py:110: dense_to_one_hot (from tensorflow.contrib.learn.python.learn.datasets.mnist) is deprecated and will be removed in a future version.\n",
      "Instructions for updating:\n",
      "Please use tf.one_hot on tensors.\n",
      "Successfully downloaded t10k-images-idx3-ubyte.gz 1648877 bytes.\n",
      "Extracting MNIST_data/t10k-images-idx3-ubyte.gz\n",
      "Successfully downloaded t10k-labels-idx1-ubyte.gz 4542 bytes.\n",
      "Extracting MNIST_data/t10k-labels-idx1-ubyte.gz\n",
      "WARNING:tensorflow:From /tensorflow-1.15.2/python3.6/tensorflow_core/contrib/learn/python/learn/datasets/mnist.py:290: DataSet.__init__ (from tensorflow.contrib.learn.python.learn.datasets.mnist) is deprecated and will be removed in a future version.\n",
      "Instructions for updating:\n",
      "Please use alternatives such as official/mnist/dataset.py from tensorflow/models.\n",
      "\n",
      " 55000 10000 5000\n",
      "\n",
      "train image shape =  (55000, 784)\n",
      "train label shape =  (55000, 10)\n",
      "test image shape =  (10000, 784)\n",
      "test label shape =  (10000, 10)\n"
     ]
    }
   ],
   "source": [
    "import tensorflow as tf\n",
    "from tensorflow.examples.tutorials.mnist import input_data\n",
    "import numpy as np\n",
    "from datetime import datetime      # datetime.now() 를 이용하여 학습 경과 시간 측정\n",
    "\n",
    "# read_data_sets() 를 통해 데이터를 객체형태로 받아오고\n",
    "# one_hot 옵션을 통해 정답(label) 을 one-hot 인코딩된 형태로 받아옴\n",
    "\n",
    "mnist = input_data.read_data_sets(\"MNIST_data/\", one_hot=True)\n",
    "\n",
    "# mnist 데이터 셋은 train, test, validation 3개의 데이터 셋으로 구성되어 있으며.\n",
    "# num_examples 값을 통해 데이터의 갯수 확인 가능함\n",
    "\n",
    "print(\"\\n\", mnist.train.num_examples, mnist.test.num_examples, mnist.validation.num_examples)\n",
    "\n",
    "# 데이터는 784(28x28)개의 픽셀을 가지는 이미지와\n",
    "# 10(0~9)개 클래스를 가지는 one-hot 인코딩된 레이블(정답)을 가지고 있음\n",
    "\n",
    "print(\"\\ntrain image shape = \", np.shape(mnist.train.images))\n",
    "print(\"train label shape = \", np.shape(mnist.train.labels))\n",
    "print(\"test image shape = \", np.shape(mnist.test.images))\n",
    "print(\"test label shape = \", np.shape(mnist.test.labels))"
   ]
  },
  {
   "cell_type": "code",
   "execution_count": 0,
   "metadata": {
    "colab": {},
    "colab_type": "code",
    "id": "EUhWgzsPpare"
   },
   "outputs": [],
   "source": [
    "# Hyper-Parameter\n",
    "learning_rate = 0.001  # 학습율\n",
    "epochs = 30            # 반복횟수\n",
    "batch_size = 100      # 한번에 입력으로 주어지는 MNIST 개수"
   ]
  },
  {
   "cell_type": "code",
   "execution_count": 0,
   "metadata": {
    "colab": {},
    "colab_type": "code",
    "id": "UBURWGq-parm"
   },
   "outputs": [],
   "source": [
    "# 입력과 정답을 위한 플레이스홀더 정의\n",
    "X = tf.placeholder(tf.float32, [None, 784])  \n",
    "\n",
    "T = tf.placeholder(tf.float32, [None, 10])  \n",
    "\n",
    "# 입력층의 출력 값. 컨볼루션 연산을 위해 reshape 시킴\n",
    "A1 = X_img = tf.reshape(X, [-1, 28, 28, 1])   # image 28 X 28 X 1 (black/white)"
   ]
  },
  {
   "cell_type": "code",
   "execution_count": 0,
   "metadata": {
    "colab": {},
    "colab_type": "code",
    "id": "qlNm5ebiparq"
   },
   "outputs": [],
   "source": [
    "# 1번째 컨볼루션 층\n",
    "# 5X5 크기를 가지는 32개의 필터를 적용\n",
    "\n",
    "F2 = tf.Variable(tf.random_normal([5, 5, 1, 32], stddev=0.01))  \n",
    "b2 = tf.Variable(tf.constant(0.1, shape=[32]))   \n",
    "\n",
    "# 1번째 컨볼루션 연산을 통해 28 X 28 X1  => 28 X 28 X 32 \n",
    "C2 = tf.nn.conv2d(A1, F2, strides=[1, 1, 1, 1], padding='SAME')\n",
    "\n",
    "# relu\n",
    "Z2 = tf.nn.relu(C2+b2)\n",
    "\n",
    "# 1번째 max pooling을 통해 28 X 28 X 32  => 14 X 14 X 32 \n",
    "A2 = P2 = tf.nn.max_pool(Z2, ksize=[1, 2, 2, 1], strides=[1, 2, 2, 1], padding='SAME')"
   ]
  },
  {
   "cell_type": "code",
   "execution_count": 0,
   "metadata": {
    "colab": {},
    "colab_type": "code",
    "id": "FhxXLQd9parv"
   },
   "outputs": [],
   "source": [
    "# 2번째 컨볼루션 층\n",
    "F3 = tf.Variable(tf.random_normal([5, 5, 32, 64], stddev=0.01))  \n",
    "b3 = tf.Variable(tf.constant(0.1, shape=[64]))   \n",
    "\n",
    "# 2번째 컨볼루션 연산을 통해 14 X 14 X 32 => 14 X 14 X 64 \n",
    "C3 = tf.nn.conv2d(A2, F3, strides=[1, 1, 1, 1], padding='SAME')\n",
    "\n",
    "# relu\n",
    "Z3 = tf.nn.relu(C3+b3)\n",
    "\n",
    "# 2번째 max pooling을 통해 14 X 14 X 64 => 7 X 7 X 64\n",
    "A3 = P3 = tf.nn.max_pool(Z3, ksize=[1, 2, 2, 1], strides=[1, 2, 2, 1], padding='SAME')"
   ]
  },
  {
   "cell_type": "code",
   "execution_count": 0,
   "metadata": {
    "colab": {},
    "colab_type": "code",
    "id": "ZhgsJObypar4"
   },
   "outputs": [],
   "source": [
    "# 3번째 컨볼루션 층\n",
    "F4 = tf.Variable(tf.random_normal([5, 5, 64, 128], stddev=0.01))  \n",
    "b4 = tf.Variable(tf.constant(0.1, shape=[128]))   \n",
    "\n",
    "# 3번째 컨볼루션 연산을 통해 7 X 7 X 64 => 7 X 7 X 128\n",
    "C4 = tf.nn.conv2d(A3, F4, strides=[1, 1, 1, 1], padding='SAME')\n",
    "\n",
    "# relu\n",
    "Z4 = tf.nn.relu(C4+b4)\n",
    "\n",
    "# 3번째 max pooling을 통해 7 X 7 X 128 => 4 X 4 X 128\n",
    "A4 = P4 = tf.nn.max_pool(Z4, ksize=[1, 2, 2, 1], strides=[1, 2, 2, 1], padding='SAME')"
   ]
  },
  {
   "cell_type": "code",
   "execution_count": 0,
   "metadata": {
    "colab": {},
    "colab_type": "code",
    "id": "uZdbm2qOpar9"
   },
   "outputs": [],
   "source": [
    "# 4X4 크기를 가진 128개의 activation map을 flatten 시킴\n",
    "A4_flat = P4_flat = tf.reshape(A4, [-1, 128*4*4])"
   ]
  },
  {
   "cell_type": "code",
   "execution_count": 0,
   "metadata": {
    "colab": {},
    "colab_type": "code",
    "id": "91YPQ1D0pasC"
   },
   "outputs": [],
   "source": [
    "# 512 개의 노드 완전연결\n",
    "W5 = tf.Variable(tf.random_normal([128*4*4, 512], stddev=0.01))\n",
    "b5 = tf.Variable(tf.random_normal([512]))\n",
    "\n",
    "Z5 = tf.matmul(A4_flat, W5) + b5\n",
    "\n",
    "A5 = tf.nn.relu(Z5)"
   ]
  },
  {
   "cell_type": "code",
   "execution_count": 0,
   "metadata": {
    "colab": {},
    "colab_type": "code",
    "id": "xx3DkYB-pasL"
   },
   "outputs": [],
   "source": [
    "# 출력층\n",
    "W6 = tf.Variable(tf.random_normal([512, 10], stddev=0.01))\n",
    "b6 = tf.Variable(tf.random_normal([10]))\n",
    "\n",
    "# 출력층 선형회귀  값 Z6, 즉 softmax 에 들어가는 입력 값\n",
    "Z6 = logits = tf.matmul(A5, W6) + b6    # 선형회귀 값 Z6\n",
    "\n",
    "y = A6 = tf.nn.softmax(Z6)"
   ]
  },
  {
   "cell_type": "code",
   "execution_count": 0,
   "metadata": {
    "colab": {},
    "colab_type": "code",
    "id": "ldRNNVqVpasP"
   },
   "outputs": [],
   "source": [
    "loss = tf.reduce_mean( tf.nn.softmax_cross_entropy_with_logits_v2(logits=Z6, labels=T) )\n",
    "\n",
    "optimizer = tf.train.AdamOptimizer(learning_rate)\n",
    "\n",
    "train = optimizer.minimize(loss)  "
   ]
  },
  {
   "cell_type": "code",
   "execution_count": 0,
   "metadata": {
    "colab": {},
    "colab_type": "code",
    "id": "7QBhUJwHpasW"
   },
   "outputs": [],
   "source": [
    "# batch_size X 10 데이터에 대해 argmax를 통해 행단위로 비교함\n",
    "predicted_val = tf.equal( tf.argmax(A6, 1), tf.argmax(T, 1) )\n",
    "\n",
    "# batch_size X 10 의 True, False 를 1 또는 0 으로 변환\n",
    "accuracy = tf.reduce_mean(tf.cast(predicted_val, dtype=tf.float32))\n",
    "\n",
    "# index list 출력\n",
    "accuracy_index = tf.cast(predicted_val, dtype=tf.float32)\n",
    "\n",
    "# 예측값 처리\n",
    "predicted_list = tf.argmax(A6, 1)"
   ]
  },
  {
   "cell_type": "code",
   "execution_count": 13,
   "metadata": {
    "colab": {
     "base_uri": "https://localhost:8080/",
     "height": 1000
    },
    "colab_type": "code",
    "id": "iGkjyvs-pasb",
    "outputId": "eb1701a1-e6b3-436d-8fa6-b180b9fe6561"
   },
   "outputs": [
    {
     "name": "stdout",
     "output_type": "stream",
     "text": [
      "epochs =  0 , step =  0 , loss_val =  2.7091568\n",
      "epochs =  0 , step =  100 , loss_val =  0.64760554\n",
      "epochs =  0 , step =  200 , loss_val =  0.15664355\n",
      "epochs =  0 , step =  300 , loss_val =  0.15440497\n",
      "epochs =  0 , step =  400 , loss_val =  0.0844773\n",
      "epochs =  0 , step =  500 , loss_val =  0.09964538\n",
      "epochs =  1 , step =  0 , loss_val =  0.05143046\n",
      "epochs =  1 , step =  100 , loss_val =  0.05286794\n",
      "epochs =  1 , step =  200 , loss_val =  0.09488496\n",
      "epochs =  1 , step =  300 , loss_val =  0.060562912\n",
      "epochs =  1 , step =  400 , loss_val =  0.032048367\n",
      "epochs =  1 , step =  500 , loss_val =  0.07804218\n",
      "epochs =  2 , step =  0 , loss_val =  0.066862494\n",
      "epochs =  2 , step =  100 , loss_val =  0.08539966\n",
      "epochs =  2 , step =  200 , loss_val =  0.081679136\n",
      "epochs =  2 , step =  300 , loss_val =  0.0035390286\n",
      "epochs =  2 , step =  400 , loss_val =  0.026565459\n",
      "epochs =  2 , step =  500 , loss_val =  0.020117396\n",
      "epochs =  3 , step =  0 , loss_val =  0.02294481\n",
      "epochs =  3 , step =  100 , loss_val =  0.07816803\n",
      "epochs =  3 , step =  200 , loss_val =  0.03126897\n",
      "epochs =  3 , step =  300 , loss_val =  0.04912859\n",
      "epochs =  3 , step =  400 , loss_val =  0.09926415\n",
      "epochs =  3 , step =  500 , loss_val =  0.03519333\n",
      "epochs =  4 , step =  0 , loss_val =  0.03684897\n",
      "epochs =  4 , step =  100 , loss_val =  0.0005017684\n",
      "epochs =  4 , step =  200 , loss_val =  0.009594026\n",
      "epochs =  4 , step =  300 , loss_val =  0.012408462\n",
      "epochs =  4 , step =  400 , loss_val =  0.039828863\n",
      "epochs =  4 , step =  500 , loss_val =  0.007001888\n",
      "epochs =  5 , step =  0 , loss_val =  0.000930511\n",
      "epochs =  5 , step =  100 , loss_val =  0.0022106543\n",
      "epochs =  5 , step =  200 , loss_val =  0.0012284557\n",
      "epochs =  5 , step =  300 , loss_val =  0.00882707\n",
      "epochs =  5 , step =  400 , loss_val =  0.007443007\n",
      "epochs =  5 , step =  500 , loss_val =  0.0032276309\n",
      "epochs =  6 , step =  0 , loss_val =  0.03313113\n",
      "epochs =  6 , step =  100 , loss_val =  0.017933184\n",
      "epochs =  6 , step =  200 , loss_val =  0.001945458\n",
      "epochs =  6 , step =  300 , loss_val =  0.00046043948\n",
      "epochs =  6 , step =  400 , loss_val =  0.013193835\n",
      "epochs =  6 , step =  500 , loss_val =  0.0003820434\n",
      "epochs =  7 , step =  0 , loss_val =  0.0013489915\n",
      "epochs =  7 , step =  100 , loss_val =  0.0015223462\n",
      "epochs =  7 , step =  200 , loss_val =  0.028658388\n",
      "epochs =  7 , step =  300 , loss_val =  0.007940843\n",
      "epochs =  7 , step =  400 , loss_val =  0.0015921813\n",
      "epochs =  7 , step =  500 , loss_val =  0.037705872\n",
      "epochs =  8 , step =  0 , loss_val =  0.0030804106\n",
      "epochs =  8 , step =  100 , loss_val =  0.0007236534\n",
      "epochs =  8 , step =  200 , loss_val =  0.022932451\n",
      "epochs =  8 , step =  300 , loss_val =  0.002685184\n",
      "epochs =  8 , step =  400 , loss_val =  0.0004302104\n",
      "epochs =  8 , step =  500 , loss_val =  0.0021643273\n",
      "epochs =  9 , step =  0 , loss_val =  0.004634278\n",
      "epochs =  9 , step =  100 , loss_val =  0.011568048\n",
      "epochs =  9 , step =  200 , loss_val =  0.04251512\n",
      "epochs =  9 , step =  300 , loss_val =  0.013625197\n",
      "epochs =  9 , step =  400 , loss_val =  0.00024014902\n",
      "epochs =  9 , step =  500 , loss_val =  0.00752612\n",
      "epochs =  10 , step =  0 , loss_val =  0.07928333\n",
      "epochs =  10 , step =  100 , loss_val =  0.0004639956\n",
      "epochs =  10 , step =  200 , loss_val =  0.0025820576\n",
      "epochs =  10 , step =  300 , loss_val =  0.012546731\n",
      "epochs =  10 , step =  400 , loss_val =  0.0008456531\n",
      "epochs =  10 , step =  500 , loss_val =  0.0018517141\n",
      "epochs =  11 , step =  0 , loss_val =  0.006702064\n",
      "epochs =  11 , step =  100 , loss_val =  0.0014489576\n",
      "epochs =  11 , step =  200 , loss_val =  0.00065897015\n",
      "epochs =  11 , step =  300 , loss_val =  0.0018988516\n",
      "epochs =  11 , step =  400 , loss_val =  0.002156905\n",
      "epochs =  11 , step =  500 , loss_val =  0.02510551\n",
      "epochs =  12 , step =  0 , loss_val =  0.056132652\n",
      "epochs =  12 , step =  100 , loss_val =  0.0031953556\n",
      "epochs =  12 , step =  200 , loss_val =  0.003527288\n",
      "epochs =  12 , step =  300 , loss_val =  0.00020160993\n",
      "epochs =  12 , step =  400 , loss_val =  0.042859677\n",
      "epochs =  12 , step =  500 , loss_val =  8.3717976e-05\n",
      "epochs =  13 , step =  0 , loss_val =  0.03229444\n",
      "epochs =  13 , step =  100 , loss_val =  0.0015793911\n",
      "epochs =  13 , step =  200 , loss_val =  6.0446677e-05\n",
      "epochs =  13 , step =  300 , loss_val =  0.005230476\n",
      "epochs =  13 , step =  400 , loss_val =  0.043639354\n",
      "epochs =  13 , step =  500 , loss_val =  0.00044636446\n",
      "epochs =  14 , step =  0 , loss_val =  0.03419687\n",
      "epochs =  14 , step =  100 , loss_val =  0.00048098422\n",
      "epochs =  14 , step =  200 , loss_val =  0.08003501\n",
      "epochs =  14 , step =  300 , loss_val =  0.00031633355\n",
      "epochs =  14 , step =  400 , loss_val =  0.0044730036\n",
      "epochs =  14 , step =  500 , loss_val =  2.9373548e-05\n",
      "epochs =  15 , step =  0 , loss_val =  0.036340024\n",
      "epochs =  15 , step =  100 , loss_val =  0.001833125\n",
      "epochs =  15 , step =  200 , loss_val =  0.041094147\n",
      "epochs =  15 , step =  300 , loss_val =  0.00044196748\n",
      "epochs =  15 , step =  400 , loss_val =  0.00064099557\n",
      "epochs =  15 , step =  500 , loss_val =  0.0036064696\n",
      "epochs =  16 , step =  0 , loss_val =  8.5804e-06\n",
      "epochs =  16 , step =  100 , loss_val =  2.0796648e-05\n",
      "epochs =  16 , step =  200 , loss_val =  0.012449721\n",
      "epochs =  16 , step =  300 , loss_val =  2.3096734e-05\n",
      "epochs =  16 , step =  400 , loss_val =  0.00018522335\n",
      "epochs =  16 , step =  500 , loss_val =  5.1348357e-05\n",
      "epochs =  17 , step =  0 , loss_val =  0.14376399\n",
      "epochs =  17 , step =  100 , loss_val =  0.00036579528\n",
      "epochs =  17 , step =  200 , loss_val =  0.0019933537\n",
      "epochs =  17 , step =  300 , loss_val =  0.00059797935\n",
      "epochs =  17 , step =  400 , loss_val =  0.00042848758\n",
      "epochs =  17 , step =  500 , loss_val =  4.310426e-06\n",
      "epochs =  18 , step =  0 , loss_val =  0.0027239034\n",
      "epochs =  18 , step =  100 , loss_val =  3.051958e-05\n",
      "epochs =  18 , step =  200 , loss_val =  0.011843813\n",
      "epochs =  18 , step =  300 , loss_val =  3.2009826e-05\n",
      "epochs =  18 , step =  400 , loss_val =  0.00022665843\n",
      "epochs =  18 , step =  500 , loss_val =  0.00056201086\n",
      "epochs =  19 , step =  0 , loss_val =  2.0630418e-05\n",
      "epochs =  19 , step =  100 , loss_val =  0.02841134\n",
      "epochs =  19 , step =  200 , loss_val =  0.0003233122\n",
      "epochs =  19 , step =  300 , loss_val =  8.14277e-05\n",
      "epochs =  19 , step =  400 , loss_val =  0.10775341\n",
      "epochs =  19 , step =  500 , loss_val =  2.934994e-05\n",
      "epochs =  20 , step =  0 , loss_val =  1.0254236e-05\n",
      "epochs =  20 , step =  100 , loss_val =  7.586611e-05\n",
      "epochs =  20 , step =  200 , loss_val =  3.8132648e-06\n",
      "epochs =  20 , step =  300 , loss_val =  1.9130825e-05\n",
      "epochs =  20 , step =  400 , loss_val =  0.0010511368\n",
      "epochs =  20 , step =  500 , loss_val =  0.0034493636\n",
      "epochs =  21 , step =  0 , loss_val =  0.00015845924\n",
      "epochs =  21 , step =  100 , loss_val =  0.0004797183\n",
      "epochs =  21 , step =  200 , loss_val =  0.00025293918\n",
      "epochs =  21 , step =  300 , loss_val =  0.00017400227\n",
      "epochs =  21 , step =  400 , loss_val =  1.0084945e-06\n",
      "epochs =  21 , step =  500 , loss_val =  0.0004406683\n",
      "epochs =  22 , step =  0 , loss_val =  1.939389e-06\n",
      "epochs =  22 , step =  100 , loss_val =  4.535242e-06\n",
      "epochs =  22 , step =  200 , loss_val =  0.008023898\n",
      "epochs =  22 , step =  300 , loss_val =  4.3064523e-05\n",
      "epochs =  22 , step =  400 , loss_val =  2.2818038e-05\n",
      "epochs =  22 , step =  500 , loss_val =  0.0069644544\n",
      "epochs =  23 , step =  0 , loss_val =  0.0005361279\n",
      "epochs =  23 , step =  100 , loss_val =  1.2557126e-05\n",
      "epochs =  23 , step =  200 , loss_val =  1.5250798e-05\n",
      "epochs =  23 , step =  300 , loss_val =  0.00010203693\n",
      "epochs =  23 , step =  400 , loss_val =  0.00030122045\n",
      "epochs =  23 , step =  500 , loss_val =  0.002333784\n",
      "epochs =  24 , step =  0 , loss_val =  0.034216892\n",
      "epochs =  24 , step =  100 , loss_val =  2.2208964e-05\n",
      "epochs =  24 , step =  200 , loss_val =  0.000101152866\n",
      "epochs =  24 , step =  300 , loss_val =  0.00034895827\n",
      "epochs =  24 , step =  400 , loss_val =  1.6211872e-05\n",
      "epochs =  24 , step =  500 , loss_val =  1.10628425e-05\n",
      "epochs =  25 , step =  0 , loss_val =  8.0662525e-05\n",
      "epochs =  25 , step =  100 , loss_val =  1.8239e-07\n",
      "epochs =  25 , step =  200 , loss_val =  7.446024e-05\n",
      "epochs =  25 , step =  300 , loss_val =  0.0027647116\n",
      "epochs =  25 , step =  400 , loss_val =  7.475244e-06\n",
      "epochs =  25 , step =  500 , loss_val =  1.2230283e-06\n",
      "epochs =  26 , step =  0 , loss_val =  8.36839e-07\n",
      "epochs =  26 , step =  100 , loss_val =  6.3180806e-08\n",
      "epochs =  26 , step =  200 , loss_val =  0.031625837\n",
      "epochs =  26 , step =  300 , loss_val =  9.427841e-05\n",
      "epochs =  26 , step =  400 , loss_val =  1.4781881e-07\n",
      "epochs =  26 , step =  500 , loss_val =  0.0007225789\n",
      "epochs =  27 , step =  0 , loss_val =  1.5746444e-05\n",
      "epochs =  27 , step =  100 , loss_val =  9.2623554e-07\n",
      "epochs =  27 , step =  200 , loss_val =  1.7975165e-06\n",
      "epochs =  27 , step =  300 , loss_val =  2.015975e-05\n",
      "epochs =  27 , step =  400 , loss_val =  0.084615916\n",
      "epochs =  27 , step =  500 , loss_val =  0.00013410012\n",
      "epochs =  28 , step =  0 , loss_val =  0.00010242143\n",
      "epochs =  28 , step =  100 , loss_val =  0.009144185\n",
      "epochs =  28 , step =  200 , loss_val =  0.00033842277\n",
      "epochs =  28 , step =  300 , loss_val =  0.00028945957\n",
      "epochs =  28 , step =  400 , loss_val =  5.0360463e-06\n",
      "epochs =  28 , step =  500 , loss_val =  0.0003295419\n",
      "epochs =  29 , step =  0 , loss_val =  0.0006367399\n",
      "epochs =  29 , step =  100 , loss_val =  0.08387255\n",
      "epochs =  29 , step =  200 , loss_val =  0.000109698885\n",
      "epochs =  29 , step =  300 , loss_val =  2.551065e-07\n",
      "epochs =  29 , step =  400 , loss_val =  8.4635207e-07\n",
      "epochs =  29 , step =  500 , loss_val =  0.000300427\n",
      "\n",
      "elapsed time =  0:02:32.564842\n",
      "\n",
      "Accuracy =  0.9936\n",
      "type(accuracy_val) =  <class 'numpy.float32'> , type(predicted_list_val) =  <class 'numpy.ndarray'> , type(index_label) =  <class 'numpy.ndarray'>\n",
      "index_label.shape =  (10000,)\n",
      "length of index_label_list =  10000\n",
      "false label count =  64\n",
      "\n",
      "length of index_label_false_list 64\n"
     ]
    }
   ],
   "source": [
    "index_label_prediction_list = []\n",
    "\n",
    "with  tf.Session()  as sess:\n",
    "    \n",
    "    sess.run(tf.global_variables_initializer())  # 변수 노드(tf.Variable) 초기화\n",
    "    \n",
    "    start_time = datetime.now()\n",
    "    \n",
    "    for i in range(epochs):    # 30 번 반복수행\n",
    "        \n",
    "        total_batch = int(mnist.train.num_examples / batch_size)  # 55,000 / 100\n",
    "\n",
    "        for step in range(total_batch):\n",
    "            \n",
    "            batch_x_data, batch_t_data = mnist.train.next_batch(batch_size)\n",
    "      \n",
    "            loss_val, _ = sess.run([loss, train], feed_dict={X: batch_x_data, T: batch_t_data})    \n",
    "        \n",
    "            if step % 100 == 0:\n",
    "                print(\"epochs = \", i, \", step = \", step, \", loss_val = \", loss_val)             \n",
    "    \n",
    "    end_time = datetime.now() \n",
    "    \n",
    "    print(\"\\nelapsed time = \", end_time - start_time) \n",
    "    \n",
    "    # Accuracy 확인\n",
    "    test_x_data = mnist.test.images    # 10000 X 784\n",
    "    test_t_data = mnist.test.labels    # 10000 X 10\n",
    "    \n",
    "    accuracy_val, predicted_list_val, index_label = sess.run([accuracy, predicted_list, accuracy_index], feed_dict={X: test_x_data, T: test_t_data})\n",
    "    \n",
    "    print(\"\\nAccuracy = \", accuracy_val)\n",
    "    print(\"type(accuracy_val) = \", type(accuracy_val), ', type(predicted_list_val) = ', type(predicted_list_val), ', type(index_label) = ', type(index_label))\n",
    "    print(\"index_label.shape = \", index_label.shape)\n",
    "    \n",
    "    index_label_list = list(index_label)\n",
    "    print(\"length of index_label_list = \", len(index_label_list))\n",
    "    print(\"false label count = \", index_label_list.count([0]))\n",
    "        \n",
    "    \n",
    "    temp_list = [] \n",
    "    \n",
    "    for index in range(len(index_label)):\n",
    "        \n",
    "        if index_label[index] == 0:\n",
    "            \n",
    "            temp_list.append(index)\n",
    "            temp_list.append(np.argmax(test_t_data[index]))  # one-hot encoding 이므로 argmax 로 정답 추출\n",
    "            temp_list.append(predicted_list_val[index])\n",
    "            \n",
    "            index_label_prediction_list.append(temp_list)\n",
    "            \n",
    "            temp_list = []\n",
    "            \n",
    "    print(\"\\nlength of index_label_false_list\", len(index_label_prediction_list))"
   ]
  },
  {
   "cell_type": "code",
   "execution_count": 14,
   "metadata": {
    "colab": {
     "base_uri": "https://localhost:8080/",
     "height": 55
    },
    "colab_type": "code",
    "id": "ua5zLZvTpasf",
    "outputId": "43fb8ba2-b83a-43cd-c4e0-86073bf67390"
   },
   "outputs": [
    {
     "name": "stdout",
     "output_type": "stream",
     "text": [
      "[[62, 9, 5], [321, 2, 7], [340, 5, 3], [412, 5, 3], [582, 8, 2], [659, 2, 1], [674, 5, 3], [947, 8, 9], [1014, 6, 5], [1112, 4, 6], [1182, 6, 5], [1232, 9, 4], [1242, 4, 9], [1393, 5, 3], [1878, 8, 3], [1901, 9, 4], [2035, 5, 3], [2070, 7, 9], [2098, 2, 0], [2118, 6, 0], [2129, 9, 8], [2130, 4, 9], [2135, 6, 1], [2182, 1, 3], [2266, 1, 3], [2369, 5, 3], [2447, 4, 9], [2454, 6, 5], [2597, 5, 3], [2654, 6, 1], [2771, 4, 9], [2810, 5, 3], [2953, 3, 5], [3102, 5, 3], [3225, 7, 9], [3422, 6, 0], [3558, 5, 0], [3601, 1, 6], [4065, 0, 2], [4176, 2, 7], [4238, 7, 3], [4360, 5, 3], [4536, 6, 5], [4571, 6, 8], [4823, 9, 6], [4860, 4, 9], [4942, 5, 3], [5654, 7, 2], [5752, 5, 3], [5821, 5, 3], [5937, 5, 3], [5955, 3, 8], [6028, 5, 3], [6560, 9, 5], [6576, 7, 1], [6597, 0, 7], [6651, 0, 6], [6783, 1, 6], [8061, 4, 9], [8316, 7, 2], [8527, 4, 9], [9492, 4, 9], [9729, 5, 6], [9839, 2, 7]]\n"
     ]
    }
   ],
   "source": [
    "# index_label_prediction_list\n",
    "print(index_label_prediction_list)"
   ]
  },
  {
   "cell_type": "code",
   "execution_count": 15,
   "metadata": {
    "colab": {
     "base_uri": "https://localhost:8080/",
     "height": 127
    },
    "colab_type": "code",
    "id": "GOhDBVyopozU",
    "outputId": "3858cee3-3192-453f-f09f-e78f1b647d07"
   },
   "outputs": [
    {
     "name": "stdout",
     "output_type": "stream",
     "text": [
      "Go to this URL in a browser: https://accounts.google.com/o/oauth2/auth?client_id=947318989803-6bn6qk8qdgf4n4g3pfee6491hc0brc4i.apps.googleusercontent.com&redirect_uri=urn%3aietf%3awg%3aoauth%3a2.0%3aoob&response_type=code&scope=email%20https%3a%2f%2fwww.googleapis.com%2fauth%2fdocs.test%20https%3a%2f%2fwww.googleapis.com%2fauth%2fdrive%20https%3a%2f%2fwww.googleapis.com%2fauth%2fdrive.photos.readonly%20https%3a%2f%2fwww.googleapis.com%2fauth%2fpeopleapi.readonly\n",
      "\n",
      "Enter your authorization code:\n",
      "··········\n",
      "Mounted at /content/gdrive/\n"
     ]
    }
   ],
   "source": [
    "from google.colab import drive   # colab 사용시 mount 하기 위한 용도. local 에서는 불필요\n",
    "drive.mount('/content/gdrive/')  # colab 사용시 mount 하기 위한 용도. local 에서는 불필요"
   ]
  },
  {
   "cell_type": "code",
   "execution_count": 16,
   "metadata": {
    "colab": {
     "base_uri": "https://localhost:8080/",
     "height": 425
    },
    "colab_type": "code",
    "id": "KKHE6vNYpasj",
    "outputId": "ec276287-6f98-41c3-bb7f-f1e75a0d5354"
   },
   "outputs": [
    {
     "name": "stdout",
     "output_type": "stream",
     "text": [
      "10 image is saved now\n",
      "20 image is saved now\n",
      "30 image is saved now\n",
      "40 image is saved now\n",
      "50 image is saved now\n",
      "60 image is saved now\n",
      "Elapsed save time =>  0:00:16.099371\n",
      "Total  64  data is saved\n"
     ]
    },
    {
     "data": {
      "image/png": "[encoded data removed]",
      "text/plain": [
       "<Figure size 432x288 with 1 Axes>"
      ]
     },
     "metadata": {
      "tags": []
     },
     "output_type": "display_data"
    }
   ],
   "source": [
    "# check false data\n",
    "import os\n",
    "from datetime import datetime\n",
    "import matplotlib.pyplot as plt\n",
    "%matplotlib inline\n",
    "\n",
    "save_count = 0\n",
    "\n",
    "example_name = 'CNN_Example_5_1_'\n",
    "\n",
    "# 현재 디렉토리 저장\n",
    "curr_dir = os.getcwd()\n",
    "\n",
    "# image 저장할 디렉토리 생성. 현재 시간으로 생성\n",
    "now = datetime.now()\n",
    "\n",
    "save_dir_name = example_name + str(now.year) + '-' + str(now.month) + '-' + str(now.day) + '_' + str(now.hour) + str(now.minute) + str(now.second)\n",
    "\n",
    "colab_default_dir = '/content/gdrive/My Drive/Colab Notebooks/'\n",
    "\n",
    "os.chdir(colab_default_dir)\n",
    "os.mkdir(save_dir_name)\n",
    "\n",
    "# change dir\n",
    "os.chdir(save_dir_name)\n",
    "\n",
    "start_time = datetime.now()\n",
    "\n",
    "for list_data in index_label_prediction_list:\n",
    "    \n",
    "    index_int = list_data[0]\n",
    "    label_int = list_data[1]\n",
    "    prediction_int = list_data[2]\n",
    "    \n",
    "    # 인덱스 문자열\n",
    "    index_str = str(index_int)\n",
    "\n",
    "    # 정답 문자열\n",
    "    label_str = str(label_int)\n",
    "    \n",
    "    # 예측값 문자열\n",
    "    prediction_str = str(prediction_int)\n",
    "    \n",
    "    # 인덱스 정답 오답을 나타내는 문자열\n",
    "    index_label_prediction_str = 'index = ' + index_str + ', label = ' + label_str + ', prediction = ' + prediction_str\n",
    "    \n",
    "\n",
    "    # 저장 파일 이름 생성, str(index_int).png\n",
    "    save_image_name = str(index_int) + '.png'\n",
    "    plt.title(index_label_prediction_str)\n",
    "\n",
    "    # 저장할 이미지를 인덱스를 이용하여 가져옴\n",
    "    img = test_x_data[index_int].reshape(28,28)  \n",
    "    plt.imshow(img, cmap='gray')\n",
    "\n",
    "    plt.savefig(save_image_name)  # 파일저장\n",
    "    \n",
    "    save_count += 1\n",
    "    \n",
    "    if save_count % 10 == 0:\n",
    "        \n",
    "        print(save_count, 'image is saved now')\n",
    "            \n",
    "        \n",
    "end_time = datetime.now()\n",
    "\n",
    "print('Elapsed save time => ', end_time - start_time)\n",
    "print('Total ', save_count, \" data is saved\")        \n",
    "\n",
    "# 원래의 dir 로 복귀\n",
    "os.chdir(curr_dir)"
   ]
  },
  {
   "cell_type": "code",
   "execution_count": 0,
   "metadata": {
    "colab": {},
    "colab_type": "code",
    "id": "xQvRG8Bkpasq"
   },
   "outputs": [],
   "source": []
  }
 ],
 "metadata": {
  "accelerator": "GPU",
  "anaconda-cloud": {},
  "colab": {
   "collapsed_sections": [],
   "name": "CNN_Example_5_1.ipynb",
   "provenance": []
  },
  "kernelspec": {
   "display_name": "Python 3",
   "language": "python",
   "name": "python3"
  },
  "language_info": {
   "codemirror_mode": {
    "name": "ipython",
    "version": 3
   },
   "file_extension": ".py",
   "mimetype": "text/x-python",
   "name": "python",
   "nbconvert_exporter": "python",
   "pygments_lexer": "ipython3",
   "version": "3.7.2"
  }
 },
 "nbformat": 4,
 "nbformat_minor": 1
}
