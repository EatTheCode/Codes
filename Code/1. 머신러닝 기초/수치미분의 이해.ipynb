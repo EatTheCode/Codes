{
 "cells": [
  {
   "cell_type": "markdown",
   "metadata": {},
   "source": [
    "수치미분 코드구현\n",
    "\n",
    "시스템이란\n",
    "input, output, process의 세가지 combination\n",
    "미분의 이유\n",
    "정해놓은 출력값을 찾기 위해 미세한 변수를 대입해 값을 찾는다\n",
    "실생활에 굉장히 많이 쓰인다(전파, 일기예보).\n",
    "\n",
    "다변수 함수를 코드로 하기위해선 (행렬의 독립성 이용)\n",
    "데이터를 모두 행렬도 변경\n",
    "다중변수 또한 행렬로 변경(독립변수) 행렬의 각각의 원소를 미분하는것\n",
    "\n",
    "데이터를 통째로 받는게 편하기 때문에 함수를 하나하나 짜지 않는다"
   ]
  },
  {
   "cell_type": "code",
   "execution_count": 1,
   "metadata": {},
   "outputs": [],
   "source": [
    "import numpy as np"
   ]
  },
  {
   "cell_type": "code",
   "execution_count": 2,
   "metadata": {},
   "outputs": [],
   "source": [
    "def numerical_derivative(f, x):               \n",
    "    # 함수의 인자로 넘파이가 넘어오면 변하기 쉬움 그렇기 때문에 temp에 원본을 저장\n",
    "    delta_x = 1e-4    # lim 함수\n",
    "    grad = np.zeros_like(x)   # 입력이랑 동일할때 0으로 초기화 시킴 공간세팅\n",
    "    \n",
    "    it = np.nditer(x, flags = ['multi_index'], op_flags = ['readwrite'])\n",
    "    # 포인터의 역할, flags 끝나는 지점과 시작지점을 정해주는 값\n",
    "    while not it.finished:       # 행렬의 원소가 있는 동안\n",
    "        # 미분의 계산\n",
    "        idx = it.multi_index     # \n",
    "        \n",
    "        tmp_val = x[idx]      # 원본 보존(1번째 원소값), 다중변수를 미분할때 독립적으로 하나하나 하기위해 원본을 저장한다\n",
    "        # 하나를 바꾸고 나머지는 상수로 두고, 하나가 끝나면 그 바꾼 넘파이를 상수로 두고 다음 변수를 미분한다\n",
    "        x[idx] = float(tmp_val) + delta_x  # 변수 더하기\n",
    "        fx1 = f(x)        # f(x + delta_x)\n",
    "        \n",
    "        x[idx] = tmp_val - delta_x   # 변수 빼기\n",
    "        fx2 = f(x)        # f(x - delta_x)\n",
    "        grad[idx] = (fx1 - fx2) / (2*delta_x)   # 미분값\n",
    "        \n",
    "        x[idx] = tmp_val\n",
    "        it.iternext()\n",
    "        \n",
    "    return grad"
   ]
  },
  {
   "cell_type": "code",
   "execution_count": 3,
   "metadata": {},
   "outputs": [
    {
     "name": "stdout",
     "output_type": "stream",
     "text": [
      "[[ 8.         15.00000001]]\n"
     ]
    }
   ],
   "source": [
    "# 예시\n",
    "\n",
    "def func(W):\n",
    "    \n",
    "    x = W[0, 0]\n",
    "    y = W[0, 1]\n",
    "    \n",
    "    return 2*x + 3*x*y + y**3\n",
    "\n",
    "f = lambda W : func(W)\n",
    "\n",
    "x = np.array([[1.0, 2.0]])\n",
    "\n",
    "def numerical_derivative(f, x):               \n",
    "    # 함수의 인자로 넘파이가 넘어오면 변하기 쉬움 그렇기 때문에 temp에 원본을 저장\n",
    "    delta_x = 1e-4    # lim 함수\n",
    "    grad = np.zeros_like(x)   # 입력이랑 동일할때 0으로 초기화 시킴\n",
    "    \n",
    "    it = np.nditer(x, flags = ['multi_index'], op_flags = ['readwrite'])\n",
    "    \n",
    "    while not it.finished:       # 행렬의 원소가 있는 동안\n",
    "        # 미분의 계산\n",
    "        idx = it.multi_index     # \n",
    "        \n",
    "        tmp_val = x[idx]      # 원본 보존(1번째 원소값)\n",
    "         \n",
    "        x[idx] = float(tmp_val) + delta_x  # 변수 더하기\n",
    "        fx1 = f(x)        # f(x + delta_x)\n",
    "        \n",
    "        x[idx] = tmp_val - delta_x   # 변수 빼기\n",
    "        fx2 = f(x)        # f(x - delta_x)\n",
    "        grad[idx] = (fx1 - fx2) / (2*delta_x)   # 미분값\n",
    "        \n",
    "        x[idx] = tmp_val\n",
    "        it.iternext()\n",
    "        \n",
    "    return grad\n",
    "\n",
    "ret1 = numerical_derivative(f, x)\n",
    "print(ret1)"
   ]
  },
  {
   "cell_type": "code",
   "execution_count": 4,
   "metadata": {},
   "outputs": [
    {
     "name": "stdout",
     "output_type": "stream",
     "text": [
      "debug 1. initial input variable =  [[1. 2.]\n",
      " [3. 4.]]\n",
      "debug 2. initial grad = [[0. 0.]\n",
      " [0. 0.]]\n",
      "debug 3. idx = (0, 0) , x[idx] = 1.0\n",
      "debug 4. grad[idx] =  16.999999999995907\n",
      "debug 3. idx = (0, 1) , x[idx] = 2.0\n",
      "debug 4. grad[idx] =  1.0000000000331966\n",
      "debug 3. idx = (1, 0) , x[idx] = 3.0\n",
      "debug 4. grad[idx] =  100.00000000019327\n",
      "debug 3. idx = (1, 1) , x[idx] = 4.0\n",
      "debug 4. grad[idx] =  75.0000000000739\n",
      "[[ 17.   1.]\n",
      " [100.  75.]]\n"
     ]
    }
   ],
   "source": [
    "# 예시 2\n",
    "\n",
    "def func(W):\n",
    "    \n",
    "    w = W[0, 0]\n",
    "    x = W[0, 1]\n",
    "    y = W[1, 0]\n",
    "    z = W[1, 1]\n",
    "    \n",
    "    \n",
    "    return w*x + w*y*z + 3*w + (z*y)**2\n",
    "\n",
    "f = lambda W : func(W)\n",
    "\n",
    "x = np.array([[1.0, 2.0], [3.0, 4.0]])\n",
    "\n",
    "print('debug 1.', 'initial input variable = ', x)\n",
    "\n",
    "\n",
    "def numerical_derivative(f, x):               \n",
    "    # 함수의 인자로 넘파이가 넘어오면 변하기 쉬움 그렇기 때문에 temp에 원본을 저장\n",
    "    delta_x = 1e-4    # lim 함수\n",
    "    grad = np.zeros_like(x)   # 입력이랑 동일할때 0으로 초기화 시킴\n",
    "    print('debug 2.', 'initial grad =', grad)\n",
    "    \n",
    "    it = np.nditer(x, flags = ['multi_index'], op_flags = ['readwrite'])\n",
    "    \n",
    "    while not it.finished:       # 행렬의 원소가 있는 동안\n",
    "        # 미분의 계산\n",
    "        idx = it.multi_index     \n",
    "        \n",
    "        tmp_val = x[idx]      # 원본 보존(1번째 원소값)\n",
    "        print('debug 3.', 'idx =', idx, ',', 'x[idx] =', tmp_val)\n",
    "        x[idx] = float(tmp_val) + delta_x  # 변수 더하기\n",
    "        fx1 = f(x)        # f(x + delta_x)\n",
    "        \n",
    "        x[idx] = tmp_val - delta_x   # 변수 빼기\n",
    "        fx2 = f(x)        # f(x - delta_x)\n",
    "        grad[idx] = (fx1 - fx2) / (2*delta_x)   # 미분값\n",
    "        print('debug 4. grad[idx] = ', grad[idx])\n",
    "        \n",
    "        x[idx] = tmp_val\n",
    "        it.iternext()\n",
    "        \n",
    "    return grad\n",
    "        \n",
    "        \n",
    "ret3 = numerical_derivative(f, x)\n",
    "print(ret3)"
   ]
  },
  {
   "cell_type": "code",
   "execution_count": null,
   "metadata": {},
   "outputs": [],
   "source": []
  }
 ],
 "metadata": {
  "kernelspec": {
   "display_name": "Python 3",
   "language": "python",
   "name": "python3"
  },
  "language_info": {
   "codemirror_mode": {
    "name": "ipython",
    "version": 3
   },
   "file_extension": ".py",
   "mimetype": "text/x-python",
   "name": "python",
   "nbconvert_exporter": "python",
   "pygments_lexer": "ipython3",
   "version": "3.7.6"
  }
 },
 "nbformat": 4,
 "nbformat_minor": 4
}
