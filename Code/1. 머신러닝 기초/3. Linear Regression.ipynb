{
 "cells": [
  {
   "cell_type": "markdown",
   "metadata": {},
   "source": [
    "회귀(Regression)\n",
    "\n",
    "Training Data를 이용하여 데이터의 특성과 상관관계 등을 파악하고,\n",
    "그 결과를 바탕으로 Training Data에 없는 미지의 데이터가 주어졌을 경우에,\n",
    "그 결과를 연속적인 (숫자) 값으로 예측하는 것\n",
    "\n",
    "training data의 정답(t)과 직선 y = Wx+b 값의 차이인 오차(error)는,\n",
    "오차(error) = t – y = t – (Wx+b) 으로 계산되며,\n",
    "오차가 크다면, 우리가 임의로 설정한 직선의 가중치와 바이어스 값이 잘못된 것이고, 오\n",
    "차가 작다면 직선의 가중치와 바이어스 값이 잘 된 것이기 때문에 미래 값 예측도 정확할\n",
    "수 있다고 예상할 수 있음\n",
    "\n",
    "머신러닝은 결국 모든데이터의 오차 = t - y = t - (Wx+b)의 합이 최소가 되서, 미래 값을 잘 예측할 수 있는 가중치 W와 바이어스 b값을 찾는 시스템\n"
   ]
  },
  {
   "cell_type": "markdown",
   "metadata": {},
   "source": [
    "손실함수를 찾는 법에 대표적인게 경사하강법\n",
    "\n",
    "손실함수는 오차의 평균값을 나타내기 때문에, 손실함수가 최소값을 갖는다는 것은 실제 정답과 계산 값의 차이인 오차가 최소가 되어, 미지의 데이터에대해서 결과를 더 잘 예측 할 수 있다는 것을 의미함.\n",
    "\n",
    "이러한 손실함수는 W, b 에 영향을 받기 때문에, 손실함수가 최소가 되는 가중치 W 와 바이어스 b 를 찾는 것이 regression 을 구현하는 최종 목표임\n",
    "\n",
    "\n",
    "1. 임의의 가중치 W 선택 \n",
    "2. 그 W 에서의 직선의 기울기를 나타내는 미분 값을 구함 \n",
    "3. 그 미분 값이 작아지는 방향으로 W 감소(또는 증가) 시켜 나가면 \n",
    "4.  최종적으로 기울기가 더 이상 작아지지 않는 곳을 찾을 수 있는데, 그곳이 손실함수 E(W) 최소값임을 알 수 있음.\n",
    "- 이처럼, W에서의 직선의 기울기인 미분 값을 이용하여, 그 값이 작아지는 방향으로 진행하여 손실함수 최소값을 찾는 방법을 경사하강법(gradient decent algorithm) 이라고 함\n",
    "\n",
    "linear regression 목표는 training data 특성 / 분포를 가장 잘 나타내는 임의의 직선 y = Wx + b 에서의 [W, b] 를 구하는 것"
   ]
  },
  {
   "cell_type": "code",
   "execution_count": 1,
   "metadata": {},
   "outputs": [],
   "source": [
    "# Linear Regerssion 예시\n",
    "\n",
    "import numpy as np\n",
    "from datetime import datetime"
   ]
  },
  {
   "cell_type": "code",
   "execution_count": 2,
   "metadata": {},
   "outputs": [],
   "source": [
    "# 수치미분함수\n",
    "\n",
    "def numerical_derivative(f, x):\n",
    "    delta_x = 1e-4 # 0.0001\n",
    "    grad = np.zeros_like(x)\n",
    "    \n",
    "    it = np.nditer(x, flags=['multi_index'], op_flags=['readwrite'])\n",
    "    \n",
    "    while not it.finished:\n",
    "        idx = it.multi_index        \n",
    "        tmp_val = x[idx]\n",
    "        x[idx] = float(tmp_val) + delta_x\n",
    "        fx1 = f(x) # f(x+delta_x)\n",
    "        \n",
    "        x[idx] = tmp_val - delta_x \n",
    "        fx2 = f(x) # f(x-delta_x)\n",
    "        grad[idx] = (fx1 - fx2) / (2*delta_x)\n",
    "        \n",
    "        x[idx] = tmp_val \n",
    "        it.iternext()   \n",
    "        \n",
    "    return grad"
   ]
  },
  {
   "cell_type": "code",
   "execution_count": 5,
   "metadata": {},
   "outputs": [
    {
     "name": "stdout",
     "output_type": "stream",
     "text": [
      "x_data.shape =  (5, 1) , t_data.shape =  (5, 1)\n"
     ]
    }
   ],
   "source": [
    "x_data = np.array([1.0, 2.0, 3.0, 4.0, 5.0]).reshape(5,1)\n",
    "t_data = np.array([2.0, 3.0, 4.0, 5.0, 6.0]).reshape(5,1) \n",
    "\n",
    "print(\"x_data.shape = \", x_data.shape, \", t_data.shape = \", t_data.shape)"
   ]
  },
  {
   "cell_type": "code",
   "execution_count": 6,
   "metadata": {},
   "outputs": [
    {
     "name": "stdout",
     "output_type": "stream",
     "text": [
      "W =  [[0.42984493]] , W.shape =  (1, 1) , b =  [0.93071077] , b.shape =  (1,)\n"
     ]
    }
   ],
   "source": [
    "W = np.random.rand(1,1) #1행1열로 타입을 맞춰줌 \n",
    "b = np.random.rand(1)   \n",
    "\n",
    "print(\"W = \", W, \", W.shape = \", W.shape, \", b = \", b, \", b.shape = \", b.shape)"
   ]
  },
  {
   "cell_type": "code",
   "execution_count": 7,
   "metadata": {},
   "outputs": [],
   "source": [
    "def loss_func(x, t):\n",
    "    # 손실함수의 구현\n",
    "    y = np.dot(x,W) + b\n",
    "    \n",
    "    return ( np.sum( (\n",
    "        t - y)**2 ) ) / ( len(x) )\n",
    "# 평균 제곱오차 함수"
   ]
  },
  {
   "cell_type": "code",
   "execution_count": 8,
   "metadata": {},
   "outputs": [],
   "source": [
    "# 손실함수 값 계산 함수\n",
    "# 입력변수 x, t : numpy type\n",
    "def loss_val(x, t):\n",
    "    y = np.dot(x,W) + b\n",
    "    \n",
    "    return ( np.sum( (t - y)**2 ) ) / ( len(x) )\n",
    "\n",
    "\n",
    "# 학습을 마친 후, 임의의 데이터에 대해 미래 값 예측 함수\n",
    "# 입력변수 x : numpy type\n",
    "\n",
    "def predict(x):\n",
    "    y = np.dot(x,W) + b\n",
    "    \n",
    "    return y"
   ]
  },
  {
   "cell_type": "code",
   "execution_count": 11,
   "metadata": {},
   "outputs": [
    {
     "name": "stdout",
     "output_type": "stream",
     "text": [
      "Initial loss value =  7.018101043298731e-28 Initial W =  [[1.]] \n",
      " , b =  [1.]\n",
      "step =  0 loss value =  7.025595221898331e-28 W =  [[1.]] , b =  [1.]\n",
      "step =  400 loss value =  2.14412394039071e-28 W =  [[1.]] , b =  [1.]\n",
      "step =  800 loss value =  2.14412394039071e-28 W =  [[1.]] , b =  [1.]\n",
      "step =  1200 loss value =  2.14412394039071e-28 W =  [[1.]] , b =  [1.]\n",
      "step =  1600 loss value =  2.14412394039071e-28 W =  [[1.]] , b =  [1.]\n",
      "step =  2000 loss value =  2.14412394039071e-28 W =  [[1.]] , b =  [1.]\n",
      "step =  2400 loss value =  2.14412394039071e-28 W =  [[1.]] , b =  [1.]\n",
      "step =  2800 loss value =  2.14412394039071e-28 W =  [[1.]] , b =  [1.]\n",
      "step =  3200 loss value =  2.14412394039071e-28 W =  [[1.]] , b =  [1.]\n",
      "step =  3600 loss value =  2.14412394039071e-28 W =  [[1.]] , b =  [1.]\n",
      "step =  4000 loss value =  2.14412394039071e-28 W =  [[1.]] , b =  [1.]\n",
      "step =  4400 loss value =  2.14412394039071e-28 W =  [[1.]] , b =  [1.]\n",
      "step =  4800 loss value =  2.14412394039071e-28 W =  [[1.]] , b =  [1.]\n",
      "step =  5200 loss value =  2.14412394039071e-28 W =  [[1.]] , b =  [1.]\n",
      "step =  5600 loss value =  2.14412394039071e-28 W =  [[1.]] , b =  [1.]\n",
      "step =  6000 loss value =  2.14412394039071e-28 W =  [[1.]] , b =  [1.]\n",
      "step =  6400 loss value =  2.14412394039071e-28 W =  [[1.]] , b =  [1.]\n",
      "step =  6800 loss value =  2.14412394039071e-28 W =  [[1.]] , b =  [1.]\n",
      "step =  7200 loss value =  2.14412394039071e-28 W =  [[1.]] , b =  [1.]\n",
      "step =  7600 loss value =  2.14412394039071e-28 W =  [[1.]] , b =  [1.]\n",
      "step =  8000 loss value =  2.14412394039071e-28 W =  [[1.]] , b =  [1.]\n"
     ]
    }
   ],
   "source": [
    "learning_rate = 1e-2\n",
    "\n",
    "f = lambda x : loss_func(x_data,t_data)\n",
    "\n",
    "print(\"Initial loss value = \", loss_val(x_data, t_data), \"Initial W = \", W, \"\\n\", \", b = \", b )\n",
    "\n",
    "for step in  range(8001):  \n",
    "    \n",
    "    W -= learning_rate * numerical_derivative(f, W)\n",
    "    \n",
    "    \n",
    "    \n",
    "    b -= learning_rate * numerical_derivative(f, b)\n",
    "    \n",
    "    if (step % 400 == 0):\n",
    "        print(\"step = \", step, \"loss value = \", loss_val(x_data, t_data), \"W = \", W, \", b = \",b )"
   ]
  },
  {
   "cell_type": "code",
   "execution_count": 12,
   "metadata": {},
   "outputs": [
    {
     "data": {
      "text/plain": [
       "array([44.])"
      ]
     },
     "execution_count": 12,
     "metadata": {},
     "output_type": "execute_result"
    }
   ],
   "source": [
    "predict(np.array([43]))  \n",
    "# 예측"
   ]
  },
  {
   "cell_type": "code",
   "execution_count": null,
   "metadata": {},
   "outputs": [],
   "source": []
  }
 ],
 "metadata": {
  "kernelspec": {
   "display_name": "Python 3",
   "language": "python",
   "name": "python3"
  },
  "language_info": {
   "codemirror_mode": {
    "name": "ipython",
    "version": 3
   },
   "file_extension": ".py",
   "mimetype": "text/x-python",
   "name": "python",
   "nbconvert_exporter": "python",
   "pygments_lexer": "ipython3",
   "version": "3.7.2"
  }
 },
 "nbformat": 4,
 "nbformat_minor": 4
}
