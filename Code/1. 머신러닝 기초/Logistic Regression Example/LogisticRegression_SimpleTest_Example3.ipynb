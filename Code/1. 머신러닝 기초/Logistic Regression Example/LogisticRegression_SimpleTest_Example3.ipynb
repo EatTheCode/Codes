{
 "cells": [
  {
   "cell_type": "code",
   "execution_count": 2,
   "metadata": {},
   "outputs": [],
   "source": [
    "import numpy as np\n",
    "from datetime import datetime\n",
    "import matplotlib.pyplot as plt\n",
    "\n",
    "np.random.seed(0)\n",
    "\n",
    "def numerical_derivative(f, x):\n",
    "    delta_x = 1e-4 # 0.0001\n",
    "    grad = np.zeros_like(x)\n",
    "    \n",
    "    it = np.nditer(x, flags=['multi_index'], op_flags=['readwrite'])\n",
    "    \n",
    "    while not it.finished:\n",
    "        idx = it.multi_index        \n",
    "        tmp_val = x[idx]\n",
    "        x[idx] = float(tmp_val) + delta_x\n",
    "        fx1 = f(x) # f(x+delta_x)\n",
    "        \n",
    "        x[idx] = tmp_val - delta_x \n",
    "        fx2 = f(x) # f(x-delta_x)\n",
    "        grad[idx] = (fx1 - fx2) / (2*delta_x)\n",
    "        \n",
    "        x[idx] = tmp_val \n",
    "        it.iternext()   \n",
    "        \n",
    "    return grad\n",
    "\n",
    "\n",
    "def sigmoid(z):\n",
    "    \n",
    "    return 1 / (1+np.exp(-z))"
   ]
  },
  {
   "cell_type": "code",
   "execution_count": 3,
   "metadata": {},
   "outputs": [],
   "source": [
    "class SimpleClassificationTest:\n",
    "    \n",
    "    # constructor\n",
    "    def __init__(self, xdata, tdata, learning_rate, iteration_count, cross_entropy=True):\n",
    "            \n",
    "        # 가중치 W 형상을 자동으로 구하기 위해 입력데이터가 vector 인지,\n",
    "        # 아니면 matrix 인지 체크 후, \n",
    "        # self.xdata 는 무조건 matrix 로 만들어 주면 코드 일관성이 있음\n",
    "        \n",
    "        if xdata.ndim == 1:    # vector 차원으로 들어오면 행렬로 바꿔줌\n",
    "            self.xdata = xdata.reshape(len(xdata), 1)\n",
    "            self.tdata = xdata.reshape(len(tdata), 1)\n",
    "            \n",
    "        elif xdata.ndim == 2:  # matrix 행렬로 들어옴\n",
    "            self.xdata = xdata\n",
    "            self.tdata = tdata\n",
    "        \n",
    "        self.learning_rate = learning_rate\n",
    "        self.iteration_count = iteration_count\n",
    "        \n",
    "        self.W = np.random.rand(self.xdata.shape[1], 1) \n",
    "        self.b = np.random.rand(1)\n",
    "        \n",
    "        self.cross_entropy = cross_entropy\n",
    "        \n",
    "        self.loss_val_list = []\n",
    "        # 빈 손실함수 리스트를 생성, 리턴값을 대기\n",
    "        \n",
    "        print(\"SimpleClassificationTest Object is created\")\n",
    "        \n",
    "        if cross_entropy == True:\n",
    "            print('loss function is set to cross entropy')\n",
    "        else:\n",
    "            print('loss function is set to MSE')\n",
    "        \n",
    "        \n",
    "    # obtain current W and current b\n",
    "    def getW_b(self):\n",
    "        \n",
    "        return self.W, self.b\n",
    "    \n",
    "    \n",
    "    # loss function\n",
    "    def loss_func(self):\n",
    "    \n",
    "        z = np.dot(self.xdata, self.W) + self.b\n",
    "        \n",
    "        y = sigmoid(z)\n",
    "    \n",
    "        if self.cross_entropy == True:\n",
    "            \n",
    "            delta = 1e-7    # log 무한대 발산 방지\n",
    "            \n",
    "            # cross-entropy \n",
    "            return  -np.sum( self.tdata*np.log(y + delta) + (1-self.tdata)*np.log((1 - y)+delta ) ) \n",
    "        \n",
    "        else:  # loss function == MSE\n",
    "            \n",
    "            return ( np.sum((self.tdata-y)**2) ) / ( len(self.xdata) )\n",
    "            \n",
    "    \n",
    "    # display current error value\n",
    "    def error_val(self):\n",
    "        \n",
    "        z = np.dot(self.xdata, self.W) + self.b\n",
    "        \n",
    "        y = sigmoid(z)\n",
    "    \n",
    "        if self.cross_entropy == True:\n",
    "            \n",
    "            delta = 1e-7    # log 무한대 발산 방지\n",
    "                \n",
    "            # cross-entropy \n",
    "            return  -np.sum( self.tdata*np.log(y + delta) + (1-self.tdata)*np.log((1 - y)+delta ) ) \n",
    "        \n",
    "        else:  # loss function == MSE\n",
    "            \n",
    "            return ( np.sum((self.tdata-y)**2) ) / ( len(self.xdata) )\n",
    "    \n",
    "    \n",
    "    # predict method\n",
    "    # 학습을 마친 후, 임의의 데이터에 대해 미래 값 예측 함수\n",
    "    # 입력변수 x : numpy type\n",
    "    def predict(self, test_data):\n",
    "    \n",
    "        z = np.dot(test_data, self.W) + self.b\n",
    "        y = sigmoid(z)\n",
    "    \n",
    "        if y >= 0.5:\n",
    "            result = 1  # True\n",
    "        else:\n",
    "            result = 0  # False\n",
    "    \n",
    "        return y, result\n",
    "    \n",
    "    \n",
    "    def display_loss_val(self):\n",
    "        \n",
    "        if len(self.loss_val_list) == 0:\n",
    "            print('loss_val is currently empty')\n",
    "            return\n",
    "        \n",
    "        plt.title('Loss Value Trend')\n",
    "        plt.ylabel('loss value')\n",
    "        plt.grid()\n",
    "        \n",
    "        plt.plot(self.loss_val_list)\n",
    "        plt.show()\n",
    "        \n",
    "    # train method\n",
    "    def train(self):\n",
    "    \n",
    "        f = lambda x : self.loss_func()\n",
    "\n",
    "        print(\"Initial error value = \", self.error_val() )\n",
    "\n",
    "        start_time = datetime.now()\n",
    "        \n",
    "        for step in  range(self.iteration_count):  \n",
    "    \n",
    "            self.W -= self.learning_rate * numerical_derivative(f, self.W)\n",
    "    \n",
    "            self.b -= self.learning_rate * numerical_derivative(f, self.b)\n",
    "    \n",
    "            if (step % (int)(0.05*self.iteration_count) == 0):\n",
    "            \n",
    "                current_loss_val = self.error_val()                \n",
    "                print(\"step = \", step, \"error value = \", current_loss_val )                \n",
    "                self.loss_val_list.append(current_loss_val)\n",
    "                \n",
    "                \n",
    "        end_time = datetime.now()\n",
    "        \n",
    "        print(\"\")\n",
    "        print(\"Elapsed Time => \", end_time - start_time)"
   ]
  },
  {
   "cell_type": "code",
   "execution_count": 4,
   "metadata": {},
   "outputs": [
    {
     "name": "stdout",
     "output_type": "stream",
     "text": [
      "x_data.shape =  (9, 2) , t_data.shape =  (9, 1)\n"
     ]
    }
   ],
   "source": [
    "# 입력데이터 / 정답데이터 세팅\n",
    "\n",
    "x_data = np.array( [ [2, 4], [4, 11], [6, 6], [8, 5], [10, 7], [12, 16], [14, 8], [16, 3], [18, 7] ] )\n",
    "t_data = np.array( [0, 0, 0, 0, 1, 1, 1, 1, 1] ).reshape(9, 1)\n",
    "\n",
    "print(\"x_data.shape = \", x_data.shape, \", t_data.shape = \", t_data.shape)"
   ]
  },
  {
   "cell_type": "markdown",
   "metadata": {},
   "source": [
    "### learning_rate = 1e-2,  반복횟수 100,000번 수행하는 obj1, cross-entropy version"
   ]
  },
  {
   "cell_type": "code",
   "execution_count": 5,
   "metadata": {},
   "outputs": [
    {
     "name": "stdout",
     "output_type": "stream",
     "text": [
      "SimpleClassificationTest Object is created\n",
      "loss function is set to cross entropy\n",
      "Initial error value =  31.987989823677083\n",
      "step =  0 error value =  21.153788725085356\n",
      "step =  5000 error value =  0.6053721152076603\n",
      "step =  10000 error value =  0.40460866102297394\n",
      "step =  15000 error value =  0.3071718920969423\n",
      "step =  20000 error value =  0.24747210708062592\n",
      "step =  25000 error value =  0.20700760661345197\n",
      "step =  30000 error value =  0.17778892255032153\n",
      "step =  35000 error value =  0.15571997276750377\n",
      "step =  40000 error value =  0.1384756571832395\n",
      "step =  45000 error value =  0.12463783640271144\n",
      "step =  50000 error value =  0.11329289089055232\n",
      "step =  55000 error value =  0.10382607297876789\n",
      "step =  60000 error value =  0.0958087786727904\n",
      "step =  65000 error value =  0.08893319980169334\n",
      "step =  70000 error value =  0.08297266025182302\n",
      "step =  75000 error value =  0.077756594039045\n",
      "step =  80000 error value =  0.07315423152396949\n",
      "step =  85000 error value =  0.06906365588118415\n",
      "step =  90000 error value =  0.06540427703696026\n",
      "step =  95000 error value =  0.06211154104068024\n",
      "step =  100000 error value =  0.059133137662895505\n",
      "\n",
      "Elapsed Time =>  0:00:46.152195\n"
     ]
    }
   ],
   "source": [
    "obj1 = SimpleClassificationTest(x_data, t_data, 1e-2, 100001)\n",
    "\n",
    "obj1.train()"
   ]
  },
  {
   "cell_type": "code",
   "execution_count": 6,
   "metadata": {},
   "outputs": [
    {
     "name": "stdout",
     "output_type": "stream",
     "text": [
      "[0.15441576] 0\n"
     ]
    }
   ],
   "source": [
    "test_data = np.array([3, 17])\n",
    "\n",
    "(real_val, logical_val) = obj1.predict(test_data)\n",
    "\n",
    "print(real_val, logical_val)"
   ]
  },
  {
   "cell_type": "code",
   "execution_count": 7,
   "metadata": {},
   "outputs": [
    {
     "name": "stdout",
     "output_type": "stream",
     "text": [
      "[0.0007137] 0\n"
     ]
    }
   ],
   "source": [
    "test_data = np.array([5, 8])\n",
    "\n",
    "(real_val, logical_val) = obj1.predict(test_data)\n",
    "\n",
    "print(real_val, logical_val)"
   ]
  },
  {
   "cell_type": "code",
   "execution_count": 8,
   "metadata": {},
   "outputs": [
    {
     "name": "stdout",
     "output_type": "stream",
     "text": [
      "[0.99999641] 1\n"
     ]
    }
   ],
   "source": [
    "test_data = np.array([7, 21])\n",
    "\n",
    "(real_val, logical_val) = obj1.predict(test_data)\n",
    "\n",
    "print(real_val, logical_val)"
   ]
  },
  {
   "cell_type": "code",
   "execution_count": 9,
   "metadata": {},
   "outputs": [
    {
     "name": "stdout",
     "output_type": "stream",
     "text": [
      "[0.59986773] 1\n"
     ]
    }
   ],
   "source": [
    "test_data = np.array([12, 0])\n",
    "\n",
    "(real_val, logical_val) = obj1.predict(test_data)\n",
    "\n",
    "print(real_val, logical_val)"
   ]
  },
  {
   "cell_type": "code",
   "execution_count": 10,
   "metadata": {},
   "outputs": [
    {
     "name": "stdout",
     "output_type": "stream",
     "text": [
      "W =  [[2.40840257]\n",
      " [1.15119589]] , b =  [-28.49591689]\n"
     ]
    }
   ],
   "source": [
    "(W, b) = obj1.getW_b()\n",
    "\n",
    "print('W = ', W, ', b = ', b)"
   ]
  },
  {
   "cell_type": "code",
   "execution_count": 11,
   "metadata": {},
   "outputs": [
    {
     "data": {
      "image/png": "[encoded data removed]",
      "text/plain": [
       "<Figure size 432x288 with 1 Axes>"
      ]
     },
     "metadata": {
      "needs_background": "light"
     },
     "output_type": "display_data"
    }
   ],
   "source": [
    "obj1.display_loss_val()"
   ]
  },
  {
   "cell_type": "markdown",
   "metadata": {},
   "source": [
    "### learning_rate = 1e-2,  반복횟수 100,000번 수행하는 obj1, MSE version"
   ]
  },
  {
   "cell_type": "code",
   "execution_count": 12,
   "metadata": {},
   "outputs": [
    {
     "name": "stdout",
     "output_type": "stream",
     "text": [
      "SimpleClassificationTest Object is created\n",
      "loss function is set to MSE\n",
      "Initial error value =  0.4369328787030761\n",
      "step =  0 error value =  0.43692012599142954\n",
      "step =  5000 error value =  0.09700066123308711\n",
      "step =  10000 error value =  0.06359721020524348\n",
      "step =  15000 error value =  0.049704085633447\n",
      "step =  20000 error value =  0.04206309215063417\n",
      "step =  25000 error value =  0.037143733382996105\n",
      "step =  30000 error value =  0.03364438012696055\n",
      "step =  35000 error value =  0.030979977967089692\n",
      "step =  40000 error value =  0.028850187469966055\n",
      "step =  45000 error value =  0.027085256551655203\n",
      "step =  50000 error value =  0.02558199298560566\n",
      "step =  55000 error value =  0.024274021647344185\n",
      "step =  60000 error value =  0.023116710355965176\n",
      "step =  65000 error value =  0.022078965384584797\n",
      "step =  70000 error value =  0.021138486432206626\n",
      "step =  75000 error value =  0.020278874839471845\n",
      "step =  80000 error value =  0.019487792677341714\n",
      "step =  85000 error value =  0.018755750869978827\n",
      "step =  90000 error value =  0.018075292518497477\n",
      "step =  95000 error value =  0.017440433973190138\n",
      "step =  100000 error value =  0.01684627808918244\n",
      "\n",
      "Elapsed Time =>  0:00:30.103874\n"
     ]
    }
   ],
   "source": [
    "obj2 = SimpleClassificationTest(x_data, t_data, 1e-2, 100001, False)\n",
    "\n",
    "obj2.train()"
   ]
  },
  {
   "cell_type": "code",
   "execution_count": 13,
   "metadata": {},
   "outputs": [
    {
     "name": "stdout",
     "output_type": "stream",
     "text": [
      "[0.08045049] 0\n"
     ]
    }
   ],
   "source": [
    "test_data = np.array([3, 17])\n",
    "\n",
    "(real_val, logical_val) = obj2.predict(test_data)\n",
    "\n",
    "print(real_val, logical_val)"
   ]
  },
  {
   "cell_type": "code",
   "execution_count": 14,
   "metadata": {},
   "outputs": [
    {
     "name": "stdout",
     "output_type": "stream",
     "text": [
      "[0.06047055] 0\n"
     ]
    }
   ],
   "source": [
    "test_data = np.array([5, 8])\n",
    "\n",
    "(real_val, logical_val) = obj2.predict(test_data)\n",
    "\n",
    "print(real_val, logical_val)"
   ]
  },
  {
   "cell_type": "code",
   "execution_count": 15,
   "metadata": {},
   "outputs": [
    {
     "name": "stdout",
     "output_type": "stream",
     "text": [
      "[0.83671123] 1\n"
     ]
    }
   ],
   "source": [
    "test_data = np.array([7, 21])\n",
    "\n",
    "(real_val, logical_val) = obj2.predict(test_data)\n",
    "\n",
    "print(real_val, logical_val)"
   ]
  },
  {
   "cell_type": "code",
   "execution_count": 15,
   "metadata": {},
   "outputs": [
    {
     "name": "stdout",
     "output_type": "stream",
     "text": [
      "[0.76600365] 1\n"
     ]
    }
   ],
   "source": [
    "test_data = np.array([12, 0])\n",
    "\n",
    "(real_val, logical_val) = obj2.predict(test_data)\n",
    "\n",
    "print(real_val, logical_val)"
   ]
  },
  {
   "cell_type": "code",
   "execution_count": 16,
   "metadata": {},
   "outputs": [
    {
     "name": "stdout",
     "output_type": "stream",
     "text": [
      "W =  [[0.8046337 ]\n",
      " [0.21291647]] , b =  [-8.46972302]\n"
     ]
    }
   ],
   "source": [
    "(W, b) = obj2.getW_b()\n",
    "\n",
    "print('W = ', W, ', b = ', b)"
   ]
  },
  {
   "cell_type": "code",
   "execution_count": 18,
   "metadata": {},
   "outputs": [
    {
     "data": {
      "image/png": "[encoded data removed]",
      "text/plain": [
       "<Figure size 432x288 with 1 Axes>"
      ]
     },
     "metadata": {
      "needs_background": "light"
     },
     "output_type": "display_data"
    }
   ],
   "source": [
    "obj2.display_loss_val()"
   ]
  },
  {
   "cell_type": "code",
   "execution_count": null,
   "metadata": {},
   "outputs": [],
   "source": []
  }
 ],
 "metadata": {
  "anaconda-cloud": {},
  "kernelspec": {
   "display_name": "Python 3",
   "language": "python",
   "name": "python3"
  },
  "language_info": {
   "codemirror_mode": {
    "name": "ipython",
    "version": 3
   },
   "file_extension": ".py",
   "mimetype": "text/x-python",
   "name": "python",
   "nbconvert_exporter": "python",
   "pygments_lexer": "ipython3",
   "version": "3.7.6"
  }
 },
 "nbformat": 4,
 "nbformat_minor": 1
}
