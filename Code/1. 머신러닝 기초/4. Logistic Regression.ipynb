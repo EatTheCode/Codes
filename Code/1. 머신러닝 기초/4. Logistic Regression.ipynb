{
 "cells": [
  {
   "cell_type": "markdown",
   "metadata": {},
   "source": [
    "분류(Classification)\n",
    " - Training Data 특성과 관계 등을 파악 한 후에, 미지의 입력 데이터에 대해서 결과가 어떤 종류의 값으로 분류 될 수 있는지를 예측하는 것\n",
    "   (예) 스팸문자 분류 [Spam(1) or Ham(0)], 암 판별 [악성종양(1) or 종양(0)]\n",
    "\n",
    "Logistic Regression 알고리즘의 이해\n",
    "1. Training Data 특성과 분포를 나타내는 최적의 직선을 찾고(Linear Regression)\n",
    "2. 그 직선을 기준으로 데이터를 위(1) 또는 아래(0) 등으로 분류(Classification) 해주는 알고리즘\n",
    "- 이러한 Logistic Regression은 Classification 알고리즘 중에서도 정확도가 높은 알고리즘으로 알려져 있어서 Deep Learning에서 기본적으로 사용되고 있음\n",
    "\n",
    "출력 값 y 가 1 또는 0 만을 가져야만 하는 분류(classification) 시스템에서, 함수 값으로 0~1 사이의 값을 가지는 sigmoid 함수를 사용 할 수 있음\n",
    "- 즉, linear regression 출력 Wx+b 가 어떤 값을 갖더라도, 출력 함수로 sigmoid 를 사용해서 sigmoid 계산 값이 0.5보다 크면 결과로 1 이 나올 확률이 높다는 것이기 때문\n",
    "에 출력 값 y 는 1 을 정의하고\n",
    "sigmoid 계산 값이 0.5 미만이면 결과로 0 이 나올 확률이 높다는 것이므로 출력 값 y는 0 정의하여 classification 시스템을 구현할 수 있음\n",
    "\n",
    "- sigmoid 함수의 실제 계산 값 sigmoid(z)는 결과가 나타날 확률을 의미함\n",
    "\n",
    "그에따른 손실함수로  Cross Entropy 라는 계산법이 유도되었다\n",
    "\n",
    "-분류시스템(classification) 최종 출력 값 y 는 sigmoid 함수에 의해 논리적으로 1 또는 0 값을 가지기 때문에, 연속 값을 갖는 선형회귀 때와는 다른 손실함수 필요함\n",
    "\n",
    "손실함수 계산 -cross entropy or MSE 둘다 가능\n",
    "cross entropy 는 속도와 성능이 좀더 높음\n",
    "\n",
    "데이터 전처리 -> regression and Classification -> 손실함수 계산 -> w 와 b 값 찾기"
   ]
  },
  {
   "cell_type": "code",
   "execution_count": 6,
   "metadata": {},
   "outputs": [],
   "source": [
    "import numpy as np\n",
    "from datetime import datetime"
   ]
  },
  {
   "cell_type": "code",
   "execution_count": 2,
   "metadata": {},
   "outputs": [],
   "source": [
    "# sigmoid 함수\n",
    "\n",
    "def sigmoid(z):\n",
    "    return 1 / (1+np.exp(-z))"
   ]
  },
  {
   "cell_type": "code",
   "execution_count": 7,
   "metadata": {},
   "outputs": [],
   "source": [
    "# 수치미분\n",
    "\n",
    "def numerical_derivative(f, x):\n",
    "    delta_x = 1e-4 # 0.0001\n",
    "    grad = np.zeros_like(x)\n",
    "    \n",
    "    it = np.nditer(x, flags=['multi_index'], op_flags=['readwrite'])\n",
    "    \n",
    "    while not it.finished:\n",
    "        idx = it.multi_index        \n",
    "        tmp_val = x[idx]\n",
    "        x[idx] = float(tmp_val) + delta_x\n",
    "        fx1 = f(x) # f(x+delta_x)\n",
    "        \n",
    "        x[idx] = tmp_val - delta_x \n",
    "        fx2 = f(x) # f(x-delta_x)\n",
    "        grad[idx] = (fx1 - fx2) / (2*delta_x)\n",
    "        \n",
    "        x[idx] = tmp_val \n",
    "        it.iternext()   \n",
    "        \n",
    "    return grad"
   ]
  },
  {
   "cell_type": "code",
   "execution_count": 8,
   "metadata": {},
   "outputs": [
    {
     "name": "stdout",
     "output_type": "stream",
     "text": [
      "x_data.shape =  (10, 1) , t_data.shape =  (10, 1)\n"
     ]
    }
   ],
   "source": [
    "x_data = np.array([2.0, 4.0, 6.0, 8.0, 10.0, 12.0, 14.0, 16.0, 18.0, 20.0]).reshape(10,1)\n",
    "t_data = np.array([0, 0, 0, 0, 0, 0, 1, 1, 1, 1]).reshape(10,1) \n",
    "\n",
    "print(\"x_data.shape = \", x_data.shape, \", t_data.shape = \", t_data.shape)"
   ]
  },
  {
   "cell_type": "code",
   "execution_count": 9,
   "metadata": {},
   "outputs": [
    {
     "name": "stdout",
     "output_type": "stream",
     "text": [
      "W =  [[0.37216337]] , W.shape =  (1, 1) , b =  [0.02542853] , b.shape =  (1,)\n"
     ]
    }
   ],
   "source": [
    "W = np.random.rand(1,1)\n",
    "b = np.random.rand(1) \n",
    "print(\"W = \", W, \", W.shape = \", W.shape, \", b = \", b, \", b.shape = \", b.shape)"
   ]
  },
  {
   "cell_type": "code",
   "execution_count": 13,
   "metadata": {},
   "outputs": [],
   "source": [
    "# Cross Entropy\n",
    "\n",
    "def loss_func(x, t):\n",
    "    delta = 1e-7    # log 무한대 발산 방지\n",
    "    \n",
    "    z = np.dot(x, W) + b\n",
    "    y = sigmoid(z)\n",
    "    \n",
    "    # cross-entropy \n",
    "    return  -np.sum( t*np.log(y + delta) + (1-t)*np.log((1 - y)+delta ) ) "
   ]
  },
  {
   "cell_type": "code",
   "execution_count": 14,
   "metadata": {},
   "outputs": [],
   "source": [
    "# Classification  예시\n",
    "\n",
    "# 손실함수 값 계산 함수\n",
    "# 입력변수 x, t : numpy type\n",
    "def loss_val(x, t):\n",
    "    z = np.dot(x,W) + b\n",
    "    y = sigmoid(z)\n",
    "    \n",
    "    return ( np.sum( (t - y)**2 ) ) / ( len(x) )\n",
    "\n",
    "\n",
    "# 학습을 마친 후, 임의의 데이터에 대해 미래 값 예측 함수\n",
    "# 입력변수 x : numpy type\n",
    "\n",
    "def predict(test_data):\n",
    "    \n",
    "    z = np.dot(test_data, W) + b\n",
    "    y = sigmoid(z)\n",
    "    \n",
    "    if y >= 0.5:\n",
    "        result = 1  # True\n",
    "    else:\n",
    "        result = 0  # False\n",
    "    \n",
    "    return y, result"
   ]
  },
  {
   "cell_type": "code",
   "execution_count": 15,
   "metadata": {},
   "outputs": [
    {
     "name": "stdout",
     "output_type": "stream",
     "text": [
      "Initial error value =  0.4799142326586985\n",
      "step =  0 error value =  0.266685673129457\n",
      "step =  5000 error value =  0.017841043691897436\n",
      "step =  10000 error value =  0.011868481050024042\n",
      "step =  15000 error value =  0.008886935542961862\n",
      "step =  20000 error value =  0.007015379147134336\n",
      "step =  25000 error value =  0.0057182835614895625\n",
      "step =  30000 error value =  0.004766602498542394\n",
      "step =  35000 error value =  0.004041318953863799\n",
      "step =  40000 error value =  0.0034730586836429775\n",
      "step =  45000 error value =  0.003018193446643813\n",
      "step =  50000 error value =  0.0026477612871133238\n",
      "step =  55000 error value =  0.002341738083586398\n",
      "step =  60000 error value =  0.0020858308481926636\n",
      "step =  65000 error value =  0.0018695707902864661\n",
      "step =  70000 error value =  0.0016851241166595502\n",
      "step =  75000 error value =  0.001526521416820757\n",
      "step =  80000 error value =  0.0013891422272413355\n",
      "step =  85000 error value =  0.001269360968658352\n",
      "step =  90000 error value =  0.0011642981335981861\n",
      "step =  95000 error value =  0.0010716419542103393\n",
      "step =  100000 error value =  0.0009895183563344713\n",
      "\n",
      "Elapsed Time =>  0:00:13.074675\n"
     ]
    }
   ],
   "source": [
    "learning_rate = 1e-2  # 발산하는 경우, 1e-3 ~ 1e-6 등으로 바꾸어서 실행\n",
    "\n",
    "f = lambda x : loss_func(x_data,t_data)  \n",
    "\n",
    "print(\"Initial error value = \", loss_val(x_data, t_data) )\n",
    "\n",
    "start_time = datetime.now()\n",
    "\n",
    "for step in  range(100001):  \n",
    "    \n",
    "    W -= learning_rate * numerical_derivative(f, W)\n",
    "    \n",
    "    b -= learning_rate * numerical_derivative(f, b)\n",
    "    \n",
    "    if (step % 5000 == 0):\n",
    "        print(\"step = \", step, \"error value = \", loss_val(x_data, t_data) )\n",
    "        \n",
    "end_time = datetime.now()\n",
    "        \n",
    "print(\"\")\n",
    "print(\"Elapsed Time => \", end_time - start_time)"
   ]
  },
  {
   "cell_type": "code",
   "execution_count": 16,
   "metadata": {},
   "outputs": [
    {
     "name": "stdout",
     "output_type": "stream",
     "text": [
      "[0.52082799] 1\n"
     ]
    }
   ],
   "source": [
    "t = np.array([13.0])\n",
    "\n",
    "(real_val, logical_val) = predict(t)\n",
    "\n",
    "print(real_val, logical_val)"
   ]
  },
  {
   "cell_type": "code",
   "execution_count": null,
   "metadata": {},
   "outputs": [],
   "source": []
  }
 ],
 "metadata": {
  "kernelspec": {
   "display_name": "Python 3",
   "language": "python",
   "name": "python3"
  },
  "language_info": {
   "codemirror_mode": {
    "name": "ipython",
    "version": 3
   },
   "file_extension": ".py",
   "mimetype": "text/x-python",
   "name": "python",
   "nbconvert_exporter": "python",
   "pygments_lexer": "ipython3",
   "version": "3.7.6"
  }
 },
 "nbformat": 4,
 "nbformat_minor": 4
}
