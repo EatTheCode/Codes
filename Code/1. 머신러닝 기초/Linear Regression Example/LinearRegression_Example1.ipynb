{
 "cells": [
  {
   "cell_type": "code",
   "execution_count": 2,
   "metadata": {},
   "outputs": [],
   "source": [
    "import numpy as np\n",
    "\n",
    "np.random.seed(0)\n",
    "#랜덤값을 고정시킬때 사용"
   ]
  },
  {
   "cell_type": "code",
   "execution_count": 4,
   "metadata": {},
   "outputs": [],
   "source": [
    "# 수치미분함수\n",
    "\n",
    "def numerical_derivative(f, x):\n",
    "    delta_x = 1e-4 # 0.0001\n",
    "    grad = np.zeros_like(x)\n",
    "    \n",
    "    it = np.nditer(x, flags=['multi_index'], op_flags=['readwrite'])\n",
    "    \n",
    "    while not it.finished:\n",
    "        idx = it.multi_index        \n",
    "        tmp_val = x[idx]\n",
    "        x[idx] = float(tmp_val) + delta_x\n",
    "        fx1 = f(x) # f(x+delta_x)\n",
    "        \n",
    "        x[idx] = tmp_val - delta_x \n",
    "        fx2 = f(x) # f(x-delta_x)\n",
    "        grad[idx] = (fx1 - fx2) / (2*delta_x)\n",
    "        \n",
    "        x[idx] = tmp_val \n",
    "        it.iternext()   \n",
    "        \n",
    "    return grad"
   ]
  },
  {
   "cell_type": "code",
   "execution_count": 5,
   "metadata": {},
   "outputs": [
    {
     "name": "stdout",
     "output_type": "stream",
     "text": [
      "x_data.shape =  (5, 1) , t_data.shape =  (5, 1)\n"
     ]
    }
   ],
   "source": [
    "x_data = np.array([1.0, 2.0, 3.0, 4.0, 5.0]).reshape(5,1)\n",
    "t_data = np.array([2.0, 3.0, 4.0, 5.0, 6.0]).reshape(5,1) \n",
    "\n",
    "print(\"x_data.shape = \", x_data.shape, \", t_data.shape = \", t_data.shape)"
   ]
  },
  {
   "cell_type": "code",
   "execution_count": 6,
   "metadata": {},
   "outputs": [
    {
     "name": "stdout",
     "output_type": "stream",
     "text": [
      "W =  [[0.5488135]] , W.shape =  (1, 1) , b =  [0.71518937] , b.shape =  (1,)\n"
     ]
    }
   ],
   "source": [
    "W = np.random.rand(1,1) #1행1렬로 타입을 맞춰줌 \n",
    "b = np.random.rand(1)   # \n",
    "\n",
    "print(\"W = \", W, \", W.shape = \", W.shape, \", b = \", b, \", b.shape = \", b.shape)"
   ]
  },
  {
   "cell_type": "code",
   "execution_count": 8,
   "metadata": {},
   "outputs": [],
   "source": [
    "def loss_func(x, t):\n",
    "    y = np.dot(x,W) + b\n",
    "    \n",
    "    return ( np.sum( (\n",
    "        t - y)**2 ) ) / ( len(x) )"
   ]
  },
  {
   "cell_type": "code",
   "execution_count": 9,
   "metadata": {},
   "outputs": [],
   "source": [
    "# 손실함수 값 계산 함수\n",
    "# 입력변수 x, t : numpy type\n",
    "def loss_val(x, t):\n",
    "    y = np.dot(x,W) + b\n",
    "    \n",
    "    return ( np.sum( (t - y)**2 ) ) / ( len(x) )\n",
    "\n",
    "\n",
    "# 학습을 마친 후, 임의의 데이터에 대해 미래 값 예측 함수\n",
    "# 입력변수 x : numpy type\n",
    "\n",
    "def predict(x):\n",
    "    y = np.dot(x,W) + b\n",
    "    \n",
    "    return y"
   ]
  },
  {
   "cell_type": "code",
   "execution_count": 21,
   "metadata": {
    "scrolled": true
   },
   "outputs": [
    {
     "name": "stdout",
     "output_type": "stream",
     "text": [
      "Initial loss value =  30.829797844085522 Initial W =  [[-0.36698212]] \n",
      " , b =  [-0.10410095]\n",
      "step =  0 loss value =  47.38534893658277 W =  [[-0.73396425]] , b =  [-0.23022082]\n",
      "step =  400 loss value =  1.8202575032210863e+25 W =  [[-1.23209996e+12]] , b =  [-1.98110775e+11]\n",
      "step =  800 loss value =  1.8202575032210863e+25 W =  [[-1.23209996e+12]] , b =  [-1.98110775e+11]\n",
      "step =  1200 loss value =  1.8202575032210863e+25 W =  [[-1.23209996e+12]] , b =  [-1.98110775e+11]\n",
      "step =  1600 loss value =  1.8202575032210863e+25 W =  [[-1.23209996e+12]] , b =  [-1.98110775e+11]\n",
      "step =  2000 loss value =  1.8202575032210863e+25 W =  [[-1.23209996e+12]] , b =  [-1.98110775e+11]\n",
      "step =  2400 loss value =  1.8202575032210863e+25 W =  [[-1.23209996e+12]] , b =  [-1.98110775e+11]\n",
      "step =  2800 loss value =  1.8202575032210863e+25 W =  [[-1.23209996e+12]] , b =  [-1.98110775e+11]\n",
      "step =  3200 loss value =  1.8202575032210863e+25 W =  [[-1.23209996e+12]] , b =  [-1.98110775e+11]\n",
      "step =  3600 loss value =  1.8202575032210863e+25 W =  [[-1.23209996e+12]] , b =  [-1.98110775e+11]\n",
      "step =  4000 loss value =  1.8202575032210863e+25 W =  [[-1.23209996e+12]] , b =  [-1.98110775e+11]\n",
      "step =  4400 loss value =  1.8202575032210863e+25 W =  [[-1.23209996e+12]] , b =  [-1.98110775e+11]\n",
      "step =  4800 loss value =  1.8202575032210863e+25 W =  [[-1.23209996e+12]] , b =  [-1.98110775e+11]\n",
      "step =  5200 loss value =  1.8202575032210863e+25 W =  [[-1.23209996e+12]] , b =  [-1.98110775e+11]\n",
      "step =  5600 loss value =  1.8202575032210863e+25 W =  [[-1.23209996e+12]] , b =  [-1.98110775e+11]\n",
      "step =  6000 loss value =  1.8202575032210863e+25 W =  [[-1.23209996e+12]] , b =  [-1.98110775e+11]\n",
      "step =  6400 loss value =  1.8202575032210863e+25 W =  [[-1.23209996e+12]] , b =  [-1.98110775e+11]\n",
      "step =  6800 loss value =  1.8202575032210863e+25 W =  [[-1.23209996e+12]] , b =  [-1.98110775e+11]\n",
      "step =  7200 loss value =  1.8202575032210863e+25 W =  [[-1.23209996e+12]] , b =  [-1.98110775e+11]\n",
      "step =  7600 loss value =  1.8202575032210863e+25 W =  [[-1.23209996e+12]] , b =  [-1.98110775e+11]\n",
      "step =  8000 loss value =  1.8202575032210863e+25 W =  [[-1.23209996e+12]] , b =  [-1.98110775e+11]\n"
     ]
    }
   ],
   "source": [
    "learning_rate = 1e-2\n",
    "\n",
    "f = lambda x : loss_func(x_data,t_data)\n",
    "\n",
    "print(\"Initial loss value = \", loss_val(x_data, t_data), \"Initial W = \", W, \"\\n\", \", b = \", b )\n",
    "\n",
    "for step in  range(8001):  \n",
    "    \n",
    "    W -= learning_rate * numerical_derivative(f, W)\n",
    "    \n",
    "    ...............................................................................................................................................................................................................................\n",
    "    \n",
    "    \n",
    "    b -= learning_rate * numerical_derivative(f, b)\n",
    "    \n",
    "    if (step % 400 == 0):\n",
    "        print(\"step = \", step, \"loss value = \", loss_val(x_data, t_data), \"W = \", W, \", b = \",b )"
   ]
  },
  {
   "cell_type": "code",
   "execution_count": 11,
   "metadata": {},
   "outputs": [
    {
     "data": {
      "text/plain": [
       "array([44.])"
      ]
     },
     "execution_count": 11,
     "metadata": {},
     "output_type": "execute_result"
    }
   ],
   "source": [
    "predict(np.array([43]))  "
   ]
  },
  {
   "cell_type": "code",
   "execution_count": null,
   "metadata": {},
   "outputs": [],
   "source": []
  }
 ],
 "metadata": {
  "anaconda-cloud": {},
  "kernelspec": {
   "display_name": "Python 3",
   "language": "python",
   "name": "python3"
  },
  "language_info": {
   "codemirror_mode": {
    "name": "ipython",
    "version": 3
   },
   "file_extension": ".py",
   "mimetype": "text/x-python",
   "name": "python",
   "nbconvert_exporter": "python",
   "pygments_lexer": "ipython3",
   "version": "3.7.6"
  }
 },
 "nbformat": 4,
 "nbformat_minor": 1
}
